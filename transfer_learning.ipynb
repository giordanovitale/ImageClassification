{
  "cells": [
    {
      "cell_type": "markdown",
      "metadata": {
        "id": "CVDnaRaJr7qn"
      },
      "source": [
        "## Loading dependencies"
      ]
    },
    {
      "cell_type": "code",
      "execution_count": null,
      "metadata": {
        "colab": {
          "base_uri": "https://localhost:8080/"
        },
        "id": "M4B3TSf8k80F",
        "outputId": "33129f54-58ab-408e-832e-b1e34207dfa2"
      },
      "outputs": [
        {
          "output_type": "stream",
          "name": "stdout",
          "text": [
            "Mounted at /content/drive\n"
          ]
        }
      ],
      "source": [
        "import os\n",
        "from google.colab import drive\n",
        "import tensorflow as tf\n",
        "from tensorflow.keras import Sequential\n",
        "from tensorflow.keras.layers import Dense, Lambda\n",
        "from tensorflow.keras.callbacks import CSVLogger\n",
        "from tensorflow.keras.applications.resnet import ResNet50\n",
        "from tensorflow.keras.applications.resnet50 import preprocess_input as resnet_v1_preproccessing\n",
        "from tensorflow.keras.applications.resnet_v2 import ResNet50V2\n",
        "from tensorflow.keras.applications.resnet_v2 import preprocess_input as resnet_v2_preproccessing\n",
        "from tensorflow.keras.applications.efficientnet_v2 import EfficientNetV2B0\n",
        "from tensorflow.keras.applications.efficientnet_v2 import preprocess_input as efficientnet_preproccessing\n",
        "from tensorflow.keras.applications.efficientnet_v2 import EfficientNetV2B3\n",
        "from tensorflow.keras.applications.vgg19 import VGG19\n",
        "from tensorflow.keras.applications.vgg19 import preprocess_input as vgg_preproccessing\n",
        "from tensorflow.keras.optimizers import Adam\n",
        "drive.mount(\"/content/drive\")\n",
        "os.chdir(\"/content/drive/MyDrive/MachineLearningProject\")"
      ]
    },
    {
      "cell_type": "markdown",
      "metadata": {
        "id": "PKEoCKt-sKO2"
      },
      "source": [
        "## Loading the data"
      ]
    },
    {
      "cell_type": "code",
      "execution_count": null,
      "metadata": {
        "id": "nKi-QsHYmcGf"
      },
      "outputs": [],
      "source": [
        "INPUT_SHAPE = (224, 224, 3)"
      ]
    },
    {
      "cell_type": "code",
      "execution_count": null,
      "metadata": {
        "colab": {
          "base_uri": "https://localhost:8080/"
        },
        "id": "h9xo4oepsL8l",
        "outputId": "51f5aa42-9a24-4597-9a53-af6a07e38b7b"
      },
      "outputs": [
        {
          "output_type": "stream",
          "name": "stdout",
          "text": [
            "Found 4743 files belonging to 2 classes.\n",
            "Found 1184 files belonging to 2 classes.\n"
          ]
        }
      ],
      "source": [
        "train_ds = tf.keras.utils.image_dataset_from_directory(\"/content/drive/MyDrive/MachineLearningProject/data/train\",\n",
        "                                                       label_mode=\"binary\",\n",
        "                                                       color_mode=\"rgb\",\n",
        "                                                       batch_size=32,\n",
        "                                                       image_size=(224, 224),\n",
        "                                                       shuffle=True,\n",
        "                                                       seed=42)\n",
        "\n",
        "val_ds = tf.keras.utils.image_dataset_from_directory(\"/content/drive/MyDrive/MachineLearningProject/data/test\",\n",
        "                                                     label_mode=\"binary\",\n",
        "                                                     color_mode=\"rgb\",\n",
        "                                                     batch_size=32,\n",
        "                                                     image_size=(224, 224),\n",
        "                                                     shuffle=True,\n",
        "                                                     seed=42)"
      ]
    },
    {
      "cell_type": "markdown",
      "metadata": {
        "id": "DXm6Oc8Vmyey"
      },
      "source": [
        "## ResNet50 V1"
      ]
    },
    {
      "cell_type": "code",
      "execution_count": null,
      "metadata": {
        "colab": {
          "base_uri": "https://localhost:8080/"
        },
        "id": "bcjNl2l8lF7W",
        "outputId": "96de771c-2b56-4652-ce42-03aa4422edee"
      },
      "outputs": [
        {
          "name": "stdout",
          "output_type": "stream",
          "text": [
            "Downloading data from https://storage.googleapis.com/tensorflow/keras-applications/resnet/resnet50_weights_tf_dim_ordering_tf_kernels_notop.h5\n",
            "94765736/94765736 [==============================] - 5s 0us/step\n",
            "Model: \"sequential\"\n",
            "_________________________________________________________________\n",
            " Layer (type)                Output Shape              Param #   \n",
            "=================================================================\n",
            " lambda (Lambda)             (None, 224, 224, 3)       0         \n",
            "                                                                 \n",
            " resnet50 (Functional)       (None, 2048)              23587712  \n",
            "                                                                 \n",
            " dense (Dense)               (None, 1)                 2049      \n",
            "                                                                 \n",
            "=================================================================\n",
            "Total params: 23589761 (89.99 MB)\n",
            "Trainable params: 2049 (8.00 KB)\n",
            "Non-trainable params: 23587712 (89.98 MB)\n",
            "_________________________________________________________________\n"
          ]
        }
      ],
      "source": [
        "res50_v1 = Sequential([\n",
        "    Lambda(resnet_v1_preproccessing,\n",
        "           input_shape=INPUT_SHAPE),\n",
        "\n",
        "    ResNet50(include_top=False,\n",
        "             pooling=\"avg\",\n",
        "             weights=\"imagenet\",\n",
        "             input_shape=INPUT_SHAPE),\n",
        "\n",
        "    Dense(units=1,\n",
        "          activation=\"sigmoid\")\n",
        "])\n",
        "\n",
        "res50_v1.layers[1].trainable = False\n",
        "\n",
        "res50_v1.summary()"
      ]
    },
    {
      "cell_type": "code",
      "execution_count": null,
      "metadata": {
        "colab": {
          "base_uri": "https://localhost:8080/"
        },
        "id": "dzGXib-GLZct",
        "outputId": "ce7f8b77-1b70-4ba3-9fb8-bb2f9057b6ad"
      },
      "outputs": [
        {
          "name": "stdout",
          "output_type": "stream",
          "text": [
            "Epoch 1/25\n",
            "149/149 [==============================] - 1667s 10s/step - loss: 0.0657 - accuracy: 0.9781 - val_loss: 0.0255 - val_accuracy: 0.9907\n",
            "Epoch 2/25\n",
            "149/149 [==============================] - 39s 254ms/step - loss: 0.0195 - accuracy: 0.9947 - val_loss: 0.0219 - val_accuracy: 0.9932\n",
            "Epoch 3/25\n",
            "149/149 [==============================] - 41s 265ms/step - loss: 0.0115 - accuracy: 0.9973 - val_loss: 0.0200 - val_accuracy: 0.9949\n",
            "Epoch 4/25\n",
            "149/149 [==============================] - 38s 248ms/step - loss: 0.0077 - accuracy: 0.9987 - val_loss: 0.0190 - val_accuracy: 0.9958\n",
            "Epoch 5/25\n",
            "149/149 [==============================] - 41s 264ms/step - loss: 0.0052 - accuracy: 0.9998 - val_loss: 0.0185 - val_accuracy: 0.9958\n",
            "Epoch 6/25\n",
            "149/149 [==============================] - 37s 243ms/step - loss: 0.0039 - accuracy: 1.0000 - val_loss: 0.0182 - val_accuracy: 0.9958\n",
            "Epoch 7/25\n",
            "149/149 [==============================] - 39s 244ms/step - loss: 0.0031 - accuracy: 1.0000 - val_loss: 0.0183 - val_accuracy: 0.9966\n",
            "Epoch 8/25\n",
            "149/149 [==============================] - 40s 257ms/step - loss: 0.0025 - accuracy: 1.0000 - val_loss: 0.0183 - val_accuracy: 0.9949\n",
            "Epoch 9/25\n",
            "149/149 [==============================] - 39s 252ms/step - loss: 0.0021 - accuracy: 1.0000 - val_loss: 0.0186 - val_accuracy: 0.9949\n",
            "Epoch 10/25\n",
            "149/149 [==============================] - 40s 255ms/step - loss: 0.0017 - accuracy: 1.0000 - val_loss: 0.0184 - val_accuracy: 0.9949\n",
            "Epoch 11/25\n",
            "149/149 [==============================] - 41s 270ms/step - loss: 0.0015 - accuracy: 1.0000 - val_loss: 0.0184 - val_accuracy: 0.9941\n",
            "Epoch 12/25\n",
            "149/149 [==============================] - 38s 248ms/step - loss: 0.0013 - accuracy: 1.0000 - val_loss: 0.0190 - val_accuracy: 0.9941\n",
            "Epoch 13/25\n",
            "149/149 [==============================] - 38s 241ms/step - loss: 0.0011 - accuracy: 1.0000 - val_loss: 0.0191 - val_accuracy: 0.9941\n",
            "Epoch 14/25\n",
            "149/149 [==============================] - 39s 255ms/step - loss: 9.9087e-04 - accuracy: 1.0000 - val_loss: 0.0193 - val_accuracy: 0.9941\n",
            "Epoch 15/25\n",
            "149/149 [==============================] - 40s 263ms/step - loss: 9.0055e-04 - accuracy: 1.0000 - val_loss: 0.0191 - val_accuracy: 0.9941\n",
            "Epoch 16/25\n",
            "149/149 [==============================] - 38s 244ms/step - loss: 7.7292e-04 - accuracy: 1.0000 - val_loss: 0.0188 - val_accuracy: 0.9941\n",
            "Epoch 17/25\n",
            "149/149 [==============================] - 38s 242ms/step - loss: 6.8382e-04 - accuracy: 1.0000 - val_loss: 0.0193 - val_accuracy: 0.9941\n",
            "Epoch 18/25\n",
            "149/149 [==============================] - 39s 255ms/step - loss: 6.1806e-04 - accuracy: 1.0000 - val_loss: 0.0193 - val_accuracy: 0.9941\n",
            "Epoch 19/25\n",
            "149/149 [==============================] - 37s 242ms/step - loss: 5.4897e-04 - accuracy: 1.0000 - val_loss: 0.0192 - val_accuracy: 0.9941\n",
            "Epoch 20/25\n",
            "149/149 [==============================] - 39s 252ms/step - loss: 5.0102e-04 - accuracy: 1.0000 - val_loss: 0.0191 - val_accuracy: 0.9941\n",
            "Epoch 21/25\n",
            "149/149 [==============================] - 41s 263ms/step - loss: 4.4520e-04 - accuracy: 1.0000 - val_loss: 0.0191 - val_accuracy: 0.9941\n",
            "Epoch 22/25\n",
            "149/149 [==============================] - 41s 269ms/step - loss: 4.0488e-04 - accuracy: 1.0000 - val_loss: 0.0194 - val_accuracy: 0.9941\n",
            "Epoch 23/25\n",
            "149/149 [==============================] - 37s 240ms/step - loss: 3.6978e-04 - accuracy: 1.0000 - val_loss: 0.0201 - val_accuracy: 0.9941\n",
            "Epoch 24/25\n",
            "149/149 [==============================] - 39s 247ms/step - loss: 3.3926e-04 - accuracy: 1.0000 - val_loss: 0.0201 - val_accuracy: 0.9941\n",
            "Epoch 25/25\n",
            "149/149 [==============================] - 41s 270ms/step - loss: 3.1133e-04 - accuracy: 1.0000 - val_loss: 0.0201 - val_accuracy: 0.9941\n"
          ]
        }
      ],
      "source": [
        "res50_v1.compile(optimizer=Adam(),\n",
        "                           loss=\"binary_crossentropy\",\n",
        "                           metrics=[\"accuracy\"])\n",
        "\n",
        "res50_v1_csv_logger = CSVLogger('/content/drive/MyDrive/MachineLearningProject/histories/transfer/res50_v1.log')\n",
        "\n",
        "hist_res50_v1 = res50_v1.fit(train_ds,\n",
        "                                    epochs=25,\n",
        "                                    steps_per_epoch=len(train_ds),\n",
        "                                    validation_data=val_ds,\n",
        "                                    validation_steps=len(val_ds),\n",
        "                                    callbacks=[res50_v1_csv_logger])"
      ]
    },
    {
      "cell_type": "markdown",
      "metadata": {
        "id": "z2_hJd2Nn4R5"
      },
      "source": [
        "## ResNet50 V2"
      ]
    },
    {
      "cell_type": "code",
      "execution_count": null,
      "metadata": {
        "colab": {
          "base_uri": "https://localhost:8080/"
        },
        "id": "TfxbrrJonYYE",
        "outputId": "2f20090f-46d6-4d46-cbac-74ebd3ef6b90"
      },
      "outputs": [
        {
          "name": "stdout",
          "output_type": "stream",
          "text": [
            "Downloading data from https://storage.googleapis.com/tensorflow/keras-applications/resnet/resnet50v2_weights_tf_dim_ordering_tf_kernels_notop.h5\n",
            "94668760/94668760 [==============================] - 5s 0us/step\n",
            "Model: \"sequential_1\"\n",
            "_________________________________________________________________\n",
            " Layer (type)                Output Shape              Param #   \n",
            "=================================================================\n",
            " lambda_1 (Lambda)           (None, 224, 224, 3)       0         \n",
            "                                                                 \n",
            " resnet50v2 (Functional)     (None, 2048)              23564800  \n",
            "                                                                 \n",
            " dense_1 (Dense)             (None, 1)                 2049      \n",
            "                                                                 \n",
            "=================================================================\n",
            "Total params: 23566849 (89.90 MB)\n",
            "Trainable params: 2049 (8.00 KB)\n",
            "Non-trainable params: 23564800 (89.89 MB)\n",
            "_________________________________________________________________\n"
          ]
        }
      ],
      "source": [
        "res50_v2 = Sequential([\n",
        "    Lambda(resnet_v2_preproccessing,\n",
        "           input_shape=INPUT_SHAPE),\n",
        "\n",
        "    ResNet50V2(include_top=False,\n",
        "               pooling=\"avg\",\n",
        "               weights=\"imagenet\",\n",
        "               input_shape=INPUT_SHAPE),\n",
        "\n",
        "    Dense(units=1,\n",
        "          activation=\"sigmoid\")\n",
        "])\n",
        "\n",
        "res50_v2.layers[1].trainable = False\n",
        "\n",
        "res50_v2.summary()"
      ]
    },
    {
      "cell_type": "code",
      "execution_count": null,
      "metadata": {
        "colab": {
          "base_uri": "https://localhost:8080/"
        },
        "id": "7m-6nm-nLRVn",
        "outputId": "f68444b1-07f6-401e-fe42-42b4fd7f14cc"
      },
      "outputs": [
        {
          "name": "stdout",
          "output_type": "stream",
          "text": [
            "Epoch 1/25\n",
            "149/149 [==============================] - 46s 261ms/step - loss: 0.1047 - accuracy: 0.9570 - val_loss: 0.0264 - val_accuracy: 0.9916\n",
            "Epoch 2/25\n",
            "149/149 [==============================] - 40s 253ms/step - loss: 0.0230 - accuracy: 0.9933 - val_loss: 0.0197 - val_accuracy: 0.9932\n",
            "Epoch 3/25\n",
            "149/149 [==============================] - 40s 263ms/step - loss: 0.0159 - accuracy: 0.9962 - val_loss: 0.0160 - val_accuracy: 0.9975\n",
            "Epoch 4/25\n",
            "149/149 [==============================] - 37s 238ms/step - loss: 0.0120 - accuracy: 0.9973 - val_loss: 0.0142 - val_accuracy: 0.9975\n",
            "Epoch 5/25\n",
            "149/149 [==============================] - 37s 235ms/step - loss: 0.0094 - accuracy: 0.9983 - val_loss: 0.0134 - val_accuracy: 0.9975\n",
            "Epoch 6/25\n",
            "149/149 [==============================] - 38s 247ms/step - loss: 0.0076 - accuracy: 0.9989 - val_loss: 0.0129 - val_accuracy: 0.9966\n",
            "Epoch 7/25\n",
            "149/149 [==============================] - 36s 236ms/step - loss: 0.0060 - accuracy: 0.9992 - val_loss: 0.0125 - val_accuracy: 0.9966\n",
            "Epoch 8/25\n",
            "149/149 [==============================] - 38s 246ms/step - loss: 0.0047 - accuracy: 0.9994 - val_loss: 0.0122 - val_accuracy: 0.9966\n",
            "Epoch 9/25\n",
            "149/149 [==============================] - 37s 239ms/step - loss: 0.0038 - accuracy: 0.9994 - val_loss: 0.0126 - val_accuracy: 0.9958\n",
            "Epoch 10/25\n",
            "149/149 [==============================] - 38s 243ms/step - loss: 0.0032 - accuracy: 0.9998 - val_loss: 0.0120 - val_accuracy: 0.9966\n",
            "Epoch 11/25\n",
            "149/149 [==============================] - 40s 263ms/step - loss: 0.0026 - accuracy: 1.0000 - val_loss: 0.0117 - val_accuracy: 0.9966\n",
            "Epoch 12/25\n",
            "149/149 [==============================] - 37s 240ms/step - loss: 0.0023 - accuracy: 1.0000 - val_loss: 0.0115 - val_accuracy: 0.9966\n",
            "Epoch 13/25\n",
            "149/149 [==============================] - 37s 237ms/step - loss: 0.0019 - accuracy: 1.0000 - val_loss: 0.0113 - val_accuracy: 0.9966\n",
            "Epoch 14/25\n",
            "149/149 [==============================] - 39s 248ms/step - loss: 0.0017 - accuracy: 1.0000 - val_loss: 0.0112 - val_accuracy: 0.9966\n",
            "Epoch 15/25\n",
            "149/149 [==============================] - 40s 261ms/step - loss: 0.0015 - accuracy: 1.0000 - val_loss: 0.0110 - val_accuracy: 0.9966\n",
            "Epoch 16/25\n",
            "149/149 [==============================] - 38s 246ms/step - loss: 0.0013 - accuracy: 1.0000 - val_loss: 0.0109 - val_accuracy: 0.9966\n",
            "Epoch 17/25\n",
            "149/149 [==============================] - 39s 252ms/step - loss: 0.0012 - accuracy: 1.0000 - val_loss: 0.0108 - val_accuracy: 0.9966\n",
            "Epoch 18/25\n",
            "149/149 [==============================] - 37s 239ms/step - loss: 0.0010 - accuracy: 1.0000 - val_loss: 0.0108 - val_accuracy: 0.9966\n",
            "Epoch 19/25\n",
            "149/149 [==============================] - 37s 243ms/step - loss: 9.1808e-04 - accuracy: 1.0000 - val_loss: 0.0107 - val_accuracy: 0.9966\n",
            "Epoch 20/25\n",
            "149/149 [==============================] - 37s 239ms/step - loss: 8.3066e-04 - accuracy: 1.0000 - val_loss: 0.0106 - val_accuracy: 0.9966\n",
            "Epoch 21/25\n",
            "149/149 [==============================] - 40s 259ms/step - loss: 7.4430e-04 - accuracy: 1.0000 - val_loss: 0.0105 - val_accuracy: 0.9966\n",
            "Epoch 22/25\n",
            "149/149 [==============================] - 37s 241ms/step - loss: 6.8445e-04 - accuracy: 1.0000 - val_loss: 0.0104 - val_accuracy: 0.9966\n",
            "Epoch 23/25\n",
            "149/149 [==============================] - 39s 252ms/step - loss: 6.1316e-04 - accuracy: 1.0000 - val_loss: 0.0104 - val_accuracy: 0.9966\n",
            "Epoch 24/25\n",
            "149/149 [==============================] - 37s 241ms/step - loss: 5.6247e-04 - accuracy: 1.0000 - val_loss: 0.0103 - val_accuracy: 0.9966\n",
            "Epoch 25/25\n",
            "149/149 [==============================] - 38s 247ms/step - loss: 5.1158e-04 - accuracy: 1.0000 - val_loss: 0.0103 - val_accuracy: 0.9966\n"
          ]
        }
      ],
      "source": [
        "res50_v2.compile(optimizer=Adam(),\n",
        "                           loss=\"binary_crossentropy\",\n",
        "                           metrics=[\"accuracy\"])\n",
        "\n",
        "res50_v2_csv_logger = CSVLogger('/content/drive/MyDrive/MachineLearningProject/histories/transfer/res50_v2.log')\n",
        "\n",
        "hist_res50_v2 = res50_v2.fit(train_ds,\n",
        "                                    epochs=25,\n",
        "                                    steps_per_epoch=len(train_ds),\n",
        "                                    validation_data=val_ds,\n",
        "                                    validation_steps=len(val_ds),\n",
        "                                    callbacks=[res50_v2_csv_logger])"
      ]
    },
    {
      "cell_type": "markdown",
      "metadata": {
        "id": "43ey-SDDoLwc"
      },
      "source": [
        "## Efficientnet B0 V2"
      ]
    },
    {
      "cell_type": "code",
      "execution_count": null,
      "metadata": {
        "colab": {
          "base_uri": "https://localhost:8080/"
        },
        "id": "Ogf7FbQboNqN",
        "outputId": "e6ed77d0-497b-4f42-a56d-55d40b1d6bb7"
      },
      "outputs": [
        {
          "name": "stdout",
          "output_type": "stream",
          "text": [
            "Downloading data from https://storage.googleapis.com/tensorflow/keras-applications/efficientnet_v2/efficientnetv2-b0_notop.h5\n",
            "24274472/24274472 [==============================] - 1s 0us/step\n",
            "Model: \"sequential_2\"\n",
            "_________________________________________________________________\n",
            " Layer (type)                Output Shape              Param #   \n",
            "=================================================================\n",
            " lambda_2 (Lambda)           (None, 224, 224, 3)       0         \n",
            "                                                                 \n",
            " efficientnetv2-b0 (Functio  (None, 1280)              5919312   \n",
            " nal)                                                            \n",
            "                                                                 \n",
            " dense_2 (Dense)             (None, 1)                 1281      \n",
            "                                                                 \n",
            "=================================================================\n",
            "Total params: 5920593 (22.59 MB)\n",
            "Trainable params: 1281 (5.00 KB)\n",
            "Non-trainable params: 5919312 (22.58 MB)\n",
            "_________________________________________________________________\n"
          ]
        }
      ],
      "source": [
        "efficientnet_b0_v2 = Sequential([\n",
        "    Lambda(efficientnet_preproccessing,\n",
        "           input_shape=INPUT_SHAPE),\n",
        "\n",
        "    EfficientNetV2B0(include_top=False,\n",
        "                     weights=\"imagenet\",\n",
        "                     pooling=\"avg\",\n",
        "                     input_shape=INPUT_SHAPE),\n",
        "\n",
        "    Dense(units=1,\n",
        "          activation=\"sigmoid\")\n",
        "])\n",
        "\n",
        "efficientnet_b0_v2.layers[1].trainable = False\n",
        "\n",
        "efficientnet_b0_v2.summary()"
      ]
    },
    {
      "cell_type": "code",
      "execution_count": null,
      "metadata": {
        "colab": {
          "base_uri": "https://localhost:8080/"
        },
        "id": "I7frNC5VK-8n",
        "outputId": "051b348f-ac58-489b-c647-edf896964939"
      },
      "outputs": [
        {
          "name": "stdout",
          "output_type": "stream",
          "text": [
            "Epoch 1/25\n",
            "149/149 [==============================] - 50s 255ms/step - loss: 0.1200 - accuracy: 0.9762 - val_loss: 0.0486 - val_accuracy: 0.9899\n",
            "Epoch 2/25\n",
            "149/149 [==============================] - 36s 232ms/step - loss: 0.0357 - accuracy: 0.9922 - val_loss: 0.0299 - val_accuracy: 0.9949\n",
            "Epoch 3/25\n",
            "149/149 [==============================] - 37s 242ms/step - loss: 0.0253 - accuracy: 0.9954 - val_loss: 0.0227 - val_accuracy: 0.9966\n",
            "Epoch 4/25\n",
            "149/149 [==============================] - 36s 232ms/step - loss: 0.0205 - accuracy: 0.9943 - val_loss: 0.0186 - val_accuracy: 0.9966\n",
            "Epoch 5/25\n",
            "149/149 [==============================] - 36s 235ms/step - loss: 0.0160 - accuracy: 0.9966 - val_loss: 0.0160 - val_accuracy: 0.9975\n",
            "Epoch 6/25\n",
            "149/149 [==============================] - 37s 241ms/step - loss: 0.0134 - accuracy: 0.9970 - val_loss: 0.0143 - val_accuracy: 0.9975\n",
            "Epoch 7/25\n",
            "149/149 [==============================] - 38s 240ms/step - loss: 0.0118 - accuracy: 0.9979 - val_loss: 0.0132 - val_accuracy: 0.9975\n",
            "Epoch 8/25\n",
            "149/149 [==============================] - 40s 258ms/step - loss: 0.0108 - accuracy: 0.9979 - val_loss: 0.0121 - val_accuracy: 0.9966\n",
            "Epoch 9/25\n",
            "149/149 [==============================] - 37s 237ms/step - loss: 0.0097 - accuracy: 0.9979 - val_loss: 0.0114 - val_accuracy: 0.9966\n",
            "Epoch 10/25\n",
            "149/149 [==============================] - 40s 261ms/step - loss: 0.0078 - accuracy: 0.9989 - val_loss: 0.0109 - val_accuracy: 0.9966\n",
            "Epoch 11/25\n",
            "149/149 [==============================] - 36s 234ms/step - loss: 0.0067 - accuracy: 0.9987 - val_loss: 0.0104 - val_accuracy: 0.9966\n",
            "Epoch 12/25\n",
            "149/149 [==============================] - 35s 229ms/step - loss: 0.0067 - accuracy: 0.9989 - val_loss: 0.0101 - val_accuracy: 0.9966\n",
            "Epoch 13/25\n",
            "149/149 [==============================] - 40s 257ms/step - loss: 0.0056 - accuracy: 0.9994 - val_loss: 0.0097 - val_accuracy: 0.9966\n",
            "Epoch 14/25\n",
            "149/149 [==============================] - 36s 232ms/step - loss: 0.0059 - accuracy: 0.9987 - val_loss: 0.0092 - val_accuracy: 0.9966\n",
            "Epoch 15/25\n",
            "149/149 [==============================] - 36s 231ms/step - loss: 0.0050 - accuracy: 0.9996 - val_loss: 0.0088 - val_accuracy: 0.9975\n",
            "Epoch 16/25\n",
            "149/149 [==============================] - 36s 233ms/step - loss: 0.0039 - accuracy: 0.9998 - val_loss: 0.0085 - val_accuracy: 0.9975\n",
            "Epoch 17/25\n",
            "149/149 [==============================] - 36s 233ms/step - loss: 0.0041 - accuracy: 0.9996 - val_loss: 0.0084 - val_accuracy: 0.9966\n",
            "Epoch 18/25\n",
            "149/149 [==============================] - 36s 234ms/step - loss: 0.0036 - accuracy: 0.9998 - val_loss: 0.0082 - val_accuracy: 0.9966\n",
            "Epoch 19/25\n",
            "149/149 [==============================] - 40s 259ms/step - loss: 0.0038 - accuracy: 0.9996 - val_loss: 0.0082 - val_accuracy: 0.9966\n",
            "Epoch 20/25\n",
            "149/149 [==============================] - 36s 234ms/step - loss: 0.0031 - accuracy: 0.9996 - val_loss: 0.0077 - val_accuracy: 0.9975\n",
            "Epoch 21/25\n",
            "149/149 [==============================] - 36s 231ms/step - loss: 0.0027 - accuracy: 0.9998 - val_loss: 0.0075 - val_accuracy: 0.9966\n",
            "Epoch 22/25\n",
            "149/149 [==============================] - 38s 244ms/step - loss: 0.0024 - accuracy: 1.0000 - val_loss: 0.0074 - val_accuracy: 0.9966\n",
            "Epoch 23/25\n",
            "149/149 [==============================] - 40s 258ms/step - loss: 0.0026 - accuracy: 1.0000 - val_loss: 0.0076 - val_accuracy: 0.9975\n",
            "Epoch 24/25\n",
            "149/149 [==============================] - 36s 231ms/step - loss: 0.0020 - accuracy: 1.0000 - val_loss: 0.0074 - val_accuracy: 0.9975\n",
            "Epoch 25/25\n",
            "149/149 [==============================] - 36s 236ms/step - loss: 0.0022 - accuracy: 0.9998 - val_loss: 0.0076 - val_accuracy: 0.9975\n"
          ]
        }
      ],
      "source": [
        "efficientnet_b0_v2.compile(optimizer=Adam(),\n",
        "                           loss=\"binary_crossentropy\",\n",
        "                           metrics=[\"accuracy\"])\n",
        "\n",
        "efficientnet_b0_v2_csv_logger = CSVLogger('/content/drive/MyDrive/MachineLearningProject/histories/transfer/efficientnet_b0_v2.log')\n",
        "\n",
        "hist_efficientnet_b0_v2 = efficientnet_b0_v2.fit(train_ds,\n",
        "                                    epochs=25,\n",
        "                                    steps_per_epoch=len(train_ds),\n",
        "                                    validation_data=val_ds,\n",
        "                                    validation_steps=len(val_ds),\n",
        "                                    callbacks=[efficientnet_b0_v2_csv_logger])"
      ]
    },
    {
      "cell_type": "markdown",
      "metadata": {
        "id": "O0nmIOuTo3G1"
      },
      "source": [
        "## Efficientnet B3 V2"
      ]
    },
    {
      "cell_type": "code",
      "execution_count": null,
      "metadata": {
        "colab": {
          "base_uri": "https://localhost:8080/"
        },
        "id": "InlFzfJlo84m",
        "outputId": "18b9d3f9-4c59-496f-fd82-818489e3489d"
      },
      "outputs": [
        {
          "name": "stdout",
          "output_type": "stream",
          "text": [
            "Downloading data from https://storage.googleapis.com/tensorflow/keras-applications/efficientnet_v2/efficientnetv2-b3_notop.h5\n",
            "52606240/52606240 [==============================] - 3s 0us/step\n",
            "Model: \"sequential_3\"\n",
            "_________________________________________________________________\n",
            " Layer (type)                Output Shape              Param #   \n",
            "=================================================================\n",
            " lambda_3 (Lambda)           (None, 224, 224, 3)       0         \n",
            "                                                                 \n",
            " efficientnetv2-b3 (Functio  (None, 1536)              12930622  \n",
            " nal)                                                            \n",
            "                                                                 \n",
            " dense_3 (Dense)             (None, 1)                 1537      \n",
            "                                                                 \n",
            "=================================================================\n",
            "Total params: 12932159 (49.33 MB)\n",
            "Trainable params: 1537 (6.00 KB)\n",
            "Non-trainable params: 12930622 (49.33 MB)\n",
            "_________________________________________________________________\n"
          ]
        }
      ],
      "source": [
        "efficientnet_b3_v2 = Sequential([\n",
        "    Lambda(efficientnet_preproccessing,\n",
        "           input_shape=INPUT_SHAPE),\n",
        "\n",
        "    EfficientNetV2B3(include_top=False,\n",
        "                     weights=\"imagenet\",\n",
        "                     pooling=\"avg\",\n",
        "                     input_shape=INPUT_SHAPE),\n",
        "\n",
        "    Dense(units=1,\n",
        "          activation=\"sigmoid\")\n",
        "])\n",
        "\n",
        "efficientnet_b3_v2.layers[1].trainable = False\n",
        "\n",
        "efficientnet_b3_v2.summary()"
      ]
    },
    {
      "cell_type": "code",
      "execution_count": null,
      "metadata": {
        "colab": {
          "base_uri": "https://localhost:8080/"
        },
        "id": "PTwQ0yIusgMJ",
        "outputId": "c81da7e6-b227-4ee0-c847-b8fc1c54b71e"
      },
      "outputs": [
        {
          "name": "stdout",
          "output_type": "stream",
          "text": [
            "Epoch 1/25\n",
            "149/149 [==============================] - 56s 279ms/step - loss: 0.1354 - accuracy: 0.9663 - val_loss: 0.0569 - val_accuracy: 0.9865\n",
            "Epoch 2/25\n",
            "149/149 [==============================] - 37s 240ms/step - loss: 0.0452 - accuracy: 0.9899 - val_loss: 0.0361 - val_accuracy: 0.9932\n",
            "Epoch 3/25\n",
            "149/149 [==============================] - 37s 241ms/step - loss: 0.0307 - accuracy: 0.9941 - val_loss: 0.0272 - val_accuracy: 0.9949\n",
            "Epoch 4/25\n",
            "149/149 [==============================] - 40s 259ms/step - loss: 0.0249 - accuracy: 0.9958 - val_loss: 0.0229 - val_accuracy: 0.9958\n",
            "Epoch 5/25\n",
            "149/149 [==============================] - 37s 242ms/step - loss: 0.0207 - accuracy: 0.9952 - val_loss: 0.0201 - val_accuracy: 0.9949\n",
            "Epoch 6/25\n",
            "149/149 [==============================] - 37s 238ms/step - loss: 0.0186 - accuracy: 0.9960 - val_loss: 0.0189 - val_accuracy: 0.9958\n",
            "Epoch 7/25\n",
            "149/149 [==============================] - 39s 244ms/step - loss: 0.0171 - accuracy: 0.9970 - val_loss: 0.0168 - val_accuracy: 0.9966\n",
            "Epoch 8/25\n",
            "149/149 [==============================] - 39s 253ms/step - loss: 0.0157 - accuracy: 0.9970 - val_loss: 0.0166 - val_accuracy: 0.9958\n",
            "Epoch 9/25\n",
            "149/149 [==============================] - 37s 240ms/step - loss: 0.0133 - accuracy: 0.9981 - val_loss: 0.0154 - val_accuracy: 0.9958\n",
            "Epoch 10/25\n",
            "149/149 [==============================] - 39s 254ms/step - loss: 0.0129 - accuracy: 0.9973 - val_loss: 0.0150 - val_accuracy: 0.9958\n",
            "Epoch 11/25\n",
            "149/149 [==============================] - 37s 242ms/step - loss: 0.0107 - accuracy: 0.9983 - val_loss: 0.0142 - val_accuracy: 0.9958\n",
            "Epoch 12/25\n",
            "149/149 [==============================] - 39s 245ms/step - loss: 0.0109 - accuracy: 0.9975 - val_loss: 0.0134 - val_accuracy: 0.9949\n",
            "Epoch 13/25\n",
            "149/149 [==============================] - 40s 261ms/step - loss: 0.0084 - accuracy: 0.9987 - val_loss: 0.0139 - val_accuracy: 0.9958\n",
            "Epoch 14/25\n",
            "149/149 [==============================] - 37s 242ms/step - loss: 0.0097 - accuracy: 0.9977 - val_loss: 0.0130 - val_accuracy: 0.9966\n",
            "Epoch 15/25\n",
            "149/149 [==============================] - 37s 243ms/step - loss: 0.0080 - accuracy: 0.9985 - val_loss: 0.0127 - val_accuracy: 0.9966\n",
            "Epoch 16/25\n",
            "149/149 [==============================] - 40s 255ms/step - loss: 0.0081 - accuracy: 0.9981 - val_loss: 0.0117 - val_accuracy: 0.9966\n",
            "Epoch 17/25\n",
            "149/149 [==============================] - 40s 264ms/step - loss: 0.0069 - accuracy: 0.9989 - val_loss: 0.0115 - val_accuracy: 0.9966\n",
            "Epoch 18/25\n",
            "149/149 [==============================] - 37s 239ms/step - loss: 0.0067 - accuracy: 0.9989 - val_loss: 0.0110 - val_accuracy: 0.9966\n",
            "Epoch 19/25\n",
            "149/149 [==============================] - 39s 254ms/step - loss: 0.0066 - accuracy: 0.9987 - val_loss: 0.0107 - val_accuracy: 0.9958\n",
            "Epoch 20/25\n",
            "149/149 [==============================] - 37s 238ms/step - loss: 0.0051 - accuracy: 0.9994 - val_loss: 0.0112 - val_accuracy: 0.9958\n",
            "Epoch 21/25\n",
            "149/149 [==============================] - 37s 239ms/step - loss: 0.0052 - accuracy: 0.9987 - val_loss: 0.0109 - val_accuracy: 0.9958\n",
            "Epoch 22/25\n",
            "149/149 [==============================] - 39s 255ms/step - loss: 0.0050 - accuracy: 0.9987 - val_loss: 0.0107 - val_accuracy: 0.9958\n",
            "Epoch 23/25\n",
            "149/149 [==============================] - 38s 245ms/step - loss: 0.0048 - accuracy: 0.9996 - val_loss: 0.0109 - val_accuracy: 0.9958\n",
            "Epoch 24/25\n",
            "149/149 [==============================] - 39s 255ms/step - loss: 0.0056 - accuracy: 0.9989 - val_loss: 0.0108 - val_accuracy: 0.9958\n",
            "Epoch 25/25\n",
            "149/149 [==============================] - 38s 245ms/step - loss: 0.0051 - accuracy: 0.9989 - val_loss: 0.0114 - val_accuracy: 0.9958\n"
          ]
        }
      ],
      "source": [
        "efficientnet_b3_v2.compile(optimizer=Adam(),\n",
        "                           loss=\"binary_crossentropy\",\n",
        "                           metrics=[\"accuracy\"])\n",
        "\n",
        "efficientnet_b3_v2_csv_logger = CSVLogger('/content/drive/MyDrive/MachineLearningProject/histories/transfer/efficientnet_b3_v2.log')\n",
        "\n",
        "hist_efficientnet_b3_v2 = efficientnet_b3_v2.fit(train_ds,\n",
        "                                    epochs=25,\n",
        "                                    steps_per_epoch=len(train_ds),\n",
        "                                    validation_data=val_ds,\n",
        "                                    validation_steps=len(val_ds),\n",
        "                                    callbacks=[efficientnet_b3_v2_csv_logger])"
      ]
    },
    {
      "cell_type": "markdown",
      "metadata": {
        "id": "lL9liQWFpKtQ"
      },
      "source": [
        "## VGG 19"
      ]
    },
    {
      "cell_type": "code",
      "execution_count": null,
      "metadata": {
        "colab": {
          "base_uri": "https://localhost:8080/"
        },
        "id": "wyb2dH43pKV0",
        "outputId": "04dc8254-3074-4857-c4a1-a20c92f9a800"
      },
      "outputs": [
        {
          "output_type": "stream",
          "name": "stdout",
          "text": [
            "Downloading data from https://storage.googleapis.com/tensorflow/keras-applications/vgg19/vgg19_weights_tf_dim_ordering_tf_kernels_notop.h5\n",
            "80134624/80134624 [==============================] - 0s 0us/step\n",
            "Model: \"sequential\"\n",
            "_________________________________________________________________\n",
            " Layer (type)                Output Shape              Param #   \n",
            "=================================================================\n",
            " lambda (Lambda)             (None, 224, 224, 3)       0         \n",
            "                                                                 \n",
            " vgg19 (Functional)          (None, 512)               20024384  \n",
            "                                                                 \n",
            " dense (Dense)               (None, 1)                 513       \n",
            "                                                                 \n",
            "=================================================================\n",
            "Total params: 20024897 (76.39 MB)\n",
            "Trainable params: 513 (2.00 KB)\n",
            "Non-trainable params: 20024384 (76.39 MB)\n",
            "_________________________________________________________________\n"
          ]
        }
      ],
      "source": [
        "vgg_19 = Sequential([\n",
        "    Lambda(vgg_preproccessing,\n",
        "           input_shape=INPUT_SHAPE),\n",
        "\n",
        "    VGG19(include_top=False,\n",
        "          weights=\"imagenet\",\n",
        "          pooling=\"max\",\n",
        "          input_shape=INPUT_SHAPE),\n",
        "\n",
        "    Dense(units=1,\n",
        "          activation=\"sigmoid\")\n",
        "])\n",
        "\n",
        "vgg_19.layers[1].trainable = False\n",
        "\n",
        "vgg_19.summary()"
      ]
    },
    {
      "cell_type": "code",
      "execution_count": null,
      "metadata": {
        "colab": {
          "base_uri": "https://localhost:8080/"
        },
        "id": "C2ccQTVjKyAl",
        "outputId": "34e21036-323b-4fef-8270-7a83c42267cb"
      },
      "outputs": [
        {
          "output_type": "stream",
          "name": "stdout",
          "text": [
            "Epoch 1/25\n",
            "149/149 [==============================] - 1100s 7s/step - loss: 2.9632 - accuracy: 0.8999 - val_loss: 1.0303 - val_accuracy: 0.9519\n",
            "Epoch 2/25\n",
            "149/149 [==============================] - 42s 271ms/step - loss: 0.6164 - accuracy: 0.9692 - val_loss: 0.6542 - val_accuracy: 0.9628\n",
            "Epoch 3/25\n",
            "149/149 [==============================] - 40s 258ms/step - loss: 0.3690 - accuracy: 0.9804 - val_loss: 0.4989 - val_accuracy: 0.9764\n",
            "Epoch 4/25\n",
            "149/149 [==============================] - 40s 255ms/step - loss: 0.2695 - accuracy: 0.9852 - val_loss: 0.4876 - val_accuracy: 0.9780\n",
            "Epoch 5/25\n",
            "149/149 [==============================] - 43s 278ms/step - loss: 0.1924 - accuracy: 0.9884 - val_loss: 0.4191 - val_accuracy: 0.9823\n",
            "Epoch 6/25\n",
            "149/149 [==============================] - 40s 262ms/step - loss: 0.1629 - accuracy: 0.9882 - val_loss: 0.4068 - val_accuracy: 0.9831\n",
            "Epoch 7/25\n",
            "149/149 [==============================] - 40s 253ms/step - loss: 0.1116 - accuracy: 0.9920 - val_loss: 0.3889 - val_accuracy: 0.9840\n",
            "Epoch 8/25\n",
            "149/149 [==============================] - 41s 269ms/step - loss: 0.1126 - accuracy: 0.9903 - val_loss: 0.3666 - val_accuracy: 0.9840\n",
            "Epoch 9/25\n",
            "149/149 [==============================] - 39s 251ms/step - loss: 0.0769 - accuracy: 0.9924 - val_loss: 0.3287 - val_accuracy: 0.9797\n",
            "Epoch 10/25\n",
            "149/149 [==============================] - 41s 265ms/step - loss: 0.0513 - accuracy: 0.9943 - val_loss: 0.3232 - val_accuracy: 0.9823\n",
            "Epoch 11/25\n",
            "149/149 [==============================] - 42s 271ms/step - loss: 0.0404 - accuracy: 0.9945 - val_loss: 0.3438 - val_accuracy: 0.9840\n",
            "Epoch 12/25\n",
            "149/149 [==============================] - 39s 253ms/step - loss: 0.0312 - accuracy: 0.9945 - val_loss: 0.3088 - val_accuracy: 0.9831\n",
            "Epoch 13/25\n",
            "149/149 [==============================] - 39s 249ms/step - loss: 0.0442 - accuracy: 0.9930 - val_loss: 0.3398 - val_accuracy: 0.9831\n",
            "Epoch 14/25\n",
            "149/149 [==============================] - 41s 266ms/step - loss: 0.0153 - accuracy: 0.9977 - val_loss: 0.3219 - val_accuracy: 0.9831\n",
            "Epoch 15/25\n",
            "149/149 [==============================] - 39s 252ms/step - loss: 0.0043 - accuracy: 0.9985 - val_loss: 0.3204 - val_accuracy: 0.9831\n",
            "Epoch 16/25\n",
            "149/149 [==============================] - 40s 258ms/step - loss: 0.0016 - accuracy: 0.9994 - val_loss: 0.3224 - val_accuracy: 0.9840\n",
            "Epoch 17/25\n",
            "149/149 [==============================] - 39s 255ms/step - loss: 0.0016 - accuracy: 0.9994 - val_loss: 0.3109 - val_accuracy: 0.9831\n",
            "Epoch 18/25\n",
            "149/149 [==============================] - 39s 250ms/step - loss: 5.2134e-04 - accuracy: 1.0000 - val_loss: 0.3127 - val_accuracy: 0.9831\n",
            "Epoch 19/25\n",
            "149/149 [==============================] - 40s 254ms/step - loss: 8.2274e-04 - accuracy: 0.9998 - val_loss: 0.3168 - val_accuracy: 0.9848\n",
            "Epoch 20/25\n",
            "149/149 [==============================] - 42s 272ms/step - loss: 5.0377e-04 - accuracy: 1.0000 - val_loss: 0.3327 - val_accuracy: 0.9848\n",
            "Epoch 21/25\n",
            "149/149 [==============================] - 41s 269ms/step - loss: 0.0089 - accuracy: 0.9981 - val_loss: 0.2853 - val_accuracy: 0.9831\n",
            "Epoch 22/25\n",
            "149/149 [==============================] - 41s 268ms/step - loss: 0.0047 - accuracy: 0.9985 - val_loss: 0.3047 - val_accuracy: 0.9831\n",
            "Epoch 23/25\n",
            "149/149 [==============================] - 38s 247ms/step - loss: 5.4113e-04 - accuracy: 0.9996 - val_loss: 0.2847 - val_accuracy: 0.9823\n",
            "Epoch 24/25\n",
            "149/149 [==============================] - 41s 269ms/step - loss: 9.5426e-04 - accuracy: 0.9998 - val_loss: 0.2773 - val_accuracy: 0.9831\n",
            "Epoch 25/25\n",
            "149/149 [==============================] - 41s 266ms/step - loss: 0.0049 - accuracy: 0.9983 - val_loss: 0.2844 - val_accuracy: 0.9840\n"
          ]
        }
      ],
      "source": [
        "vgg_19.compile(optimizer=Adam(),\n",
        "                           loss=\"binary_crossentropy\",\n",
        "                           metrics=[\"accuracy\"])\n",
        "\n",
        "vgg_19_csv_logger = CSVLogger('/content/drive/MyDrive/MachineLearningProject/histories/transfer/vgg_19.log')\n",
        "\n",
        "hist_vgg_19 = vgg_19.fit(train_ds,\n",
        "                                    epochs=25,\n",
        "                                    steps_per_epoch=len(train_ds),\n",
        "                                    validation_data=val_ds,\n",
        "                                    validation_steps=len(val_ds),\n",
        "                                    callbacks=[vgg_19_csv_logger])"
      ]
    }
  ],
  "metadata": {
    "accelerator": "GPU",
    "colab": {
      "provenance": []
    },
    "kernelspec": {
      "display_name": "Python 3",
      "name": "python3"
    },
    "language_info": {
      "name": "python"
    }
  },
  "nbformat": 4,
  "nbformat_minor": 0
}