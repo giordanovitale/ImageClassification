{
  "nbformat": 4,
  "nbformat_minor": 0,
  "metadata": {
    "colab": {
      "provenance": []
    },
    "kernelspec": {
      "name": "python3",
      "display_name": "Python 3"
    },
    "language_info": {
      "name": "python"
    }
  },
  "cells": [
    {
      "cell_type": "markdown",
      "source": [
        "**Outline**\n",
        "\n",
        "1.   Import the necessary libraries\n",
        "2.   Define Identity block and Projection block\n",
        "3.   Build the model\n",
        "4.   Compile and train it\n",
        "\n",
        "\n"
      ],
      "metadata": {
        "id": "tk2R2PyYesf1"
      }
    },
    {
      "cell_type": "markdown",
      "source": [
        "## 1 - Import the necessary libraries"
      ],
      "metadata": {
        "id": "O82Y_0_2aYJu"
      }
    },
    {
      "cell_type": "code",
      "execution_count": 12,
      "metadata": {
        "colab": {
          "base_uri": "https://localhost:8080/"
        },
        "id": "rm2_eP0NYjoF",
        "outputId": "fe391b9b-a8c5-4d29-af5d-a6623bd1a733"
      },
      "outputs": [
        {
          "output_type": "stream",
          "name": "stdout",
          "text": [
            "Drive already mounted at /content/drive; to attempt to forcibly remount, call drive.mount(\"/content/drive\", force_remount=True).\n"
          ]
        }
      ],
      "source": [
        "import os\n",
        "import tensorflow as tf\n",
        "from tensorflow.keras.preprocessing import image\n",
        "from tensorflow.keras.applications import ResNet50\n",
        "from tensorflow.keras.applications.resnet50 import preprocess_input\n",
        "from tensorflow.keras import Sequential\n",
        "from tensorflow.keras.layers import Dense, Flatten, Conv2D, MaxPool2D, Activation, BatchNormalization, ReLU, AveragePooling2D\n",
        "from tensorflow.keras.models import Model\n",
        "from tensorflow.keras.optimizers import Adam\n",
        "import tensorflow_hub as hub\n",
        "import numpy as np\n",
        "from google.colab import drive\n",
        "import numpy as np\n",
        "import matplotlib.pyplot as plt\n",
        "import json\n",
        "drive.mount(\"/content/drive\")\n",
        "os.chdir(\"/content/drive/MyDrive/archive\")"
      ]
    },
    {
      "cell_type": "code",
      "source": [
        "!ls"
      ],
      "metadata": {
        "colab": {
          "base_uri": "https://localhost:8080/"
        },
        "id": "yAjUrAPZaWGl",
        "outputId": "3b2790cf-626c-4cd9-d3c2-883d0727a8cf"
      },
      "execution_count": 4,
      "outputs": [
        {
          "output_type": "stream",
          "name": "stdout",
          "text": [
            "checkpoint-folder  MLProject.ipynb  ResNet.ipynb  test\ttrain\n"
          ]
        }
      ]
    },
    {
      "cell_type": "markdown",
      "source": [
        "![image.png](data:image/png;base64,iVBORw0KGgoAAAANSUhEUgAAAI0AAAFwCAYAAACFJfjWAAAAAXNSR0IArs4c6QAAAARnQU1BAACxjwv8YQUAAAAJcEhZcwAAEnQAABJ0Ad5mH3gAAFX6SURBVHhe7Z0JWBNHG8f/CTeiYD2rgoBW2qr1QEXRUmmV1vqppaKtqKi1ilZEEbXeN1AU8bbe9SpKxWqtaNVqBS+o1AtQEBFEkVtuJJDk/TZhuQMkgBBwf8+zD+xOMrs7+2Zmdub/vsMjBnBwKACf/cvBITec0XAoDGc0HArDGQ2HwnBGw6EwnNFwKAxnNBwKwxkNh8JwRsOhMJzRcCgMZzQcCsMZDYfC8D777DNuwpJDIXiXLl2iy5cvIzw8HD/88AN7mIOjPDNmzMCaNWsglUbs378fN2/ehOQvB0dFGBoa4urVq1yfhkNxOKPhUJgGbDS5eOS7D7t37cIuybZjA/ZeSWTTAFFiAI6sX4e1rp44ePkxstjjMslLwqN/vOC5aDl+DRexBzkqosEajfilF5Y7rIKLqytcmc1t+z1omLSUpomiD8PWwgmPzB2w1Nka/D3W+GLVDWRKU8sjTI5FVMBRuHqexP1UzmiqooEajRAP9l+GydEniImJkW7PHv0Ku/aS20nDnyuX4EpPJywepAe+hhFsl9ggx9MZW0OEBV8vg2q7nrAa3hcGKuwBjkppmEaTfg5bD13H3x4OWLLtNB6klKgdMi/g2J/J6D5wIJqwh1TfN0df3bvwORHCmFsF8Hjgsf+WRPAqCsH/3cfTV3kFB8R5yM5MR3o6s2VmI08sOShEjuRY0X4BealRCH34HJllKi9xdgpScpgaMf0ZHsdms0cbDg3SaIQxqdDt3wNqD0/BY87XMP3QEsuvJEHyvPKCg3A/Swtt27UovjmV9mjfhvD4zt0Km6hyiONwduFw2G4KQnLqf3D93BTfn3gJcW4MLi35FO1bGGHstruIl9iS+BVCNlqj/9Tf8DSX2c97jBNrF8Jl7x84t/c79DC2wk+3MiFOCsKRRSPxoaElY+yLYNXjA3QbukZ6uoZEgzQa1e6TsOnoGVwPj8Xji+4YpRcEN7t5OJUihjg5CanUFM2alag3+M2g25SH/FdJKFkpVYY49gQ8d0TAwGoULIdMwNTBQnj/4osU7c74au1y2LTNxosMVbTVZD7M12Vqn1aYuGIi3tcWItRzBg7p/oCVC+digcceOBj6Y+3S/Yh+pw+++V9niNNfIlpjAs6EBMP/UMMbUG2YzVMRmjAcsgBevy1C79TzOOWfB56GBtR4YohKtkMkglBETJomNHgi5OXmICenYMsVCKU1VFn4+vbwCrmMtQOBhP/O4u9HmRCmpyJDYnR6/8OcqV3x9NA2nHnF7Odew59JA/DNB6pMNfgIPj4hSAr6GUsXL8biZbsR3WkkhhnwkMR8l6/TFE1U2qK3eRc00emE/n07Ss/XkGjgRlOAetdRGGaSj+xsEVSNjGHAy0SG9OmyUDoymHZJt4MBmifuw9ftWqN164Lt3U/X46HMjo4aVOJ9sW6+G85l94Jldz1pn6dgok4VPewdYCU4g+2HniDzn3PIGDQGRpKOtJDpmMfx8YHNari5uTHbT9h64Df4HJwDM3Xpl1kabtE3CqNherHgqRjB5D3mQRtaYKBRHp5GRKPIbF5H4PFzbfSz6A/ttvY4+yoLWVkFW+qNJejGVBBlEQZvgPWI42gzexmmWOij1PNm4Lf7BnNs2+DWLg94+ObB8qt3CwqTaap0dVJx80ogJN2bQkQvb+P2MznbRiWnARqNEDG3fHH1cTq7D+T8ewzX9GdhWh/m0ar3xaTJvRF1+QIKn1G6/wUENrPBDJu2Fd+wmJhaRIxCJ+VXN64gKIutWURJiIhMgUiQi9wiTUATfOLshE8SDmBfpiWGt2ZzVu+Fzy3fRdR+J8w/dh+JAjGyI09jzfp/ofYuUxUxJ5CcRyyW1Sg2ECQTlvv27aPvvvtO8q/yI3pBB0a1JBUNfbKc6UIeP62g+Uv3UVAamy4hN4x+tR9Koxb8Qqe8PWjS0FHk6pdCIja5LMIXN+ngbDNqxtehvrMP0c2YfBI+3E5ftFEjtZZdycpuBe1eYUV6Gu1p0CwvCheyX6QM8rbtSdPPZ7H7BYgSr9LaYR1Jk88jVU09MracT6eihSRKCKRDDmaky9emnt/voosPUyu8JmWkY8eOFBUVxVg9Q4MyGgnCNIq+d4tuBgZTTEbREyxHbmI43b0XSSm57AEFEWXG0bP4LPbBZlFcdDxll3zK+Q9o3fjFdEPA7pfhdWI0RTHfr/gKGxaFRtMw+zQquujYoz8G9OsG/aYVD+NqtOqCnj2M8Y4Ge0BB+DptYdCmCdukNUHbjm2gzewIEqPxLDUXz3224FGfyWU6uMVotuoIQ+b7jW2guWEaTX0iDMX6L7vAqLUuem3Vx+zpXRqdUVQFZzSKovoBftjthd27T8Lv3HKYabPH3yI4o1EYPlqY2mDad/9DV723s/h4mzdvpocPHyIuLg6fffYZe5iDozyHDh2CtbU1eI6Ojpw3AodCcDH3OBSG69NwKAxnNBwKo3zNkzgBASf+wL3UMnMzKgYYbPcl3ld0oK428xOl4O6po/ANE6ODxWhMtjBgE1jEcTi3/hcIJy7CSKn09A2TE4SfF+xnzrcBs/vrsAeLEcTfxxXfM7iUY4mfZg8qN+laJVkP8efB33D1yWu07DUKUyaYo61kUEpiNMqEMGQd9W/Rnkw+6kk9exZsPd5rRdrdl9DtfPZDClA7+Yko0W8DjfvYkqbtCaREmfMCQoo+9DW9q2FKq4OrcaHVIeUMOfbvRzN84mXMYeVSzL9eNKO7GjUdc5yy2aPyIkr0JWdLc/rim3Fk/XEnaspXo/aj9kjn3ZTMaAT077YVdDSyZKELKcxtEPX8MYBJVZTayE9E8WcdqUfLj2jOpeQKJxiFEfto9pSR1F2rdowm+7Y7LT0QU+H55COTDo7UrIbRCCjAdRZtDi6ctMuif1eZURO198jpmkDZ5p7UYfrDSow3LiFwET3BKd8MDBnZq7h6FQRij/sfRdKHkqTf3oNNp2PZPTnzqwRxwiksmLkL2d94Yt2QErrjkuQ9xO4tLzBqzsfQlaVOrxQBXkU9QvjLTAhFIqkGSBR7CnMmrIN/YhYyMnOKxPAyBeniTCS9KqnckZCL+PBQRKXms/tlyEtFVOhDPC+reC9EnI78/lNh362w7W6C3hNGoyc/A6lMM690HWE+v/QliZ6cxrm0IRgl0coUomEKK6MLcJpzAtElVHfpgesx3T0RfT95lz0iZ34VIsKzY9vhE6cPsw53sHziaNhMdIDryUco9iHIxb0dO5E2zhmDm7KH5EX4GL9Mn4Ytd5IR7++G/328AH6CbIT4XURwQi5e3jyE7Tt8ERonQ5A+xBn/bLbHJ0YG+HL7E9awxHh1yxOTxszH8f8e4jLz2V/ulpQl5uHxibVY6LIXf5zbi+96GMPqp1vlxfb8Vhhk2QsS+XMhlJmFHO3eGNCbKTe2/lFShBT+08f04Rw/poUuSz5Fec+kr2Z601OmNUgLcKexNuvoeiqbLJPK8pNFIu35Qov471jSyr/CKCHxKfltGU2G6s3JclOo9BNZt9zohw236TXzvzByAw3Slr95yr+3gky7zaPrki8zTULQts30l+T/3PM0rb0mDd70rKh5ElxzovfUWpDVpmDKynxCt/6NZj53kez1Nch0dTBTGkxDGn+cvjUyJ9dQttMlfEoeg9SLmqf8EDeyHL6FoqSZCunpRgvS0LakTZFViTfy6d5KM+rhdJUymD2lq2lKIYrEad8kfDrKDOVfclRhOHYrNg3+B3PGTcCUjSLM2bsUA/XYZFlUmp8MRElISBZCzcwWjp+boHUrI1g4bMXSoWJc33WAqdr84HFEGzMc+5T6VcoLv01nGMTvhO1Xy3AyLA+9ps+EZQUZyRSk83TQVLuwPRQj9sRe+GoOgmVndt5dpTVavVP4iIV45OODkCTmjWvpYixevAy7ozth5DAD8CSK90qQeKxufDASe9Z8AkllqtRGI4o8jbMJn+KrARU9YlXoddCHavJTZOsZo135t85SVJ1fGXi6UtcXEgkhLHxj57dGH1Mj4OUzhO9eA++HN+A22Ra2traY6HwcEXnROLV4Iia5XEIq+5WK4Lcdj13eS9A1fCPGmvbAqA03kValCrSiR5aPiLBI5GlqQkvmR4SIiYkD/wMbrJYK3t3w09YD+M3nIOZUJAiSkP0fdm6Kge3ORejHlq8SG40IUX/4It7yKwys4NeXHuAO+y18LDh1FT9bXoHjbG9EyfQskFB1fuVg2nbT3obgxT5DdNHD5EFdXQ38lq3xzifT4DD6Y5ibm0u3AX06QZevA4Ne5ujftW2VHW1x0jNkmy7FuXtB8HLoiDurv4HT72lsKtN1YP/KBw9NmmhBHPMY4TKjHfChq6uD1JtXEFha8Y7bt59JO+DlEITDy/0cOs5fji/asqaSzVxfQZulhAgjaL1FJ/r+nOyXxbRb7vTNNz/RrSJtcD5Fek2jEfbHpX2cclSQnyDsN1oxdzWdeCTtWJQj//46MmvWjRbeKkx/Rd7fvkvvz73K7hcjeraJBjcp2acRUNhvK2ju6hMkK3vBzbW06GhCQb9FlEC7rPTos20vSCS4So6dNKj3yvuUL8qktEwR5d9ZTj00P2Cuo8RAgeAaOXXRoF4rmM8xu6//mU2d1ZrSwDW3mZdthvxw+slcjbT+d4C5aqb/9Zc9dVTVoV6zvOheQi6Jsp7QqRVzaPtdGYMP+VF03NGOlp+4QQEBAQXbtT9o46JtyjZOU4wwYj1ZGE2ls6U12wXk3qT1szZSQEkxuRTGcI7NJeejMex+MbLzE1Hsni+pGY9Hzb4+yh4ry2sKPTCZ+vSxodWHTtLxDVNp+LeeMs4tw2hEsbTny2bE4zWjr4+W/4LgxmLq3/sbWvfrX/S3jytNGbeO/KUfS6Uz3xuSRoseNGrWFvon5FZ5QfprplO+bzr10uKT3sB59Ou/ccz5UujGhlHUSUeXDPsNoa8mLabJA/RI33wirfWNZAwwka6uHUYdNfnEU9UkPWNLmn8qmukSl4ExYF+HbsR0lySVXfHG0yAzl1DlNRrKiqOnL1LL31B1qTA/AaVF7qHZi6+w+xWQ/4qe3r9LYQmya6QKEaRR5J7ZtPiKjPc1YT5j5iLKTnhK4dGvSg82MjVMXEyinG95ZchNpqiIF5QhFFFWRmb5AcLXiRQdFU9Z1SxcThqRHYLjmy6g2XdO+LJd7XfxskOOY9OFZvjO6Uu8gezrBc5o8rKQJdaBTnXemeUgLysLYh2dar2SKyuc0XAoTCOpMDnqEl5kZCRX03AoBM/IyIgzGg6F4Po0HArD9Wk4FIYzGg6FqbXmKefJefxy5BLCsvTQY+RU2H3SXi5lXEXUdn4NDkkU9RuXcP7CI7SZsgrjTd58mIGcoJ+xYL8QEzfMRnmdugDx96/A98yl2qlp0vzXYuqyi8ho3g5Nn5/AfCtLzP2reLZWUWo7v4ZIfURRz40Lw507DxGbLUOfIUjE84dnsGXtvlqY5RZG0BH3QxRWOHGSH0yrTTWok6Nf6bkUeant/Bow+fdXUC/ND2hByZntapFNt92X0oGYmsnUKfMgjdRsWgvKPZXOmLDQDiaFbQdPExqardHX/H0Uy7kFCNzjjj9kK8GxZ9NpxBYat1z5lSUbCQnpkkh2yIkPQ0hUapE+RJQZg0fhCaWCJkoRvEJU8H+4//QV2FjkzM87B5lsNPJMiaBbsl8qMrkMJMJuidqbucekyDDEyBJrC1IQGfIIsVkV1BgVpVcQRb1SJPf1KBwvM4UQiST5iRB7ag4mrPNHYlYGMnNYwZE4GykFKnU8exxbpHkWZyahvE49HuGhUSjUqddyRzgX4UfdEGhxGDvHtC6RuQZMrYxwwWkOTpRWgmP9dHck9v0E78q8koryKyQPUX+vx4SPOqDXzC3YvXQ6ps6cjpE9uuLrn/3wp/sPmPTdD5gw2AR9na+wAmox4s4uxHDbTQhKTsV/rp/D9PsTeMkYhTg9AmeXWaHjO23xhUcIUuIuYq7Fx5i1PwAvyhakOAW3f5kDq/cM8OkCDzh+YYGhVgPQue2HGHfgUYEhip7j7JIxGLvkGG4HX8XGrz+C6cRduFsokqoqXUGEj3/B9GlbcCc5Hv5u/8PHC/wgyA6B38VgJOS+xM1D27HjzxsIOLIIIz80hOWSbVhk1QMfdBuKVacvYrP9JzAy+BLbnxQa1ivc8pyEMfOP47+Hl7Ft0S+Q6tTZiqfGiOJu0G5HS+qgziOeVheadKy8TiM/yptmfjWTvAuU4OQ+1obWVaAElye/ApJpzzANUu+/lkKkqoXXdGmGAam1GUX7WDVW4r7hpNPKjk5L0kUxtMVSm96b6y9t7gQ359P7OsNoT6L0o0zz+IR+HtaS9Cw30rUTjjR5U3DFzaJULKVGbawPUJTkVMIY8h5vSGrvjKIDsXkUueNzajPQncIKLzz1DH2nr0FdHK+QJBJf5elMeT1YSb3lbp7y6d4KU+o277pU5E6CINq2+S/p/7nnp1F7zcG06RnbPEnEW++pUQurTRSclUlPbv1L0bkSnbo96Rc5+4ko/vi3ZGTuSsU6dQ8apN609vU0r6POkLOZHqka2NNFGdITieHMGGFD463HkOuNSl0HpFSVn6S9PmqtTdrWR1mHMCGFrOlDml2c6Bpb1q/Pfkfvag6lnfEFhZYb95SYZoQE8UF0cs1wpkDNyf1JsUkKI3bSFy206Z1P3ekhq6eSSf5tWtJNk3osuyNVzhUcWkLd1PTom+PBtH6gJhnMvFRCE5NLl2YyBt1uKvlmP6k8nTmomNGIKO6wNbXUNKDPl/rQI8n9CQq+V85o8u/Sip6a1HVRYKkfhOQHZKLJGg3z49r2WVP6YOGt4s9kHaqlPk0ZNA1HwMVjCoyTmL5FQvmOgKpeB+irJuNpth6Mq1KCM1SVnyx4TF+gJJJ9HoRMH6VgX00lHr7r5sPtXDZ6WXaHnuTjJQYeVDqPhd2n2si4/w+uKhgwWrVzJ3RUyUPe65eISxIhPy+vRNaqMDLSB1KTkZwbV3l6BX5uFcNH2/G74L2kK8I3joVpj1HYcDONaYwrp0IDyI9AWGQeNDW1yn2m1o1GgpqBAdrrtYd+izLZpwfA3X4L+AtO4erPlrjiOBveFSvBi6gwv+ogDMYG6xE43mY2lk2xgH65wR8xUs6547LpBszt4I+Vc39BlAJ2I87IQBa/M7p2Z4ynHR/JwXdLfT8vPx8q+p3RWVu/8nSFB6XESHqWDdOl53AvyAsOHe9g9TdOKNapKzgcx2uCJlpixDwOL7cqXy08BQHiw8ORIGB3mYuPvRwA2M3AsJIVCWMw6+03A057sGiAHtSNx2HHZgtcnuNQxnDkzK8IpoktUyBMRcp8TfIuVbwv+YT0U69u4EpxKHIkRUQiRSRALhuKXJxwBqt+bQlHp8lYud0B715eBqfDFaj1pRAEubnsuZhrPX8JUebfY2JPI4yZ+j+8c88Hv95lb0aciJsBceg//Tv009SvPF1iNGWiqOeFn8BKpzXwCSv3LsggxJNf9+Bsshi6Xb+B2/EVsMxLQHy2GDwtLWhSJtLSmDLJSkeWJF8mT0nU9FI1EfO2RSSGSHJQvQeGDemIDN+t2CYpLwZhbBySJSuVSNuqmiDwI6cu6tSkkxXNcttG2ze70CpPX4ou1RfIpZvrZ9FGGWrs/MhjNNf5KBUNIciVXyGv6ek/W2issSqpdplIu/yfUnzIH7TE8h3ia/Yk+18C6UVsAO2f2o3UVdrTKPdLFJH2kLZ/0YbU1FpSVys7WrF7BVnpaVD7QbPo0N9naNmnBmSx8jalMNcjij1PM7uqEV+3D804fJdSC6+xEGmfRp1a9bEh+/nraMPamTT629V0OY79oCiZ/H6ypt79xtDynftpx9Kp9L3rZYor7D5Vkl4+irqgChG8gG4s7k+9v1lHv/71N/m4TqFx6/ypQKd+hr431KAWPUbRrE2n6fwvDmSmyyftnt/TrosPpff1+qkf7Zvei7T4ejRw3q/0L3MPopQbtGFUJ9LRNaR+Q76iSYsn0wA9fYnF1RxRZgw9CAikB1FlxNHVpLbzK4dEtP0snrLYZ5sVF03xpUKRy0lRRziIMpOf0bPkCmTgoiyKj46lCoOrV5VeROUieGG+pAObTQlPwyn6VemSk0Rfj0ms4PqqIDc5iiJeZJCQuc4MpoPNSSNqgjAIS3t9jLNf3cR/a3tVMvhYS7xhEby81N+ZGwOvE5CQJkJK7PMSUSTeIGqG+N9853o1GAlcTVNdxHEI8D6NQKbHTjxVNDUYgJGjTNHqLfgZckbDoTBc88ShMLwPP/yQsrOzkZeXh+bNm7OHOTjKEx8fj5YtW4IXEhJCJ0+exL1797B27Vo2mYOjPEOHDsXBgwcL+jT79+/HzZs3IfnLwVERhoaGuHr1ag2NRhiKQws34HJyicFonjpM7XdijrnCkydvHw2s/AqNpmYdYVE8Ak//hShNIxgbG7ObEdrocP1rueBpo6VBYbkxm1ErpFzzht/Tqidx6xVJTVPthU9z/6aZxh+Qc0Urf1aD3GdXaM+vtxQMllwxNc5PmEx3TmymtWs96Re/Z+zBkojopa8bufzxonwcGEURRdHGj3XJ+kht3X3tonQLn4pTQnB+vzOsTIdgttfDYt1uNal5fmIk+XvA1nIMfk4dAPvFTuXXQmAQPTsKh+9X4fd7qaVnjBsxSmM0/BYfYtjUZbDrp8YeqRk1y0+MBF8nDB19BK1XnMCuaf3QSpbbkegJDm68CmHLt6s5VqK7lVyKOtQqnPVTwKNBSlX5VYxcoe2Zuuvh7i14MWoOPlY8tn2DpgH9RKrr0aAo8oS2B3Lv7cDOtHFwVji2fcOnARkNoGo4Fls9LfCPkyN+k6j9pAbjgXzHfVg2qHkt3cwr/H0hEIJmBujcayQWe3rAsW889toOxIjNDws+kh2AzXtFmDzPHFWrnBsfDcpoJEgNZ9Ng/DNnHCZM2QjRnL1YWmlsewWpKrQ90uHncQTaMxzRpzEF0lOABmc0EhT1aFCISkPbx0AUvhtrvB/ihttkaWh724nOOB6Rh+hTizFxkgsuVRXbvhHQ8Iymmh4NclNFaHveO59gmsNofMyGtjcf0AeddPnQMegF8/5d0fYtGAhXMqPJh1DyckRl/QtY5PZoKKSC/PLCcWKlE9b4hJX38WbeuPrZ2aHn87M4GVSYmoGQkBcwGjWGsSkzfPuDAxwc2G3WRAxop4aWpmMxc+ZX6N6E/UojRnmMJvMJ/I954ngQ0yyE+mLvyWt4nM6mSRHg1p6jUHXajR/767LHmKaKMZydmwcjYIc3npd85a4kP3GyPw5u3oJVU5fiZKlzFKD6kTMObO6DK7MnYs3h3+HtsQCHsQAHV33CfuItRzI8rEzTCHWFIC2S9sxeTLKizxdR3dD21YWbRlBmsvH4vBcyvnDAJ5Ut/aTaHEYf9YRJ67f0NakC3lKjUYPh/+bD+ct2b2sB1Ii3tMzUofOmFkN4C+B+aBwKIzUayTLEKipvPnokR8NGTa1AMSA1Gkn0gIL4bBwcFZOfXxA0h2ueOBSGM5rGTs4TnN+xEvNmO2PNPj/E1lQSyaBERpODJ+d3YOW82XBesw9+Nb67WspPlIK7Pluwbt0mHPSPYQ+WRIy4cz/B9Uys8sk90/yxduoyXMxojnZNn+PEfCtYzv0LNQ3jrSRGkwb/tVOx7GIGmrdriucn5sPKci6qH6S8NvJr6BphEZ6cDUDHVYexafFczHf1wrF53RFz8Twe1PD3qBRGI3pyFgEdV+HwpsWYO98VXsfmoXvMRZyv5t3VPD8l1ggLArHH/Q/IVr3uwabTseyeCjpPWAi74ije0NTQROu+5ni/hoF0lMJoVDpPwEI7k6IFM3iaGtBs3Rfmpe5Ofo2wfPlVjFJrhDVMYWV0AU5zTqC06nU9prsnou8n77JHSpMbfhRugRY4vHMMWtfwqSuF0ZQiNxxH3QJhcXgnxpS6u2pqhCvMryKUXSOsCsOxW+Fp8Q+cHH9DgeqVMRiPfDjuW4ZBzcvcozgeN/fMwZdDpuOX05th7/SbzFpKISSzl8oxyy2iuBu7ydGyA6nzeKTVZRIdiy4fhE7+qOfy5VeeRNrzhRbx37GklX+FUULiU/LbMpoM1ZuT5abQgo9k3SK3HzbQbcnktzCSNgzSJtPVwUUBqKuNQrPc+RTlPYNG2Iwn6zGuVGUc79dRdMbZjPRUDchedhTvKqmdWW7Khrhlc+S/ZvdrBB9tzadjy5UIhP8xDx8l/oof3a6UE0nJrxGWL79y1KdGWJyHXO0OUMmRp0utCr0O+lBNfopsPWNUqXrVNMQIFw9MMU5CWEgCe7B61MxoeE3AT06Fmha7XytownCECzymGCMpLASygpQrphGuOr9S1KdGmK8OzZwXEGlX/VjSA9xhv4WPBaeu4mfLK3Cc7S1tqipFzQAG7fXQXr8Fe6B61Mxo3hhqMDBoD732+igXpLxaGuFK8itLA9AIpwesR4HqdREG6KnDeNwObLa4jDkOpQ1HEB+O8OIo3hDHXkYA7DBDdhRv+ZG0VfXep8mNo7Cw+OKFJUQxdOAbS/rRX7IWSQnSbpH7N9/QT7eKg1jnR3rRtBH2dJxdcUVKVfkJwui3FXNp9YlHBSuWlCH//joya9aNFt4qTH1F3t++S+/Pvcrul0D0jDYNblJ3fZrcm7R+1kYqH8c7nyKPzSXnozHsvoD8nLqQepNOZDXLjbZt30wuqzzJV3YUb7ko7NMohdEI/Jyoi3oT6mQ1i9y2bafNLqvI0ze6zEOQP+p5VfmJYvfQl814xGv2NR0tnx3Dawo9MJn69LGh1YdO0vENU2n4t54yHhRDXRuNIogyKeZBAAU+iKIysairhVIZDXN3lBnzgAICH1BUbdydHPlxGmHFUTKNMNMn0O8Os37dYdi8NjoFVeXHaYRrgpJ2hN80nEa4JrylZcZphGsC90PjUBip0WhqakqDCnNwVMYHH3wgXdpRajS5ublITk6WJnBwVMSjR48kb9tc88ShOPVuNIKYf7DXKwCSNfRrg2rnl/UQf25fBee5P8Lt0E3El5MP5OKR7z7s3rULuyTbjg3YeyWRTStGlHIXPlvWYd2mg/CPaZweHvVmNMoUAlacdA7zR07DzuuPEXXnJNy+G4w+o/ficYlnLn7pheUOq+Di6gpXZnPbfg8aJiX6geIk+HvYwnLMz0gdYI/FTpNhYdA4fcnqzWiUJwRsHm7vOwf9rVdw/rgXfve/j8sreiPt3AbsulVoekI82H8ZJkefICYmRro9e/Qr7NqzxSdOgK/TUIw+0horTuzCtH6t0JhdD+uxeZKcWglCwIrTkd9/Kuy7FQ4NN0HvCaPRk5+B1FT2BOnnsPXQdfzt4YAl207jQUrJaxIj4dQCzNyVjW8812FIbawdruQo8R3WUQhYfisMsuyFkkN9lJmFHO3eGNC7YApCGJMK3f49oPbwFDzmfA3TDy2x/EpSgfeB6BmObfdBnL4ZOtxZjomjbTDRwRUnH9XJqpb1glL/LOomBGxZhAg9fQHiyT9iHNv8qHafhE1Hz+B6eCweX3THKL0guNnNw6kUxmxe/Y0LgQI0M+iMXiMXw9PDEX3j98J24AhsfliVzqdhotRGI+GNh4Atgyj6MDY+GIk9az5Becm4JgyHLIDXb4vQO/U8TvnnQZSUgGShGsxsHfG5SWu0MrKAw9alGCq+jl0H/mW/17hQeqOR8EZDwJYk+z/s3BQD252L0K+S06h3HYVhJvnIzhaBp6uLpjyCSCgscpbjt+6DAnXoc/ZI40L5jeZNh4AtRBAOL/dz6Dh/Ob5oyxZLdhrSZZ6KB56KEUzeU2O6RKbobchD7LPoYg9LnjrU1fho2bo1e6BxUc9GowwhYBmE0fBe6Iqwjz5Dm5dBCAwMROD1M/BcdxThYiFibvniaolQozn/HsM1/VmY1ofpKKv3g51dTzw/exLFEWRDEPLCCKPGmLEHGhkSRVa9KPcyIsjPazkNbaNCKh2tyd3Hn8JLySnll3dKqSS/SuWdogTydehG2jypnRVvPA0ycwkloegFHRjVklQ09Mlypgt5/LSC5i/dR0El83kdSgcm96E+Nqvp0MnjtGHqcPrWM4DKX3kVNBDlnpLIPd88csk7K0KYRtH3btHNwGCKyajY4S7/1VO6fzeMqq0O5eSeyoSc8s6KUNFFxx79MaBfN+g3rXisV7W5ET7qaYLGrg59S4xGjZN31iI1L0NxMvy3L4CTk1PBNm8hDgTVdPqxtlFSeafoMXzWOBeXnbMLzr6JN8NapmZGo9oBg+3GwayFGEKhsGgTyXwV4igPQSxx/y0qO010tZ6OYSY1DCDzhqnZYu4cbxW1s5g7x1sJr2fPniQQCKQxYnV03uAQPUeDJy0tDU2bNgXvzp07dPr0ady/fx8rV65kkzk4yjN8+HDs3buX69NwyE9hn6ZmRiMMxaGFG3A5uWiqTjpZZ2q/E3PMa8Mnu5HTwMqvdjrCongEnv4LUZpGMDY2ZjcjtNHh+tdywdNGS4PCcmM2o1ZIueYNv6dKPlYjqWnehrmnBgE39yQfte33xGSIf/Z6IaBaGQoQ889eeMn6chV+UTmRF7DXww3rVq2Gx7EgJMnQwzcW6s1oatvvickQIef3w9nKFENme+GhQhmKkRJyHvudrWA6ZDa8yny5Kr+o9KuLYTXNDyZTfsSyFTPRO8gBVo7n8apEV6UxUW9GU9t+T0yG+HDYVCyz6wfFc+SjxYfDMHWZHcpfTlV+Udm48PNepPYdhf4S9xV+a1hMtALv1HFcU7YpuFqiHpsnyalr0++JzVFhxyeWgi+j3Ler9ItSgaaWCp6e88ZNdsGO9LDHSOn0IbrU0u9B2ahHo6mKOvJ7qooq/aI08fnc+RjwchtsvnTCYZ+NmOvVHK775uKDRupmqcRGw7qv1LnfU1WU94vS6OmMk2eWwOThVky23Yl869mwNqmO2qthoNRGI6Gu/Z6qQqZflCACvkdC0Wf9fiz+WIDfp3+Gr7fcrzqkfgNF6Y1GQp35PVWFTL8oAQLWjMMq4WS4TGe2CzfgNUkPfsudsS+qcb53K7/R1JXfU1VU5BcleAH/q4/R1uQDSJeIUO0Im/VLMEwlGLcfFKwu29ioZ6Opbb8nJseCDCVZFlOV31Mh+UIUXE6Zq6nML4rXEp2NmyE6+AEy2I9DRRWqGh3RuZNyK/CqjWR4uFH4PVEGRfh50fKhbUhFpSNZu/uQP5th1WHtJZfjR17Lh1IbFRXqaO1OPv7hBQlV+UUxHxFGnySnT/uT9dL9dOqMF/00dSTZbrxJVS3BVA7O70m5qJHfk1zkUsrT+/TvnTB6mSnPYmQy4OaelIka+j3JhQbeMfoIfXuZ4F2dxhwHq4G8PdUcNc7vqRZ5S8qQC2tfm0iNRktLC61atZIe4OCoiK5duxZHLH/9+jWSkpKkCRwcFREaGiodjuCaeA6F4YyGQ2Hq0Why8OT8DqycNxvOa/bBL7bmiqWcJ+exY+U8zHZeg31+sdVQAzZmuacYced+guuZ2OIwb9WknowmDf5rp2LZxQw0b9cUz0/Mh5XlXPzFipiqQ5r/WkxddhEZzduh6fMTmG9liblyZ9j45Z6iZ0fh8P0q/H4vtWEajejJWQR0XIXDmxZj7nxXeB2bh+4xF3H+QTVrG9ETnA3oiFWHN2Hx3Plw9TqGed1jcPH8Azlrm0Yu92TK5+DGqxC2rJ3HXS9Go9J5AhbamaDQHYynqQHN1n1h/n7JCT4F5J4qnTFhoR1MijOEhmZr9DV/v7x8syIkJdEQ5J6CQOxx/wOyi2UPNp2OZfcKycPD3VvwYtQcfKzLY4/VjHoxmlLkhuOoWyAsDu/EmNYlL6e6cs9chB91Q6DFYewc07rmN6hsck8NU1gZXYDTnBMoXSzrMd09EX0/eZc9UkDuvR3YmTYOzoPLh9KuNpKJqPqZsBRR3I3d5GjZgdR5PNLqMomORZef6MuP8qaZX80kb8kK/2kB5D7WhtZdlz1/LIq7QbsdLamDOo94Wl1o0rFo6Sy03GQdopEaGjR8f2Xz0/l0b6UZ9XC6ShnsEcm9vLq+gsx1+cRTM6ZvDoRStaYc5Z6wzKco75n01UxvKigWdxprs47KFUvWLXL7YQPdlgSOFEbShkHaNVp0vnZmufMf0bHlq8gnspqzulJeU9QZZzLTUyUD+4vMXnkkhjNjhA2Ntx5DrjeqFhy8jjpDzmZ6pGpgTxcVibQph9EIo/bTRGsXCsxkD0jIDaMj9qPJcfcvtOTT9qSm2pY+33xP5r1UiiiF/t7oRLsC5fkRSgxnBo2wGU/WY1ypfLGk0dVVP9CWB2xetWg0Nay9hXidkYXcGgnpNGE4wgUeU4yRFBaCBBlde0XlnpqGI+DiMQXGSWEIkZVhdXnjck8RBFkZyJarA60KvQ76UE1+imw9Y5QtFlH4bqzxfogbbpNha2sL24nOOB6Rh+hTizFxkgsupbIfrAY1MxpRAm7/6Yu7yTUdlFCDgUF76LXXR7nlkqop91QzMEB7vfbQr631l+pE7pmNsL99cL1kZ6UC0gPcYb+FjwWnruJnyytwnO2NksXCe+cTTHMYjY/NzWEu2Qb0QSddPnQMesG8f1e0rUFQiloqUQURxCM8PIH5jbKIY3E5ALCbMQylfjByyz0FiA8PR0JxhogtyBDDJBk2MrlnesB6FBTLIgzQU4fxuB3YbHEZcxyKDYffygzf/uAABwd2mzURA9qpoaXpWMyc+RW6Nyn4XLWQtFV13REW+DlRF/Um1MlqFrlt206bXVaRp290mbZWAbmnwI+cuqhTk05WNMttG23f7EKrPH0pms2wUck9c2/S+lkbqXyx5FPksbnkfDSG3S+D6BltGtxECTrC1X57ElFmzAMKCHxAUa+q8+ZVHlFmDD0ICKQHUa9IVo6c3LPm1LPck2lb9bvDrF93GDavQeNaAr6OPrqb9UN3w+ZFg4bFcHLP2qSejKau4eSetclbUoac3LM24X54HArDGQ2HwkiNRiIsb91I11vkqD26d+9eWliemJgoTeDgqIjg4GDpwGe9N0/KE90zF49892H3rl3YJdl2bMDeK2V/SBXLQbMe/ontq5wx90c3HLoZLx1ZbqzUm9EoV3RP5usvvbDcYRVcXF3hymxu2+9Bw6RlYWolclAxks7Nx8hpO3H9cRTunHTDd4P7YPTex43WcOrNaJQruqcQD/ZfhsnRJ4iJiZFuzx79Cjs2PJqkmCqUg+bdxr5z+th65TyOe/0O//uXsaJ3Gs5t2AWpGrQRUo/Nk+TUShLdM/0cth66jr89HLBk22k8SJFxzoLMy8lBxen56D/VHsVq0N6YMLon+BmpkKpBGyH1aDRVUXfRPYUxqdDt3wNqD0/BY87XMP3QEsuvJMml2ue3GgTLXqXEoMjMyoF27wGQqkEbIUpsNKiz6J6q3Sdh09EzuB4ei8cX3TFKLwhudvNwKqUaVYUwFKcviDH5x3Eoat0aGUp/W3Ub3VMThkMWwOu3Reideh6n/BXtlIgQfXgjHozcgzWf1KKQW8loEL+Fuo7uqd51FIaZ5CM7W7H3n+z/dmJTjC12LupXWkzWyFB+o6mX6J488FSMYPKe/O9hgnAvuJ/riPnLv0CxGjSdeS9rfNSz0ShDdE8hYm754urjdHYfyPn3GK7pz8K0PmV6shXIQYXR3ljoGoaPPmuDl0GBUjno9TOeWHc0vMYusEqJRJFVL35PyhLdU/SCDoxqSSoa+mQ504U8flpB85fuo6Ayn6tIDipK8CWHbtrEk1hqiY2nYUYuoQoq+LjonspFpXJPYRpF37tFNwODKSajJj5cNYSTeyoTVcg9VXTRsUd/DOjXDfpNG7dUszZ4S4xGjZN71iJvSRlycs/apOZGI06G//YFcHJyKtjmLcSBoEY6U1fbiB7DZ41zcdk5u+DsGx9OqDk1MxrVDhhsNw5mLcQQCoVFm6j0GylHhRDEouJyEwo10dV6OoaZvBnPzNqCJ+kVS1b+v3nzJiR/OTgqwtDQEFevXgXv0aNH5OPjg7t378LFxYVN5uAoz2effYbDhw+DZ2JiQgKBAGKxWCow5+CoiMzMTDRp0oRrnjjkp7B54oYtOBRGsZpGGIpDCzfgcnKJaTieOkztd2KOeSOVqdUlSl6+1atpRPEIPP0XojSNYGxszG5GaKPDVVi1Ak8bLQ0Ky5XZjFoh5Zo3/J4q2diNpKaRe8KyAU1QNgqUbAJTaSYslcZZroq1D+RzpmMq45S78NmyDus2HYR/jGLKv4ZCvRmNMjnLVbX2gYTKnekYxEnw97CF5ZifkTrAHoudJsPCoHHOmNeb0SiPs1xVax9IqMKZTpwAX6ehGH2kNVac2IVp/VqhMQss6rF5kpxaCZzlqlz7gKFSZzoxEk4twMxd2fjGcx2G1FYIWiVGie+wjpzlqlz7gKlnKnOmEz3Dse0+iNM3Q4c7yzFxtA0mOrji5KNs6XcbI0r9s6grZ7nSCBF6+gLEk3/EOLb5qdSZ7tXfuBAoQDODzug1cjE8PRzRN34vbAeOwOaHyi9zqA5KbTQS6tZZjqk4og9j44OR2LPmE5R3dyvvTCdKSkCyUA1mto743KQ1WhlZwGHrUgwVX8euA/+y32tcKL3RSKgzZzmZax+Up6QzHU9XF015BJFQWOSuwm/dB6ZGwMuY5+yRxoXyG01dOctVtPaBzFMVO9PxW5mityEPsc+ii32ceOpMh5yPlo00JF09G40yOMsxVLb2gbgKZzr1frCz64nnZ08iqDDzjBCEvDDCqDFm7IFGhmR4uF6mEZTGWa6KtQ/kcaZ7HUoHJvehPjar6dDJ47Rh6nD61jOAyl+5gijpNMJbM/dUo7UR5HSmy3/1lO7fDaMEhVcHqwBu7qk+qeHaCHI606k2N8JHPU3QupF7y7wlRqPGOcvVIm9JGXLOcrWJ1Gi4iOUc8tC1a1cuYjmHYoSGhkpenLgmnkNxOKPhUJh6NJocPDm/AyvnzYbzmn3wi6150ICcJ+exY+U8zHZeg31+sYqpAd82uacoBXd9tmDduk046B/DHpSPejKaNPivnYplFzPQvF1TPD8xH1aWc/FXGptcDdL812LqsovIaN4OTZ+fwHwrS8yVM8O3S+4pRpK/B2wtx+Dn1AGwX+yEyRYGbJqcSEb66npEWBhxhNwPhRWtapsfvJpMNTqRo1818xVG0BH3QxRWnCGtNtWgTo5+MlfOLY2AAlxn0ebgwqHiLPp3lRk1UXuPnK4VZUh319jSkusVDPWK4umsYw9q+dEcupRcam6jZtT6iLCI4s86Uo+WH9GcS8nMnmLU64iwSucJWGhngkL3L56mBjRb94X5+yWlmgrIPVU6Y8JCO5gUZwgNzdboa/5+ubUMytHQ5Z6CQOxx/wOyi2kPNp2OZfeYK004hQUzdyH7G0+sG9Ki2s1MPfZpWHLDcdQtEBaHd2JM65KXU125Zy7Cj7oh0OIwdo5pXfUNNnS5p4YprIwuwGnOCZQupvWY7p6Ivp+8yx4R4dmx7fCJ04dZhztYPnE0bCY6wPXkIyh8pZJqp34mLEUUd2M3OVp2IHUej7S6TKJj0eUnA/OjvGnmVzPJ+2k+UVoAuY+1oXXXZa+tL4q7QbsdLamDOo94Wl1o0rFo6Qr9ipFP91aaUQ+nq5TBHinmNUVdWk+ju2iRSvsJ5CNpihL30BdafHrHciX9FZZAiU/9aMtoQ1JvbkmbQqu71j6L3M1TPkV5z6SvZnpTQTG501ibdVS6mBJpzxdaxH/Hklb+FUYJiU/Jb8toMlRvTpabQtnPVE71Zrlf/0H2/czJ8e/aMJpCmAdxxpnM9FTJwP4is1ceieHMGGFD463HkOsN2QZTktdRZ8jZTI9UDezpooIzzsKo/TTR2oUCM9kDMhDcW019tVvQ+N9fkzB0LfVR06Bhe1PYVOZZx+6l4bpqZOJ8gz1STfLDyeXzrmSzu5KLKUJiODNohM14sh7jSuWKSRhKa/uokcawvVR0paJY2jtcl9RMnNkDlVO9Pg2vCfjJqVCr1TA2mjAc4QKPKcZICgtBQpH8rRhF5Z6ahiPg4jEFxklhCJGVYUUom9yTrw7NnBcQacvzmFSh10EfqslPka1njHLFxNOFblMeSBKurfhC0afgQtkD8qGY0bwx1GBg0B567fVRrh9ZTbmnmoEB2uu1h768HdMGLvdMD3CH/RY+Fpy6ip8tr8BxtjdKFRPTdzPtbQhe7DNEF18o1NWZe2ip2HXWj9EI4hEensC8H7GIY3E5ALCbMaz06iVyyz0FiA8PR0JxhogtyBDDJBk2crlnesB6FBTTIgzQU4fxuB3YbHEZcxxKGo46+tnZoefzszhZfKEICXkBo1Fj2H05kbRVdd0RFvg5URf1JtTJaha5bdtOm11WkadvNNMql0QBuafAj5y6qFOTTlY0y20bbd/sQqs8fSmazbBRyz1zb9L6WRupfDHlU+SxueR8NIbdl/CaQg9Mpj59bGj1oZN0fMNUGv6tp4zvyqae5Z4iyox5QAGBDyjqVe10qkWZMfQgIJAeRL2SOaDHyT1LkP+Knt6/S2EKXmg9yz350NHvDrN+3WHYvHBErmbwdfTR3awfuhs2Lxo0LIaTe5ZCtTmMPuoJk2peaD0ZTV3DyT1rk7ekDDm5Z23C/fA4FIYzGg6FkRqNRCws2Tg4KqPQTqRGw7xNSTcOjsootJO6b56qG32zImqYX4XRRUWJCDiyHuvWusLz4GU8zmKPF1KlPJRFHIdzP7niTNlYbw2YujOaGkTflEkN86s0uqgoGodtLeD0yBwOS51hzd8D6y9W4UZmQbI88tACRHh21AHfr/od9woFXY2AujOaakffrIAa5ldZdNG0P1diyZWecFo8CHp8DRjZLoFNjiect4ZAKFc00AJETw5i41UhWtZ9ff5GqdPbkZys4uibdRTNswjpt2VEF83EhWN/Irn7QAxswh5SfR/mfXVx1+cEQvLkkIdKyHuI3VteYNScj6HbyN4xlOg3UEfRPKsiLxhB97Og1bZdCZmGCtq3bwN6fAd3s6uWh0okp/d27ETaOGcMLh+4r8GjREbD/KDrJZpnGcTJSEolNG3WDMUVBB/NdJuCl/8KSaVE5RLKRwPNDtiMvaLJmGdetWCsIaJURiOhrqN5loOnAQ01nnRB0mIkyjwRiEnT1Cjd1pSLBpruB48j2pjh2KdUbdSYUDqjkVBn0TxloWoEYwMeMjMymHefQgjpGcyrk24HGJRUApaTh4oQvnsNvB/egNtkW9ja2mKi83FE5EXj1OKJmORyCanSLzZslM9o6iqaZ0WoGMJioBHynkYgushqXiPi8XNo97NA/8LqQ6Y8NB2qA6fBYfTHMDc3l24D+nSCLl8HBr3M0b9rWxmyjYZHnRuNzOibhdRVNM8iZEUXVUffSZPRO+oyLhS+yaX740JgM9jMsIHUPiqUh3ohpe+3+MHBAQ7sNmviALRTawnTsTMx86vuzLtWw6cOjSYTT/yPwfN4EITCUPjuPYlrJXS3klfuW3uOQtVpN37sr8seY1oLxnB2bh6MgB3eeF7qlbvi/MTJ/ji4eQtWTV2KkyVPUZLMJ/A/5onjQUIIQ32x9+Q1FF6OajcnHNhqgvPzFuPg6d+wcc4WJE87iPVfMn0rcSLOOY3Ad9sOY+2Ygejfv3/BZjEWvzX9FKaNoSqpCmKoH2e5N0uN5J2F5CZS+N17FJlSk0xqABfdsy6pobyzEI1W6NKzB4zfqUkmjY9GajRqnLzzDaJ4mYqT4b99AZycnAq2eQtxIKims4+1TQOVd4oew2eNc3HZOrvgbF2+OcqJYkaj2gGD7cbBrIWY6XwyHUh2E3FSnFqCpIOKxWWria7W0zHMpLrza28GxRZz53irqd5i7hwcDLzly5dLXqOQkpKCPn36sIc5OMrj6+uLwYMHg7d69WqKjIxEUlKSdJCKg6Mi/vjjD3z22Wdcn4ZDfrg+DUe1UaymEYbi0MINuJxcYhKIpw5T+52YY/42TLq8YZS8fKtX04jiEXj6L0RpGsHY2JjdjNBGh6uwagWeNloaFJYrsxm1Qso1b/g9Va4BPsVqGsFl/PDhbGgfuQePWrJ8id/R4etaGG/bH9rssRoh8YM6fB1a423RX6EMJWHsj8L/ubBAJiHKhMoHkzDt05KhxQSI+ecwrmuNh22ZzLMe/omDv13Fk9ct0WvUFEwwb4saxysXR8NzcE9cn/4Sv0+oldKpEfXep6nU76g61NQPqtIw9mKkhJzHfmcrmA6ZDa9SmYuRdG4+Rk7bieuPo3DnpBu+G9wHo/c+LqH8a1zUm9FU5ndULWrkByXEg/2XYXL0CWJiYqTbs0e/wo4VikuKqcWHwzB1mR3KXW7ebew7p4+tV87juNfv8L9/GSt6p+Hchl0o4wbVaKjHzojk1LL8jgqpQz+oSsPYsxRkXi5svjg9H/2n2qPYDao3JozuCX5GKhqRU2Up6tFoqqLu/KAqDWNfBfxWg2DZq5QXFDKzcqDdewCK3KAaGUpsNKgzPyjV7pOw6egZXA+PxeOL7hilFwQ3u3k4lVKNqoJ5bT59QYzJP45DUevWyFD626pbPyhNGA5ZAK/fFqF36nmc8le0UyJC9OGNeDByD9Z80ghdK1kaxG+hrv2gSoaxV4Ts/3ZiU4wtdi7qVzqIdiND+Y2mXvygisPYy4sg3Avu5zpi/vIvCtxcGLLT0pn3ssZHPRuNLL+jEtSJH1QVYexLki+Ujr1QGactYbQ3FrqG4aPP2uBlUKDUD+r6GU+sOxouV2e6wSEZEa4XF5aMCPLzWk5D26iQSkdrcvfxp/BS4dYVCHMvJYMi/Lxo+dA2pKLSkazdfcifzbDyMPdyhLFnyIjwI6/lQ6mNigp1tHYnH/9w6XFRgi85dNMmnsRSS2w8DTNyCVV8talSKKkLS6P1eypLpX5Qcoaxr3M4v6f6pAo/KDnD2HMU8JYYjRrnB1WLvCVlyIW5r02KjIbP536DHJWjqqpaHHxagljcSGfXOGoNiQMf0x/mmngOxeGMhkNh6tFocvDk/A6snDcbzmv2wS+25oqlnCfnsWPlPMx2XoN9frEKqgElcs992L1rF3ZJth0bsPdKIptWiETuuRdeMmLqS+Se21c5Y+6Pbjh0M155VXs5T3B+x0rMm+2MNfv8UJ1iryejSYP/2qlYdjEDzds1xfMT82FlORd/pbHJ1SDNfy2mLruIjObt0PT5Ccy3ssRcBTJ8K+Seaf5YO3UZLmY0R7umz3FivhUs5/7FPA0FkYz01fWIsDDiCLkfCitaoDQ/eDWZanQiR79q5iuMoCPuhyisOENabapBnRz9ZC6CWp58urvGlpZcr2QhUMmUxat99KWGBg3fX2J5fUEAuc7aTMGFI81Z/9Iqsyak9p4TXatZMdXyiLCQIo6406HiQqLg1aak0cmR5C32eh0RVuk8AQvtTIoiXfI0NaDZui/M3y8pplRA7qnSGRMW2sGkOENoaLZGX/P3y8kzZdKQ5Z6CQOxx/wOyi2kPNp2OZfdU0HnCQtgVFxI0NTTRuq85ShW7HNR/Rzg3HEfdAmFxeCfGtC55OdWVe+Yi/KgbAi0OY+eY1nLdYIOWe2qYwsroApzmnEDpYlqP6e6J6PvJu+yR0uSGH4VboAUO7xyDUsUuD5Jqp34mLEUUd2M3OVp2IHUej7S6TKJj0eUnC/OjvGnmVzPJ+2k+UVoAuY+1oXXXSzQPJRDF3aDdjpbUQZ1HPK0uNOlYNFMpK8Jrirq0nkZ30SKV9hPIJ7nUNDrT9ByikWWbp7Lk36OVZj3I6WoGe6AGyN085VOU90z6aqY3FRSTO421WUcyi0kURzd2O5JlB3Xi8bSoy6RjJKPYZaJEs9zMgzrjTGZ6qmRgf5HZK4/EcGaMsKHx1mPI9UYlD4zlddQZcjbTI1UDe7pYjYXVBfdWU1/tFjT+9zJfrtJohBS1fyJZuwRSJnukRijUp5EYzgwaYTOerMe4UpXF9DqKzjibkZ6qAdnLWUjV69NQNsQtmyP/NbtfK2jCcIQLPKYYIyksBAky2gRF5Z6ahiPg4jEFxklhCJGVYRUojdxTnIdc7Q5QyZHnHlSh10EfqslPka1njCqLSdMQI1w8MMU4CWEhCexB+VDMaHhNwE9OhZoWu19rqMHAoD302uuXWC6HpZpyTzUDA7TXaw/9chnKg5LIPfnq0Mx5AZF21feQHuAO+y18LDh1FT9bXoHjbG9UWUxqBjBor4f2+i3YA/JRnRKtOYJ4hIcnMO9HLOJYXA4A7GYMK/0LlVvuKUB8eDgSijNEbEGGGCbJsJHLPdMD1qOgmBZhgJ46jMftwGaLy5jjUNpwBPHhCC8uJKbYLyMAdpghLSQFkLRVdd2nEfg5URf1JtTJaha5bdtOm11WkadvNNMql0QBuafAj5y6qFOTTlY0y20bbd/sQqs8fSmazbBRyz1zb9L6WRupfDHlU+SxueR8NIbdF5CfUxdSb9KJrGa50bbtm8lllSf5FhaSHNRzR1hEmTEPKCDwAUW9qp1OtSgzhh4EBNKDqFcyB/Q4uSeDKJNiHgRQ4IMoqk6x17Pckw8d/e4w69cdhs1rZzCDr6OP7mb90N2wedGgYTGc3FMKXwf63c3Qr7shalLs9WQ0dQ0n96xN3pIy5OSetQn3w+NQGM5oOBRGajRaWlpo3bpkbDkOjvJ07969WFj++vVrJCaWValxcJQmODhYOrDJNU8cClP3RiMJ2brXCzJkttWj2vll4eGf27HKeS5+dDuEm/FlJidFiQg4sh7r1rrC8+BlPM5ij5dDjLhzP8H1TGypKYOcyAvY6+GGdatWw+NYEJIUm/tUaurOaGoYsrUcNclPnIRz80di2s7reBx1ByfdvsPgPqOx9zH7ZEXROGxrAadH5nBY6gxr/h5Yf7EKNzILkksienYUDt+vwu/3UouMJv3qYlhN84PJlB+xbMVM9A5ygJXjebyqi4moOqDujKZGIVtlUIP88m7vwzn9rbhy/ji8fvfH/csr0DvtHDbsuiX1YEj7cyWWXOkJp8WDoMfXgJHtEtjkeMJ5a0jpWWvRExzceBXCliWLMRsXft6L1L6j0F8yw85vDYuJVuCdOo5rNf2hKAl12jxJTlZxyNa6CgErRnp+f0y174ZiWe8EjO7JR0aqpLbIxIVjfyK5+0AMLFx5XfV9mPfVxV2fEwgpspo8PNy9BS9GzcHHujz2mAQVaGqp4Ok5b9xkZf7pYY+R0ulDdKmVX0v9U6dGUzl1FQKWj1aDLFFa1puJrBxt9B7QG+p5wQi6nwWttu1KaHtU0L59G9DjO7jLNlG593ZgZ9o4OA8uG5BRE5/PnY8BL7fB5ksnHPbZiLlezeG6by4+aCTTWkpkNMwPuo5CwJZFGHoaF8ST8eO49uCLk5GUSmjarBmK6w8+muk2BS//FZIkngrZAdi8V4TJ88xlKvQ0ejrj5JklMHm4FZNtdyLfejasTWTNlDZMlMpoJNRtCFgGSad34wOM3LMG0iiuPA1oqPGkq9YWQxAJRRKRDDQ1MuDncQTaMxzRp6LpLEEEfI+Eos/6/Vj8sQC/T/8MX2+5L0MA1jBROqORUHchYLPx385NiGFqg0X92POoGsHYgIfMjIwSHpKE9AymXdLtgPYpe7HG+yFuuE2Gra0tbCc643hEHqJPLcbESS64lCpAwJpxWCWcDJfpzHbhBrwm6cFvuTP2RTWO927lM5o6CwErQLiXO851nI/lX7RlCyIbaVkdYDHQCHlPIxBd9IxfI+Lxc2j3s8CAdz/BNIfR+NjcHOaSbUAfdNLlQ8egF8z7d0VblRfwv/oYbU0+gFRKrdoRNuuXYJhKMG4/yJfm1tCpc6ORGbK1kDoJAStBiGjvhXAN+wiftXmJoECJrvc6zniuw9FwVfSdNBm9oy7jQuGbXLo/LgQ2g80MG7RrY4Zvf3CAgwO7zZqIAe3U0NJ0LGbO/Ardm7VEZ+NmiA5+gIyCbzP9aFWoanRE506KvukpKRIZX93IPSsO2VpAHYWAJREl+DpQN21eKU0v05khDTMXKpD15lLYr/Y0dNQC+uWUN3lMGkqjXP0opYzvnBTRM9o0uAmZrg4u0jgLo0+S06f9yXrpfjp1xot+mjqSbDfepKo9tspQ23LPGqJEznJvhko1wfKSm0jhd+9RZEp1MsmllKf36d87YfQys5q6YyU1GqXsCNecKjTB8qLRCl169oDxO9XJRAPvGH2Evr1M8K5O49IdN1KjUeM0wW8QxctUnAz/7Qvg5ORUsM1biANByjap0kA1waLH8FnjXFy2zi44+0beHGuGYkaj2gGD7cbBrIVYGumxcBOVfHPhqAEkHVQsLltNdLWejmEmyvXWpdgSyxxvNfW+xDJHw4XXqVMnys/Plwaf1tBoPJNqHLVPdna21AmBFxERwfVIOBRC2qdh/+fgkAuuT8OhMG9lTZOX9Ag3Lp3HhUdtMGXVeJgoMmAr8X44fB1a423RX5s9JkWExAAvHPw7GkJtfZj9zwafdSkp66giXeL94HUQf0cLoa1vhv/ZfIZSX68UAeLvX4HvmUvIsfwJswdVFBIiD88ue+GPwLv4N4QwcPYqzBzwDpumABKjebvIp9i7vuQ6rAWpfbCAbsk7jSZKpuBz+2ieRUviawyn0rEahRR1aCyZ9F9M11JFlPv0EI39cCCtvF4Y4bOKdGEUHRprQv0XX6NUUS49ZT774cCVVPT1qsiNoX+9ZlB3taY05njF81TZ/guov80BShTG05nZ5mS+xI9NUYy30Ggk5NP9Fb1IUxGjYSgIWv4laZQ1mtRTZNe+JX3jXfiU8+kek39Ts3UULJn6riI99ZQdtW/5DRUn36MVvZqS2brimfMqyTxIIzUrM5pcOj9Nn/SnnWf+qxlFfZq81CiEPnyOzDLiMnF2ClJymNoz/Rkex2azR5kK8VUUgv+7j6evZEwhCNMR8zAUUamypxcqOldZxJlJ0nNDkITIsBiZnxekRCLkUSyyKsironSJT7KiSApLlvdD5oVj+DO5OwYWuy/gffO+0L3rgxMhwirSU+X0fqiA3HiEh0YhtVJ9lxA56YmIep4MsTAXGemZyBIUF4g4JwHhD0IRkybflAUfeY9xYu1CuOz9A+f2focexlb46VYmxElBOLJoJD40tMSSbYtg1eMDdBu6hjlDHM4uHA7bTUFITv0Prp+b4vsTL4scxXLv7YTdtytwPvhf7LIxQYfulrAePxUefozBVXCusohTbuOXOVZ4z+BTLPBwxBcWQ2E1oDPafjgOBx4VGKLo+VksGTMWS47dRvDVjfj6I1NM3HUXhY6QVaXXHnkIDrqPLK22aFcikqhK+/ZoQ49x525K5em3A+XyfiiH+BVueU7CmPnH8d/Dy9i26BfcreiZCx/h7M6fcfGJEBkhZ7Bz2zYcvZEAsTge/6yfiRkuvzF5nIFjvw9gveUuqnRWDXGzpOFboqRVLwmf0kYLDdK23ESRQiLBNSd6T60FWW0KpqzMJ3Tr32gSxWwhS+33aK6/pF4X0M3575POsD2UKP1+BHkO1qNPPAvyE4aspb6a7WnaeUmFmE+VnassgquO1EmtDVkfiJJW0cIYbxpvqEbvjDpAsXmRtOPzNjTQPawoInnqme9IX6MLOV7JYj5cRTqT44OVvRVuniRkHRpZpnl6TX9Mak2q+vZ0sUS9L3q2mQarq5G5ewj9Xln6ul00sbUq6dtfLNFsiOjZ5sGkrmZO7hGytDgiij/+LRmZu7KiMUlxetAg9UqaJ9FL2vapJr373Vk2wLeQnu76H3WfcopeSffzKWilKb1jupLuVNEm8n18QpAU9DOWLl6Mxct2I7rTSAwz4El9j/k6TdFEpS16m3dBE51O6N+3I/j69vAKuYy1A4GE/87i70eZTGuUigxJbSd8hoio18hkqj9JzaPSuT9MW2cgOZmpOxlrr+xcZeE30YEWc+6uPTtIF7FQ0f8ac21NkOl3AdfCT8LLTwMf9TZkfpMF6FmNw//aRMHnVz/kRFeeXhwUtTbgQUNDDTyxqJT3JYkkE7lMmmSxkMrStZpAs1LvBx5EebnIyckp2HIFEApjcWKvLzQHWaIze4MqrVvhneKKrGpEETj2yw10/vQzNJceUIXpqkAkBq5CryrmR/kxcXx8YLMabm5uzPYTth74DT4H58Cs1FtbyatRg0q8L9bNd8O57F6w7K4n9Q+Svrdr9Mbwzzsg/PRRBDLVqjj9JRI1h2CEBfNuKoyBfOeqCFV07tQRKnl5eP0yjjG0fOTllRgtUDWCkT6QmpyM3LjK02tX3q0KI2MD8DIzCn44LJSegUzoooNBG3SqLL1jd3SqxPvBoHki9n3dTho/SLq9+ynWPwhDWGQeNDW1qj/Qlh+Jp88Jqqolc1CBihzDD3xdnVTcvBJYSoAtenkbt2W5xzIIgzfAesRxtJm9DFMs9MtE0myO4Vt8sPK9e9i91g1bjmRh0pkjmGLAXBhfF4qeqzRiZGRkgd+5K7ozxtOOn4zgu1ElCjoP+fkq0O/cGdr6lafXILClDFRgaDEQRnlPEVHsvoDXEY/xXLsfLPo3qTx9oEml3g/9tdvC/uwrZGVlFWypN7CkWzM00RIj5nF49fto/OZo3jQHAZeulFokTBD5EJFVOGjxP7d8F1H7nTD/2H0kCsTIjjyNNev/hdq7jMlJXsmZh1VyJd1XN64giLlS6W9YlISIyBSIBLnIlR5Iw+WVqxBrdwT71i+Gk/MPGGnCvhKo90Kl55IFCZCby55bHIvzl6Jg/v1E9DQag6n/ewf3fH7FXbatESfeREBcf0z/rh809StPlxiNWDKmKZbcn4Q8hJ9YCac1PgirosBkeT+o952Eyb2jcPnCM9ZI0+F/IRDNbGbApi2/inTNSr0fCkPml0K9B4YN6YgM363YJnkYDMLYOCQzTdzrnIoaX6Y5ZO5XJGLPod4bo4YbI/7XebDffg0xWXl4dW8/Fu0NgRZTQHnhJ7DSaQ18ZBWIKPEqrR3WkTT5PFLV1CNjy/l0KlpIooRAOuRgRrp8ber5/S66+DC1oHP7cDt90UaN1Fp2JSu7FbR7hRXpabSnQbO8KFzwjI7YGpEmj0d8VaaT26w5tTXqRSOWnKUXzJcrOpcs8m8voW7qraiPjT3NX7eB1s4cTd+uvkxx0l40k1eyH/1k3Zv6jVlOO/fvoKVTvyfXy3FFHd+K04X04uZBmm3WjPg6fWn2oZsUI4ilPV82Ix6vGX1d3n2BpXJvitywX8l+6Cha8Msp8vaYRENHuZJfCfeFytMV8H5gEaXcoA2jOpGOriH1G/IVTVo8mQbo6ZP5xLXkG1mmJyt8QbeOLiLLlnxS7TyGNvoE0DPJC0BGEO349kNqpsojnooOdf6fC12VLlckotg9X1Iz5jk2+/qoNIuSFA3uvU6Mpqj4rKJCrwxRZhw9Yz5bcE9ZFBcdT9mSndchdHCZK515GEkhQTfJ/8olOv+HF236bjytLdEll+dcUqPR7EHLgjIp+dkzSq5gREqUFU/RsRkV5lVVehGCNIrcM5sW18x9gRLD79K9yJQKBtCqSK+G90NuchRFvGDuT5RFGZmVWFkl5KfGUHR8Nvs8CxFQWuQemr34CrtfTC2OCAsp1HUA6Y/3odK/1Vx6uH8jHZdUNQpQYDQf0bKq3v9qiazgY7TWw5diq1fujY+sYDq21oN8ZRRILU5YihHnMw0Wk09B7eORGNKtDdQFr5Cc1QS9Ji7CbMtC11f5yPT9Hh9a/4WhPqE4MFKXPfrmyGM6mWIdHXAhqlnymE63WAey9Pm1PsudE3MLF67cQ5yoBYy7msKsbyc0l+M1riTiuAB4nw5EgoDAU20KgwEjMcq0VfVfLzlqFU6ExaEw3I+XQ2F4c+fO5WoaDoXgeXp60qNHjxAXF4dPP/2UPczBUZ4jR47gq6++4pzl6h4BXt69joevO6BXPxO0aEAhazhnufpA+ARHZs/E/pft0UnjJtbYeyKoimkLZYQzmjok6/RKLI4eBIfh78PIdDzG6Hnjp98SigRsDYUGaTQ5T85jx8p5mO28Bvv8YlFVzIo3s05BGu6f9ysxM12MIDEUV0//ioPHLiEsvdgkBGlpeK2myQa95kNDIxdB1+/WslTjzdPgjCbNfy2mLruIjObt0PT5Ccy3ssTcv0pO7pemttcpED05i03rVmPl9P9h6OT9uFfmiaf5rcS4hf5457NxGGeeg71TZuIYO3vdfLgdhqcF4pbkcrNDcOteErKys9mZ9gaEpCMsd/i0+kYYQUfcD1FYoUQzP5hWm2pQJ0c/mcsqSyZTvce2oA8XBhSl599dTr3etaPTBZpHxRFkUWauiHL/caBObSbSqZL55AfRij696MeAwrOJKH7/SHpv/AlWUkmU+/QiHdr7C+3e/Rsdc+5NPRYFVnDtykfDDJ+m0hkTFtrBpFBFxWOqes3W6Gv+vlQSWh551ilQcE0G9SbQ0ZBdbML7p3D6iRE+6lZ4gXw0/6ALVC/+jssS2YsgBH9e4WPId5MxfWpvxIfqwHps71oWhb15GnBHOBfhR90QaHEYO8e0ruBG5FmnoPbWZMh78hjPtPSgW2KuTaV5czTNjkT4c8Yo82Lgf9oXAfcDcHLjVsSP24kfqxLkKiOSaqfBNE8sorgbtNvRkjqo84in1YUmHYuuRC8jolfXV5C5Lp94asb0zYFQkqXXz4/ypplfzSTvp/lEaQHkPtaG1l2vOIirrOYpZc8XpNX+e5I6X7AII9zJXOsDWsi6PYgyntH928EUm9XwNBgNOronv605pm+5gojwPzDvo0T8+qMbrlQ03iHnOgU1X5NBLJWCMmVbumMrFhe8UrO+efymBvioTze0a9JwK/kG3DwxjY/hCLh4TIFxUhhCEmS9Dim2TkHN1mTgQ0evGdTz81HSCYLy8pDP00GzZgrqQ5SYBm00EtQMDNBerz30S3gvFiFSYJ2CWliTQePDruj0OhnJr9kDDKLkJKQ26QwTfc5o6gkB4sPDkVAkuBcj9nIAYDcDw9iKITvEG+s9z+Kp5HmryLlOQTXWZGDaoXJNkWrX0bDuGoX79wsvUIy4e6HAl2MxRNGKS5mRdHAaTEdY4EdOXdSpSScrmuW2jbZvdqFVnr4UXSQjzqegZT1IvYklbX5a0DWuep0CxdZkEMb8RdtWr6B51t1Ir1kXGj5nBa3Z9GeRa3FW4HqyGb2YfO5HU/hlT5o0cjadUlAfrawUdoQb3Cy3OOs5QkPjgDbvwcSwefkxDnEmElPU0LpVSXGrAK+iwhGZpoEO73V+42HnJdd4/9Z/iG3SDQP7dUbzBvhWLYvCWW5OGsEhN5w0gqPacEbDoSDA/wHwwJG0NaFNAAAAAABJRU5ErkJggg==)\n",
        "\n",
        "As we can see from this screenshot, every time the block is built with the following pattern: the third layer has 4 times the number of filters of the previos layers."
      ],
      "metadata": {
        "id": "f_uGWLkqgeel"
      }
    },
    {
      "cell_type": "markdown",
      "source": [
        "## 2 - Define Identity and Projection block"
      ],
      "metadata": {
        "id": "gIkkZw6JfW2M"
      }
    },
    {
      "cell_type": "markdown",
      "source": [
        "In this identity block, the variable _x_ represents the input tensor. Namely, it is the input tensor that we want to process through the identity block.\n",
        "\n",
        "In this function, the returned **x** represents the combined result of processing the initial input tensor through the identity block's convolutional and normalization layers and adding it back to the original input tensor."
      ],
      "metadata": {
        "id": "x7QlIkajgFqu"
      }
    },
    {
      "cell_type": "code",
      "source": [
        "def identity_block(input, filters):\n",
        "  \"\"\"\n",
        "  In this function, the returned x will be the combination of the \"processed\"\n",
        "  input tensor (i.e., the tensor that went through all the layers) and the\n",
        "  initial input\n",
        "  \"\"\"\n",
        "\n",
        "  # 1x1 convolutional layer\n",
        "  x = Conv2D(filters=filters, kernel_size=(1,1))(input) # should we add the strides?\n",
        "  x = BatchNormalization()(x)\n",
        "  x = ReLU(x)\n",
        "\n",
        "  # 3x3 convolutional layer\n",
        "  x = Conv2D(filters=filters, kernel_size=(3,3), padding='same')(x)\n",
        "  x = BatchNormalization()(x)\n",
        "  x = ReLU()(x)\n",
        "\n",
        "  # final 1x1 convolutional layer\n",
        "  x = Conv2D(filters=4*filters, kernel_size=(1,1))(x)\n",
        "  x = BatchNormalization()(x)\n",
        "\n",
        "  # skip connection\n",
        "  x = Add()([input, x])\n",
        "\n",
        "  # ReLU activation function\n",
        "  x = ReLu()(x)\n",
        "\n",
        "  return x"
      ],
      "metadata": {
        "id": "mkiVWd4bdF3X"
      },
      "execution_count": 9,
      "outputs": []
    },
    {
      "cell_type": "markdown",
      "source": [
        "The purpose of the projection block is to adapt the dimensions of the input tensor to match the dimensions of the output tensor so that they can be added together.\n",
        "\n",
        "Here are the main components and steps involved in a projection block:\n",
        "\n",
        "1) **Left Stream**: This stream operates on the input tensor and is responsible for performing the main convolutional and normalization operations.\n",
        "\n",
        "2) **Right Stream (Shortcut)**: The right stream is responsible for adjusting the dimensions of the input tensor so that it matches the dimensions of the output tensor. It typically involves a 1x1 convolution layer with an appropriate stride to achieve the necessary downscaling or upscaling.\n",
        "\n",
        "3) **Skip Connection**: Just like in identity blocks, a skip connection is used to add the processed left stream tensor to the adjusted right stream tensor.\n",
        "\n",
        "4) **ReLU Activation**: After the addition of the tensors, a ReLU activation function is applied to the combined tensor.\n",
        "\n",
        "*The key idea is that the right stream, which includes the 1x1 convolution, adjusts the dimensions of the input tensor so that it can be added to the left stream without causing dimension mismatches.*\n",
        "\n"
      ],
      "metadata": {
        "id": "AZTc2BFPkmAC"
      }
    },
    {
      "cell_type": "markdown",
      "source": [
        "In a projection block, the first 1x1 convolution typically has a stride of 2 to downsample the spatial dimensions, while the subsequent 3x3 convolution and the final 1x1 convolution usually have a stride of 1. This is to ensure that the spatial dimensions of the feature map are maintained until the final 1x1 convolution, which adjusts the number of filters."
      ],
      "metadata": {
        "id": "pAcQtKx6qXy-"
      }
    },
    {
      "cell_type": "code",
      "source": [
        "def projection_block(input, filters, strides):\n",
        "\n",
        "    \"\"\" left stream \"\"\"\n",
        "    # 1x1 convolutional layer\n",
        "    x = Conv2D(filters=filters, kernel_size=(1,1), strides=(2,2))(x) # strides=(2,2) for downsampling\n",
        "    x = BatchNormalization()(x)\n",
        "    x = ReLU()(x)\n",
        "\n",
        "    # 3x3 convolutional layers\n",
        "    x = Conv2D(filters=filters, kernel_size=(3,3), strides=(1,1), padding='same')(x) # 'same' padding to maintain the spatial dimensions\n",
        "    x = BatchNormalization()(x)\n",
        "    x = ReLU()(x)\n",
        "\n",
        "    # 1x1 final convolutional layer\n",
        "    x = Conv2D(filters=4*filters, kernel_size=(1,1), strides=(1,1))(x)\n",
        "    x = BatchNormalization()(x)\n",
        "    x = ReLU()(x)\n",
        "\n",
        "    \"\"\" right stream \"\"\"\n",
        "    # 1x1 convolutional layer\n",
        "    shortcut = Conv2D(filters=4*filters, kernel_size=(1,1), strides=(2,2))(input) # strides=(2,2) for downsampling\n",
        "    shortcut = BatchNormalization()(shortcut)\n",
        "\n",
        "    \"\"\" combine left and right streams \"\"\"\n",
        "    # skip connection\n",
        "    x = Add()([shortcut, x])\n",
        "    x = ReLU()(x)\n",
        "\n",
        "    return(x)"
      ],
      "metadata": {
        "id": "hi0cFRaEbL8C"
      },
      "execution_count": 10,
      "outputs": []
    },
    {
      "cell_type": "markdown",
      "source": [
        "## 3 - Build the model, following the ResNet50 architecture"
      ],
      "metadata": {
        "id": "do7vyIB9uEOA"
      }
    },
    {
      "cell_type": "code",
      "source": [
        "def build_resnet_model():\n",
        "\n",
        "  # first layer\n",
        "  x = Conv2D(filters=64, kernel_size=(7,7), strides=(2,2))\n",
        "  x = BatchNormalization()(x)\n",
        "  x = ReLU()(x)\n",
        "  x = MaxPool2D(pool_size=(3,3), strides=(2,2), padding='same')(x) # not sure about the padding here\n",
        "\n",
        "  # first block of 3\n",
        "  for _ in range(2):\n",
        "    x = identity_block(input=x, filters=64)\n",
        "\n",
        "  # second block of 4\n",
        "  for _ in range(3):\n",
        "    x = projection_block(input = x, filters = 128, strides=2)\n",
        "\n",
        "  # third block of 6\n",
        "  for _ in range(5):\n",
        "    x = projection_block(input = x, filters = 256, strides=2)\n",
        "\n",
        "  # fourth - and last - block of 3\n",
        "  for _ in range(2):\n",
        "    x = projection_block(input = x, filters = 512, strides=2)\n",
        "\n",
        "  # final step\n",
        "  x = AveragePooling2D()(x)\n",
        "  x = Dense(1, activation='sigmoid')(x)\n",
        "\n",
        "  # model\n",
        "  ResNet50 = Model(inputs=input, output=x)\n",
        "  return ResNet50"
      ],
      "metadata": {
        "id": "8vfNEpthuJ0O"
      },
      "execution_count": 13,
      "outputs": []
    },
    {
      "cell_type": "markdown",
      "source": [
        "--------------------------------------------------------------------------------\n",
        "\n",
        "## **APPENDIX**\n",
        "\n",
        "**Question 1: why do we write the (x) outside the parenthesis?**\n",
        "\n",
        "The syntax of using a separated parenthesis to apply a layer to a tensor in Keras and TensorFlow functional API has a specific purpose and advantage in terms of flexibility and modularity in building complex neural network architectures.\n",
        "\n",
        "Here's why this syntax is used:\n",
        "\n",
        "1. **Separation of Concerns:** By using a separate set of parentheses, you clearly separate the definition of the layer from its application to the input tensor. This makes the code more readable and easier to understand, especially in complex models.\n",
        "\n",
        "2. **Reusability:** Separating the layer creation from its application allows you to reuse the same layer in multiple parts of the model. You can create a layer once and apply it to different input tensors as needed.\n",
        "\n",
        "3. **Dynamic Graph Construction:** Keras and TensorFlow allow you to construct models with dynamic architectures, where the shape of the input tensor may vary. Using this syntax allows you to apply a layer to a tensor without needing to know the shape of the tensor when you define the layer.\n",
        "\n",
        "4. **Functional API Flexibility:** The functional API in Keras is designed to offer flexibility in creating custom models with complex architectures. The separation of the layer definition from its application gives you control over the flow of data through the network.\n",
        "\n",
        "In summary, the syntax of using a separate set of parentheses to apply a layer to a tensor is a design choice that provides modularity, reusability, and flexibility when building complex neural network models. It helps make the code more readable and easier to work with, especially in scenarios where you have multiple layers applied to different input tensors within a single model.\n",
        "\n",
        "--------------------------------------------------------------------------------\n",
        "**Question 2:  focusing on those block (three times etc, four times etc, six times etc...) how can I know which one of them is identity block or projection block?**\n",
        "\n",
        "In a ResNet architecture like ResNet-50, the different types of blocks are organized as follows:\n",
        "\n",
        "1. **Conv1 Layer (Initial Convolution):**\n",
        "   - Convolutional layer with a kernel size of 7x7, 64 filters, and a stride of 2.\n",
        "   - This is followed by a 3x3 max-pooling layer with a stride of 2.\n",
        "\n",
        "2. **Block 1: Identity Block (Repeated Three Times):**\n",
        "   - Each block in this stage consists of three identity blocks.\n",
        "   - Identity Block: These are the basic building blocks of ResNets, and they do not change the spatial dimensions of the input feature map. They consist of a series of 1x1, 3x3, and 1x1 convolutional layers.\n",
        "   - Filters: The number of filters increases with each block, but each identity block within the block has the same number of filters.\n",
        "\n",
        "3. **Block 2: Projection Block (Repeated Four Times):**\n",
        "   - Each block in this stage consists of four projection blocks.\n",
        "   - Projection Block: These blocks use 1x1 convolutional layers to downsample the input feature map's spatial dimensions. They include 1x1, 3x3, and 1x1 convolutional layers.\n",
        "   - Filters: The number of filters increases with each block, and projection blocks are used to downsample the spatial dimensions.\n",
        "\n",
        "4. **Block 3: Projection Block (Repeated Six Times):**\n",
        "   - Each block in this stage consists of six projection blocks.\n",
        "   - Projection Block: Similar to Block 2, these blocks downsample the feature map's spatial dimensions.\n",
        "\n",
        "5. **Block 4: Projection Block (Repeated Three Times):**\n",
        "   - Each block in this stage consists of three projection blocks.\n",
        "   - Projection Block: These blocks downsample the feature map's spatial dimensions.\n",
        "\n",
        "So, in ResNet-50, you can identify the identity blocks as the ones within Block 1 (repeated three times), and the projection blocks as the ones within Blocks 2, 3, and 4, based on their role in changing the spatial dimensions of the feature maps. Identity blocks preserve spatial dimensions, while projection blocks adjust them. This is a common pattern in ResNet architectures to enable efficient training of very deep networks."
      ],
      "metadata": {
        "id": "bR24XiNejRiX"
      }
    },
    {
      "cell_type": "code",
      "source": [],
      "metadata": {
        "id": "6XEPWgU8ohZf"
      },
      "execution_count": null,
      "outputs": []
    }
  ]
}