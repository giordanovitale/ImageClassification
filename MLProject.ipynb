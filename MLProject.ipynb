{
  "cells": [
    {
      "cell_type": "markdown",
      "metadata": {
        "id": "Lxk0p96TNWf8"
      },
      "source": [
        "### Importing libraries"
      ]
    },
    {
      "cell_type": "code",
      "execution_count": 4,
      "metadata": {
        "colab": {
          "base_uri": "https://localhost:8080/"
        },
        "id": "FXlJBEQV_9DL",
        "outputId": "9ff26deb-1edf-4b9a-a26b-7c9df6e8a36c"
      },
      "outputs": [
        {
          "output_type": "stream",
          "name": "stdout",
          "text": [
            "Mounted at /content/drive\n"
          ]
        }
      ],
      "source": [
        "import os\n",
        "import tensorflow as tf\n",
        "from tensorflow.keras.preprocessing import image\n",
        "from tensorflow.keras.applications import ResNet50\n",
        "from tensorflow.keras import Sequential\n",
        "from tensorflow.keras.applications.resnet50 import preprocess_input\n",
        "from tensorflow.keras import Sequential\n",
        "from tensorflow.keras.layers import Dense, Flatten, Conv2D, MaxPool2D, Activation\n",
        "from tensorflow.keras.optimizers import Adam\n",
        "import tensorflow_hub as hub\n",
        "import numpy as np\n",
        "from google.colab import drive\n",
        "import numpy as np\n",
        "import matplotlib.pyplot as plt\n",
        "import json\n",
        "drive.mount(\"/content/drive\")\n",
        "os.chdir(\"/content/drive/MyDrive/MachineLearningProject\")"
      ]
    },
    {
      "cell_type": "markdown",
      "metadata": {
        "id": "bmtMrjVOErdK"
      },
      "source": [
        "### Loading data set"
      ]
    },
    {
      "cell_type": "code",
      "execution_count": null,
      "metadata": {
        "colab": {
          "base_uri": "https://localhost:8080/"
        },
        "id": "MsTmaFnRRAY5",
        "outputId": "c1fc940f-18c7-47c7-c667-ffcdce1c2602"
      },
      "outputs": [
        {
          "name": "stdout",
          "output_type": "stream",
          "text": [
            "Found 4743 files belonging to 2 classes.\n",
            "Using 3558 files for training.\n",
            "Using 1185 files for validation.\n",
            "Found 1184 files belonging to 2 classes.\n"
          ]
        }
      ],
      "source": [
        "train_ds, val_ds = tf.keras.utils.image_dataset_from_directory(\"/content/drive/MyDrive/MachineLearningProject/data/train\",\n",
        "                                                               label_mode=\"binary\",\n",
        "                                                               color_mode=\"rgb\",\n",
        "                                                               batch_size=32,\n",
        "                                                               image_size=(64, 64),\n",
        "                                                               shuffle=True,\n",
        "                                                               seed=42,\n",
        "                                                               subset=\"both\",\n",
        "                                                               validation_split=0.25)\n",
        "\n",
        "test_ds = tf.keras.utils.image_dataset_from_directory(\"/content/drive/MyDrive/MachineLearningProject/data/test\",\n",
        "                                                      label_mode=\"binary\",\n",
        "                                                      color_mode=\"rgb\",\n",
        "                                                      batch_size=32,\n",
        "                                                      image_size=(64, 64),\n",
        "                                                      shuffle=True,\n",
        "                                                      seed=42)"
      ]
    },
    {
      "cell_type": "markdown",
      "metadata": {
        "id": "NsKXYxPCEa8l"
      },
      "source": [
        "### Data Preprocessing Pipeline"
      ]
    },
    {
      "cell_type": "code",
      "execution_count": null,
      "metadata": {
        "id": "Fe13jfU8NZHI"
      },
      "outputs": [],
      "source": [
        "data_augmentation = tf.keras.Sequential([\n",
        "    tf.keras.layers.RandomFlip(mode=\"horizontal\"),\n",
        "    tf.keras.layers.RandomContrast(factor=0.3),\n",
        "    tf.keras.layers.Lambda(function=tf.image.per_image_standardization)\n",
        "])"
      ]
    },
    {
      "cell_type": "markdown",
      "metadata": {
        "id": "Ql8N3Mqp-_sI"
      },
      "source": [
        "### Sequential Models"
      ]
    },
    {
      "cell_type": "code",
      "execution_count": null,
      "metadata": {
        "id": "CJ423bauprGz"
      },
      "outputs": [],
      "source": [
        "model_1 = Sequential([\n",
        "    tf.keras.layers.RandomFlip(mode=\"horizontal\", input_shape=(64, 64, 3)),\n",
        "    tf.keras.layers.RandomContrast(factor=0.3),\n",
        "    tf.keras.layers.Lambda(function=tf.image.per_image_standardization),\n",
        "\n",
        "    Conv2D(filters=10,\n",
        "           kernel_size=(3, 3),\n",
        "           strides=(1, 1),\n",
        "           padding='valid',\n",
        "           activation=\"relu\",\n",
        "           kernel_initializer=\"glorot_normal\"),\n",
        "\n",
        "    MaxPool2D(pool_size=(2, 2),\n",
        "              strides=None,\n",
        "              padding=\"valid\"),\n",
        "\n",
        "    Conv2D(filters=10,\n",
        "           kernel_size=(3, 3),\n",
        "           strides=(1, 1),\n",
        "           padding='valid',\n",
        "           activation=\"relu\",\n",
        "           kernel_initializer=\"glorot_normal\"),\n",
        "\n",
        "    MaxPool2D(pool_size=(2, 2),\n",
        "              strides=None,\n",
        "              padding=\"valid\"),\n",
        "\n",
        "    Conv2D(filters=10,\n",
        "           kernel_size=(3, 3),\n",
        "           strides=(1, 1),\n",
        "           padding='valid',\n",
        "           activation=\"relu\",\n",
        "           kernel_initializer=\"glorot_normal\"),\n",
        "\n",
        "    MaxPool2D(pool_size=(2, 2),\n",
        "              strides=None,\n",
        "              padding=\"valid\"),\n",
        "\n",
        "    Flatten(),\n",
        "\n",
        "    Dense(1,\n",
        "          activation=\"sigmoid\",\n",
        "          kernel_initializer=\"glorot_normal\",\n",
        "          bias_initializer=\"zeros\")\n",
        "])"
      ]
    },
    {
      "cell_type": "code",
      "execution_count": null,
      "metadata": {
        "colab": {
          "base_uri": "https://localhost:8080/"
        },
        "id": "5zRWmh1dqU4k",
        "outputId": "2fca0b5e-beb5-4040-8858-61616d59b41f"
      },
      "outputs": [
        {
          "name": "stdout",
          "output_type": "stream",
          "text": [
            "Model: \"sequential_5\"\n",
            "_________________________________________________________________\n",
            " Layer (type)                Output Shape              Param #   \n",
            "=================================================================\n",
            " random_flip_4 (RandomFlip)  (None, 64, 64, 3)         0         \n",
            "                                                                 \n",
            " random_contrast_4 (RandomC  (None, 64, 64, 3)         0         \n",
            " ontrast)                                                        \n",
            "                                                                 \n",
            " lambda_4 (Lambda)           (None, 64, 64, 3)         0         \n",
            "                                                                 \n",
            " conv2d_9 (Conv2D)           (None, 62, 62, 10)        280       \n",
            "                                                                 \n",
            " max_pooling2d_9 (MaxPoolin  (None, 31, 31, 10)        0         \n",
            " g2D)                                                            \n",
            "                                                                 \n",
            " conv2d_10 (Conv2D)          (None, 29, 29, 10)        910       \n",
            "                                                                 \n",
            " max_pooling2d_10 (MaxPooli  (None, 14, 14, 10)        0         \n",
            " ng2D)                                                           \n",
            "                                                                 \n",
            " conv2d_11 (Conv2D)          (None, 12, 12, 10)        910       \n",
            "                                                                 \n",
            " max_pooling2d_11 (MaxPooli  (None, 6, 6, 10)          0         \n",
            " ng2D)                                                           \n",
            "                                                                 \n",
            " flatten_3 (Flatten)         (None, 360)               0         \n",
            "                                                                 \n",
            " dense_3 (Dense)             (None, 1)                 361       \n",
            "                                                                 \n",
            "=================================================================\n",
            "Total params: 2461 (9.61 KB)\n",
            "Trainable params: 2461 (9.61 KB)\n",
            "Non-trainable params: 0 (0.00 Byte)\n",
            "_________________________________________________________________\n",
            "None\n",
            "Epoch 1/50\n",
            "112/112 [==============================] - 632s 6s/step - loss: 0.6167 - accuracy: 0.6391 - val_loss: 0.4736 - val_accuracy: 0.7872\n",
            "Epoch 2/50\n",
            "112/112 [==============================] - 19s 166ms/step - loss: 0.4747 - accuracy: 0.7802 - val_loss: 0.4016 - val_accuracy: 0.8243\n",
            "Epoch 3/50\n",
            "112/112 [==============================] - 18s 156ms/step - loss: 0.4165 - accuracy: 0.8134 - val_loss: 0.3741 - val_accuracy: 0.8252\n",
            "Epoch 4/50\n",
            "112/112 [==============================] - 19s 160ms/step - loss: 0.3907 - accuracy: 0.8291 - val_loss: 0.3522 - val_accuracy: 0.8497\n",
            "Epoch 5/50\n",
            "112/112 [==============================] - 18s 157ms/step - loss: 0.3736 - accuracy: 0.8395 - val_loss: 0.3735 - val_accuracy: 0.8328\n",
            "Epoch 6/50\n",
            "112/112 [==============================] - 19s 167ms/step - loss: 0.3512 - accuracy: 0.8485 - val_loss: 0.3500 - val_accuracy: 0.8564\n",
            "Epoch 7/50\n",
            "112/112 [==============================] - 19s 157ms/step - loss: 0.3363 - accuracy: 0.8626 - val_loss: 0.4100 - val_accuracy: 0.8159\n",
            "Epoch 8/50\n",
            "112/112 [==============================] - 19s 166ms/step - loss: 0.3269 - accuracy: 0.8623 - val_loss: 0.3178 - val_accuracy: 0.8640\n",
            "Epoch 9/50\n",
            "112/112 [==============================] - 19s 165ms/step - loss: 0.3188 - accuracy: 0.8640 - val_loss: 0.3023 - val_accuracy: 0.8767\n",
            "Epoch 10/50\n",
            "112/112 [==============================] - 19s 158ms/step - loss: 0.2995 - accuracy: 0.8707 - val_loss: 0.2988 - val_accuracy: 0.8733\n",
            "Epoch 11/50\n",
            "112/112 [==============================] - 20s 162ms/step - loss: 0.2916 - accuracy: 0.8806 - val_loss: 0.3008 - val_accuracy: 0.8750\n",
            "Epoch 12/50\n",
            "112/112 [==============================] - 19s 159ms/step - loss: 0.3039 - accuracy: 0.8724 - val_loss: 0.2834 - val_accuracy: 0.8809\n",
            "Epoch 13/50\n",
            "112/112 [==============================] - 20s 173ms/step - loss: 0.2812 - accuracy: 0.8839 - val_loss: 0.3400 - val_accuracy: 0.8547\n",
            "Epoch 14/50\n",
            "112/112 [==============================] - 19s 159ms/step - loss: 0.2796 - accuracy: 0.8806 - val_loss: 0.2910 - val_accuracy: 0.8758\n",
            "Epoch 15/50\n",
            "112/112 [==============================] - 20s 167ms/step - loss: 0.2889 - accuracy: 0.8763 - val_loss: 0.3264 - val_accuracy: 0.8590\n",
            "Epoch 16/50\n",
            "112/112 [==============================] - 19s 158ms/step - loss: 0.2687 - accuracy: 0.8957 - val_loss: 0.2657 - val_accuracy: 0.8936\n",
            "Epoch 17/50\n",
            "112/112 [==============================] - 19s 159ms/step - loss: 0.2533 - accuracy: 0.8929 - val_loss: 0.2641 - val_accuracy: 0.8961\n",
            "Epoch 18/50\n",
            "112/112 [==============================] - 25s 209ms/step - loss: 0.2612 - accuracy: 0.8921 - val_loss: 0.2668 - val_accuracy: 0.8936\n",
            "Epoch 19/50\n",
            "112/112 [==============================] - 20s 162ms/step - loss: 0.2413 - accuracy: 0.8997 - val_loss: 0.2583 - val_accuracy: 0.9003\n",
            "Epoch 20/50\n",
            "112/112 [==============================] - 18s 156ms/step - loss: 0.2341 - accuracy: 0.9039 - val_loss: 0.2614 - val_accuracy: 0.8986\n",
            "Epoch 21/50\n",
            "112/112 [==============================] - 19s 164ms/step - loss: 0.2365 - accuracy: 0.8991 - val_loss: 0.2642 - val_accuracy: 0.8995\n",
            "Epoch 22/50\n",
            "112/112 [==============================] - 19s 166ms/step - loss: 0.2340 - accuracy: 0.9067 - val_loss: 0.2684 - val_accuracy: 0.8953\n",
            "Epoch 23/50\n",
            "112/112 [==============================] - 20s 171ms/step - loss: 0.2288 - accuracy: 0.9013 - val_loss: 0.2582 - val_accuracy: 0.8944\n",
            "Epoch 24/50\n",
            "112/112 [==============================] - 19s 166ms/step - loss: 0.2226 - accuracy: 0.9134 - val_loss: 0.2819 - val_accuracy: 0.8885\n",
            "Epoch 25/50\n",
            "112/112 [==============================] - 19s 163ms/step - loss: 0.2236 - accuracy: 0.9087 - val_loss: 0.2624 - val_accuracy: 0.8936\n",
            "Epoch 26/50\n",
            "112/112 [==============================] - 20s 165ms/step - loss: 0.2136 - accuracy: 0.9143 - val_loss: 0.2699 - val_accuracy: 0.8936\n",
            "Epoch 27/50\n",
            "112/112 [==============================] - 19s 159ms/step - loss: 0.2184 - accuracy: 0.9081 - val_loss: 0.2482 - val_accuracy: 0.9029\n",
            "Epoch 28/50\n",
            "112/112 [==============================] - 20s 168ms/step - loss: 0.2094 - accuracy: 0.9157 - val_loss: 0.2572 - val_accuracy: 0.9003\n",
            "Epoch 29/50\n",
            "112/112 [==============================] - 19s 158ms/step - loss: 0.2111 - accuracy: 0.9112 - val_loss: 0.2832 - val_accuracy: 0.8885\n",
            "Epoch 30/50\n",
            "112/112 [==============================] - 19s 160ms/step - loss: 0.2193 - accuracy: 0.9095 - val_loss: 0.2428 - val_accuracy: 0.9037\n",
            "Epoch 31/50\n",
            "112/112 [==============================] - 20s 165ms/step - loss: 0.2130 - accuracy: 0.9126 - val_loss: 0.2560 - val_accuracy: 0.8953\n",
            "Epoch 32/50\n",
            "112/112 [==============================] - 20s 168ms/step - loss: 0.1988 - accuracy: 0.9179 - val_loss: 0.2559 - val_accuracy: 0.9020\n",
            "Epoch 33/50\n",
            "112/112 [==============================] - 20s 171ms/step - loss: 0.1953 - accuracy: 0.9174 - val_loss: 0.2448 - val_accuracy: 0.8978\n",
            "Epoch 34/50\n",
            "112/112 [==============================] - 18s 158ms/step - loss: 0.2081 - accuracy: 0.9137 - val_loss: 0.2419 - val_accuracy: 0.9037\n",
            "Epoch 35/50\n",
            "112/112 [==============================] - 19s 165ms/step - loss: 0.1910 - accuracy: 0.9221 - val_loss: 0.2483 - val_accuracy: 0.8978\n",
            "Epoch 36/50\n",
            "112/112 [==============================] - 20s 161ms/step - loss: 0.1900 - accuracy: 0.9233 - val_loss: 0.2431 - val_accuracy: 0.9020\n",
            "Epoch 37/50\n",
            "112/112 [==============================] - 19s 165ms/step - loss: 0.1853 - accuracy: 0.9238 - val_loss: 0.2442 - val_accuracy: 0.8986\n",
            "Epoch 38/50\n",
            "112/112 [==============================] - 24s 206ms/step - loss: 0.1900 - accuracy: 0.9210 - val_loss: 0.2441 - val_accuracy: 0.9012\n",
            "Epoch 39/50\n",
            "112/112 [==============================] - 20s 162ms/step - loss: 0.1808 - accuracy: 0.9258 - val_loss: 0.2484 - val_accuracy: 0.8995\n",
            "Epoch 40/50\n",
            "112/112 [==============================] - 19s 166ms/step - loss: 0.1924 - accuracy: 0.9216 - val_loss: 0.2446 - val_accuracy: 0.9020\n",
            "Epoch 41/50\n",
            "112/112 [==============================] - 20s 172ms/step - loss: 0.1980 - accuracy: 0.9171 - val_loss: 0.2488 - val_accuracy: 0.8995\n",
            "Epoch 42/50\n",
            "112/112 [==============================] - 18s 156ms/step - loss: 0.1823 - accuracy: 0.9247 - val_loss: 0.2464 - val_accuracy: 0.8978\n",
            "Epoch 43/50\n",
            "112/112 [==============================] - 19s 162ms/step - loss: 0.1698 - accuracy: 0.9283 - val_loss: 0.2670 - val_accuracy: 0.8953\n",
            "Epoch 44/50\n",
            "112/112 [==============================] - 19s 166ms/step - loss: 0.1766 - accuracy: 0.9255 - val_loss: 0.3460 - val_accuracy: 0.8733\n",
            "Epoch 45/50\n",
            "112/112 [==============================] - 18s 155ms/step - loss: 0.1696 - accuracy: 0.9334 - val_loss: 0.2566 - val_accuracy: 0.8986\n",
            "Epoch 46/50\n",
            "112/112 [==============================] - 19s 156ms/step - loss: 0.1662 - accuracy: 0.9325 - val_loss: 0.2445 - val_accuracy: 0.9054\n",
            "Epoch 47/50\n",
            "112/112 [==============================] - 18s 156ms/step - loss: 0.1742 - accuracy: 0.9286 - val_loss: 0.2573 - val_accuracy: 0.8978\n",
            "Epoch 48/50\n",
            "112/112 [==============================] - 25s 207ms/step - loss: 0.1618 - accuracy: 0.9365 - val_loss: 0.2634 - val_accuracy: 0.8936\n",
            "Epoch 49/50\n",
            "112/112 [==============================] - 19s 166ms/step - loss: 0.1582 - accuracy: 0.9365 - val_loss: 0.2537 - val_accuracy: 0.8995\n",
            "Epoch 50/50\n",
            "112/112 [==============================] - 19s 159ms/step - loss: 0.1760 - accuracy: 0.9244 - val_loss: 0.2543 - val_accuracy: 0.8995\n"
          ]
        }
      ],
      "source": [
        "model_1.compile(loss=\"binary_crossentropy\",\n",
        "                optimizer=Adam(),\n",
        "                metrics=[\"accuracy\"])\n",
        "\n",
        "print(model_1.summary())\n",
        "\n",
        "history_1 = model_1.fit(train_ds,\n",
        "                        epochs=50,\n",
        "                        steps_per_epoch=len(train_ds),\n",
        "                        validation_data=test_ds,\n",
        "                        validation_steps=len(test_ds))"
      ]
    },
    {
      "cell_type": "code",
      "execution_count": null,
      "metadata": {
        "id": "uxTpW82lykgp"
      },
      "outputs": [],
      "source": [
        "model_2 = Sequential([\n",
        "    tf.keras.layers.RandomFlip(mode=\"horizontal\", input_shape=(64, 64, 3)),\n",
        "    tf.keras.layers.RandomContrast(factor=0.3),\n",
        "    tf.keras.layers.Lambda(function=tf.image.per_image_standardization),\n",
        "\n",
        "    Conv2D(filters=10,\n",
        "           kernel_size=(3, 3),\n",
        "           strides=(1, 1),\n",
        "           padding='valid',\n",
        "           activation=\"relu\",\n",
        "           kernel_initializer=\"glorot_normal\"),\n",
        "\n",
        "    MaxPool2D(pool_size=(2, 2),\n",
        "              strides=None,\n",
        "              padding=\"valid\"),\n",
        "\n",
        "    tf.keras.layers.BatchNormalization(),\n",
        "\n",
        "    Conv2D(filters=10,\n",
        "           kernel_size=(3, 3),\n",
        "           strides=(1, 1),\n",
        "           padding='valid',\n",
        "           activation=\"relu\",\n",
        "           kernel_initializer=\"glorot_normal\"),\n",
        "\n",
        "    MaxPool2D(pool_size=(2, 2),\n",
        "              strides=None,\n",
        "              padding=\"valid\"),\n",
        "\n",
        "    tf.keras.layers.BatchNormalization(),\n",
        "\n",
        "    Conv2D(filters=10,\n",
        "           kernel_size=(3, 3),\n",
        "           strides=(1, 1),\n",
        "           padding='valid',\n",
        "           activation=\"relu\",\n",
        "           kernel_initializer=\"glorot_normal\"),\n",
        "\n",
        "    MaxPool2D(pool_size=(2, 2),\n",
        "              strides=None,\n",
        "              padding=\"valid\"),\n",
        "\n",
        "    tf.keras.layers.BatchNormalization(),\n",
        "\n",
        "    Flatten(),\n",
        "\n",
        "    Dense(1,\n",
        "          activation=\"sigmoid\",\n",
        "          kernel_initializer=\"glorot_normal\",\n",
        "          bias_initializer=\"zeros\")\n",
        "])"
      ]
    },
    {
      "cell_type": "code",
      "execution_count": null,
      "metadata": {
        "id": "LcmIy0-6zf0p"
      },
      "outputs": [],
      "source": [
        "early_stopper = tf.keras.callbacks.EarlyStopping(monitor=\"val_loss\", patience=5, verbose=1)"
      ]
    },
    {
      "cell_type": "code",
      "execution_count": null,
      "metadata": {
        "colab": {
          "base_uri": "https://localhost:8080/"
        },
        "id": "ZC0YXFMTzXaL",
        "outputId": "221d8a1b-b768-48d2-d9a4-cec38436ac45"
      },
      "outputs": [
        {
          "name": "stdout",
          "output_type": "stream",
          "text": [
            "Model: \"sequential_6\"\n",
            "_________________________________________________________________\n",
            " Layer (type)                Output Shape              Param #   \n",
            "=================================================================\n",
            " random_flip_5 (RandomFlip)  (None, 64, 64, 3)         0         \n",
            "                                                                 \n",
            " random_contrast_5 (RandomC  (None, 64, 64, 3)         0         \n",
            " ontrast)                                                        \n",
            "                                                                 \n",
            " lambda_5 (Lambda)           (None, 64, 64, 3)         0         \n",
            "                                                                 \n",
            " conv2d_12 (Conv2D)          (None, 62, 62, 10)        280       \n",
            "                                                                 \n",
            " max_pooling2d_12 (MaxPooli  (None, 31, 31, 10)        0         \n",
            " ng2D)                                                           \n",
            "                                                                 \n",
            " batch_normalization (Batch  (None, 31, 31, 10)        40        \n",
            " Normalization)                                                  \n",
            "                                                                 \n",
            " conv2d_13 (Conv2D)          (None, 29, 29, 10)        910       \n",
            "                                                                 \n",
            " max_pooling2d_13 (MaxPooli  (None, 14, 14, 10)        0         \n",
            " ng2D)                                                           \n",
            "                                                                 \n",
            " batch_normalization_1 (Bat  (None, 14, 14, 10)        40        \n",
            " chNormalization)                                                \n",
            "                                                                 \n",
            " conv2d_14 (Conv2D)          (None, 12, 12, 10)        910       \n",
            "                                                                 \n",
            " max_pooling2d_14 (MaxPooli  (None, 6, 6, 10)          0         \n",
            " ng2D)                                                           \n",
            "                                                                 \n",
            " batch_normalization_2 (Bat  (None, 6, 6, 10)          40        \n",
            " chNormalization)                                                \n",
            "                                                                 \n",
            " flatten_4 (Flatten)         (None, 360)               0         \n",
            "                                                                 \n",
            " dense_4 (Dense)             (None, 1)                 361       \n",
            "                                                                 \n",
            "=================================================================\n",
            "Total params: 2581 (10.08 KB)\n",
            "Trainable params: 2521 (9.85 KB)\n",
            "Non-trainable params: 60 (240.00 Byte)\n",
            "_________________________________________________________________\n",
            "None\n",
            "Epoch 1/50\n",
            "112/112 [==============================] - 23s 176ms/step - loss: 0.5474 - accuracy: 0.7291 - val_loss: 0.6820 - val_accuracy: 0.6512\n",
            "Epoch 2/50\n",
            "112/112 [==============================] - 20s 165ms/step - loss: 0.3926 - accuracy: 0.8314 - val_loss: 0.4635 - val_accuracy: 0.7838\n",
            "Epoch 3/50\n",
            "112/112 [==============================] - 18s 157ms/step - loss: 0.3572 - accuracy: 0.8482 - val_loss: 0.3740 - val_accuracy: 0.8328\n",
            "Epoch 4/50\n",
            "112/112 [==============================] - 20s 167ms/step - loss: 0.3298 - accuracy: 0.8592 - val_loss: 0.3630 - val_accuracy: 0.8328\n",
            "Epoch 5/50\n",
            "112/112 [==============================] - 20s 167ms/step - loss: 0.3112 - accuracy: 0.8730 - val_loss: 0.3327 - val_accuracy: 0.8606\n",
            "Epoch 6/50\n",
            "112/112 [==============================] - 19s 166ms/step - loss: 0.2915 - accuracy: 0.8789 - val_loss: 0.3095 - val_accuracy: 0.8708\n",
            "Epoch 7/50\n",
            "112/112 [==============================] - 20s 167ms/step - loss: 0.2782 - accuracy: 0.8850 - val_loss: 0.3170 - val_accuracy: 0.8598\n",
            "Epoch 8/50\n",
            "112/112 [==============================] - 19s 161ms/step - loss: 0.2701 - accuracy: 0.8876 - val_loss: 0.3113 - val_accuracy: 0.8674\n",
            "Epoch 9/50\n",
            "112/112 [==============================] - 25s 206ms/step - loss: 0.2543 - accuracy: 0.8954 - val_loss: 0.2860 - val_accuracy: 0.8843\n",
            "Epoch 10/50\n",
            "112/112 [==============================] - 20s 170ms/step - loss: 0.2490 - accuracy: 0.8999 - val_loss: 0.3034 - val_accuracy: 0.8708\n",
            "Epoch 11/50\n",
            "112/112 [==============================] - 19s 159ms/step - loss: 0.2403 - accuracy: 0.9030 - val_loss: 0.2770 - val_accuracy: 0.8885\n",
            "Epoch 12/50\n",
            "112/112 [==============================] - 19s 161ms/step - loss: 0.2386 - accuracy: 0.9028 - val_loss: 0.2790 - val_accuracy: 0.8826\n",
            "Epoch 13/50\n",
            "112/112 [==============================] - 20s 170ms/step - loss: 0.2264 - accuracy: 0.9067 - val_loss: 0.2705 - val_accuracy: 0.8843\n",
            "Epoch 14/50\n",
            "112/112 [==============================] - 19s 163ms/step - loss: 0.2143 - accuracy: 0.9115 - val_loss: 0.2907 - val_accuracy: 0.8801\n",
            "Epoch 15/50\n",
            "112/112 [==============================] - 20s 163ms/step - loss: 0.2136 - accuracy: 0.9132 - val_loss: 0.2629 - val_accuracy: 0.8851\n",
            "Epoch 16/50\n",
            "112/112 [==============================] - 20s 167ms/step - loss: 0.2078 - accuracy: 0.9146 - val_loss: 0.2779 - val_accuracy: 0.8860\n",
            "Epoch 17/50\n",
            "112/112 [==============================] - 20s 170ms/step - loss: 0.1973 - accuracy: 0.9193 - val_loss: 0.2737 - val_accuracy: 0.8868\n",
            "Epoch 18/50\n",
            "112/112 [==============================] - 20s 168ms/step - loss: 0.1911 - accuracy: 0.9233 - val_loss: 0.2899 - val_accuracy: 0.8826\n",
            "Epoch 19/50\n",
            "112/112 [==============================] - 25s 213ms/step - loss: 0.1931 - accuracy: 0.9269 - val_loss: 0.2725 - val_accuracy: 0.8868\n",
            "Epoch 20/50\n",
            "112/112 [==============================] - 18s 158ms/step - loss: 0.1823 - accuracy: 0.9258 - val_loss: 0.3273 - val_accuracy: 0.8708\n",
            "Epoch 20: early stopping\n"
          ]
        }
      ],
      "source": [
        "model_2.compile(loss=\"binary_crossentropy\",\n",
        "                optimizer=Adam(),\n",
        "                metrics=[\"accuracy\"])\n",
        "\n",
        "print(model_2.summary())\n",
        "\n",
        "history_2 = model_2.fit(train_ds,\n",
        "                        epochs=50,\n",
        "                        steps_per_epoch=len(train_ds),\n",
        "                        validation_data=test_ds,\n",
        "                        validation_steps=len(test_ds),\n",
        "                        callbacks=[early_stopper])"
      ]
    },
    {
      "cell_type": "code",
      "execution_count": null,
      "metadata": {
        "id": "dnrvb53j1bgL"
      },
      "outputs": [],
      "source": [
        "model_3 = Sequential([\n",
        "    tf.keras.layers.RandomFlip(mode=\"horizontal\", input_shape=(256, 256, 3)),\n",
        "    tf.keras.layers.RandomContrast(factor=0.3),\n",
        "    tf.keras.layers.Lambda(function=tf.image.per_image_standardization),\n",
        "\n",
        "    Conv2D(filters=10,\n",
        "           kernel_size=(3, 3),\n",
        "           strides=(1, 1),\n",
        "           padding='valid',\n",
        "           activation=\"relu\",\n",
        "           kernel_initializer=\"glorot_normal\"),\n",
        "\n",
        "    MaxPool2D(pool_size=(2, 2),\n",
        "              strides=None,\n",
        "              padding=\"valid\"),\n",
        "\n",
        "    tf.keras.layers.BatchNormalization(),\n",
        "\n",
        "    Conv2D(filters=10,\n",
        "           kernel_size=(3, 3),\n",
        "           strides=(1, 1),\n",
        "           padding='valid',\n",
        "           activation=\"relu\",\n",
        "           kernel_initializer=\"glorot_normal\"),\n",
        "\n",
        "    MaxPool2D(pool_size=(2, 2),\n",
        "              strides=None,\n",
        "              padding=\"valid\"),\n",
        "\n",
        "    tf.keras.layers.BatchNormalization(),\n",
        "\n",
        "    Conv2D(filters=10,\n",
        "           kernel_size=(3, 3),\n",
        "           strides=(1, 1),\n",
        "           padding='valid',\n",
        "           activation=\"relu\",\n",
        "           kernel_initializer=\"glorot_normal\"),\n",
        "\n",
        "    MaxPool2D(pool_size=(2, 2),\n",
        "              strides=None,\n",
        "              padding=\"valid\"),\n",
        "\n",
        "    tf.keras.layers.BatchNormalization(),\n",
        "\n",
        "        Conv2D(filters=10,\n",
        "           kernel_size=(3, 3),\n",
        "           strides=(1, 1),\n",
        "           padding='valid',\n",
        "           activation=\"relu\",\n",
        "           kernel_initializer=\"glorot_normal\"),\n",
        "\n",
        "    MaxPool2D(pool_size=(2, 2),\n",
        "              strides=None,\n",
        "              padding=\"valid\"),\n",
        "\n",
        "    tf.keras.layers.BatchNormalization(),\n",
        "\n",
        "        Conv2D(filters=10,\n",
        "           kernel_size=(3, 3),\n",
        "           strides=(1, 1),\n",
        "           padding='valid',\n",
        "           activation=\"relu\",\n",
        "           kernel_initializer=\"glorot_normal\"),\n",
        "\n",
        "    MaxPool2D(pool_size=(2, 2),\n",
        "              strides=None,\n",
        "              padding=\"valid\"),\n",
        "\n",
        "    tf.keras.layers.BatchNormalization(),\n",
        "\n",
        "        Conv2D(filters=10,\n",
        "           kernel_size=(3, 3),\n",
        "           strides=(1, 1),\n",
        "           padding='valid',\n",
        "           activation=\"relu\",\n",
        "           kernel_initializer=\"glorot_normal\"),\n",
        "\n",
        "    MaxPool2D(pool_size=(2, 2),\n",
        "              strides=None,\n",
        "              padding=\"valid\"),\n",
        "\n",
        "    tf.keras.layers.BatchNormalization(),\n",
        "\n",
        "    Flatten(),\n",
        "\n",
        "    Dense(1,\n",
        "          activation=\"sigmoid\",\n",
        "          kernel_initializer=\"glorot_normal\",\n",
        "          bias_initializer=\"zeros\")\n",
        "])"
      ]
    },
    {
      "cell_type": "code",
      "execution_count": null,
      "metadata": {
        "colab": {
          "base_uri": "https://localhost:8080/"
        },
        "id": "rd3BlwHU11h6",
        "outputId": "af10e451-a052-4d5e-bce9-f34d4e603551"
      },
      "outputs": [
        {
          "name": "stdout",
          "output_type": "stream",
          "text": [
            "Found 4743 files belonging to 2 classes.\n",
            "Found 1184 files belonging to 2 classes.\n"
          ]
        }
      ],
      "source": [
        "train_ds = tf.keras.utils.image_dataset_from_directory(\"/content/drive/MyDrive/MachineLearningProject/data/train\",\n",
        "                                                               label_mode=\"binary\",\n",
        "                                                               color_mode=\"rgb\",\n",
        "                                                               batch_size=32,\n",
        "                                                               image_size=(256, 256),\n",
        "                                                               shuffle=True)\n",
        "\n",
        "test_ds = tf.keras.utils.image_dataset_from_directory(\"/content/drive/MyDrive/MachineLearningProject/data/test\",\n",
        "                                                      label_mode=\"binary\",\n",
        "                                                      color_mode=\"rgb\",\n",
        "                                                      batch_size=32,\n",
        "                                                      image_size=(256, 256),\n",
        "                                                      shuffle=True,\n",
        "                                                      seed=42)"
      ]
    },
    {
      "cell_type": "code",
      "execution_count": null,
      "metadata": {
        "colab": {
          "base_uri": "https://localhost:8080/"
        },
        "id": "S5zIYTDa2Grz",
        "outputId": "e19e8121-05b1-4b75-c11b-72c1ea532e00"
      },
      "outputs": [
        {
          "name": "stdout",
          "output_type": "stream",
          "text": [
            "Model: \"sequential_9\"\n",
            "_________________________________________________________________\n",
            " Layer (type)                Output Shape              Param #   \n",
            "=================================================================\n",
            " random_flip_8 (RandomFlip)  (None, 256, 256, 3)       0         \n",
            "                                                                 \n",
            " random_contrast_8 (RandomC  (None, 256, 256, 3)       0         \n",
            " ontrast)                                                        \n",
            "                                                                 \n",
            " lambda_8 (Lambda)           (None, 256, 256, 3)       0         \n",
            "                                                                 \n",
            " conv2d_27 (Conv2D)          (None, 254, 254, 10)      280       \n",
            "                                                                 \n",
            " max_pooling2d_27 (MaxPooli  (None, 127, 127, 10)      0         \n",
            " ng2D)                                                           \n",
            "                                                                 \n",
            " batch_normalization_15 (Ba  (None, 127, 127, 10)      40        \n",
            " tchNormalization)                                               \n",
            "                                                                 \n",
            " conv2d_28 (Conv2D)          (None, 125, 125, 10)      910       \n",
            "                                                                 \n",
            " max_pooling2d_28 (MaxPooli  (None, 62, 62, 10)        0         \n",
            " ng2D)                                                           \n",
            "                                                                 \n",
            " batch_normalization_16 (Ba  (None, 62, 62, 10)        40        \n",
            " tchNormalization)                                               \n",
            "                                                                 \n",
            " conv2d_29 (Conv2D)          (None, 60, 60, 10)        910       \n",
            "                                                                 \n",
            " max_pooling2d_29 (MaxPooli  (None, 30, 30, 10)        0         \n",
            " ng2D)                                                           \n",
            "                                                                 \n",
            " batch_normalization_17 (Ba  (None, 30, 30, 10)        40        \n",
            " tchNormalization)                                               \n",
            "                                                                 \n",
            " conv2d_30 (Conv2D)          (None, 28, 28, 10)        910       \n",
            "                                                                 \n",
            " max_pooling2d_30 (MaxPooli  (None, 14, 14, 10)        0         \n",
            " ng2D)                                                           \n",
            "                                                                 \n",
            " batch_normalization_18 (Ba  (None, 14, 14, 10)        40        \n",
            " tchNormalization)                                               \n",
            "                                                                 \n",
            " conv2d_31 (Conv2D)          (None, 12, 12, 10)        910       \n",
            "                                                                 \n",
            " max_pooling2d_31 (MaxPooli  (None, 6, 6, 10)          0         \n",
            " ng2D)                                                           \n",
            "                                                                 \n",
            " batch_normalization_19 (Ba  (None, 6, 6, 10)          40        \n",
            " tchNormalization)                                               \n",
            "                                                                 \n",
            " conv2d_32 (Conv2D)          (None, 4, 4, 10)          910       \n",
            "                                                                 \n",
            " max_pooling2d_32 (MaxPooli  (None, 2, 2, 10)          0         \n",
            " ng2D)                                                           \n",
            "                                                                 \n",
            " batch_normalization_20 (Ba  (None, 2, 2, 10)          40        \n",
            " tchNormalization)                                               \n",
            "                                                                 \n",
            " flatten_7 (Flatten)         (None, 40)                0         \n",
            "                                                                 \n",
            " dense_7 (Dense)             (None, 1)                 41        \n",
            "                                                                 \n",
            "=================================================================\n",
            "Total params: 5111 (19.96 KB)\n",
            "Trainable params: 4991 (19.50 KB)\n",
            "Non-trainable params: 120 (480.00 Byte)\n",
            "_________________________________________________________________\n",
            "None\n"
          ]
        }
      ],
      "source": [
        "model_3.compile(loss=\"binary_crossentropy\",\n",
        "                optimizer=Adam(),\n",
        "                metrics=[\"accuracy\"])\n",
        "\n",
        "print(model_3.summary())"
      ]
    },
    {
      "cell_type": "code",
      "execution_count": null,
      "metadata": {
        "id": "22zX1ewv2H6-"
      },
      "outputs": [],
      "source": [
        "history_2 = model_2.fit(train_ds,\n",
        "                        epochs=50,\n",
        "                        steps_per_epoch=len(train_ds),\n",
        "                        validation_data=test_ds,\n",
        "                        validation_steps=len(test_ds),\n",
        "                        callbacks=[early_stopper])"
      ]
    },
    {
      "cell_type": "markdown",
      "metadata": {
        "id": "Ho5INTep_FE9"
      },
      "source": [
        "### VGG Models"
      ]
    },
    {
      "cell_type": "code",
      "execution_count": null,
      "metadata": {
        "colab": {
          "base_uri": "https://localhost:8080/"
        },
        "id": "VprJ_NgOBGaq",
        "outputId": "51bd6c58-e365-480e-de06-0e46a6d5b8d5"
      },
      "outputs": [
        {
          "name": "stdout",
          "output_type": "stream",
          "text": [
            "Found 4743 files belonging to 2 classes.\n",
            "Using 3558 files for training.\n",
            "Using 1185 files for validation.\n",
            "Found 1184 files belonging to 2 classes.\n"
          ]
        }
      ],
      "source": [
        "train_ds, val_ds = tf.keras.utils.image_dataset_from_directory(\"/content/drive/MyDrive/MachineLearningProject/data/train\",\n",
        "                                                               label_mode=\"binary\",\n",
        "                                                               color_mode=\"rgb\",\n",
        "                                                               batch_size=32,\n",
        "                                                               image_size=(224, 224),\n",
        "                                                               shuffle=True,\n",
        "                                                               seed=42,\n",
        "                                                               subset=\"both\",\n",
        "                                                               validation_split=0.25)\n",
        "\n",
        "test_ds = tf.keras.utils.image_dataset_from_directory(\"/content/drive/MyDrive/MachineLearningProject/data/test\",\n",
        "                                                      label_mode=\"binary\",\n",
        "                                                      color_mode=\"rgb\",\n",
        "                                                      batch_size=32,\n",
        "                                                      image_size=(224, 224),\n",
        "                                                      shuffle=True,\n",
        "                                                      seed=42)"
      ]
    },
    {
      "cell_type": "code",
      "execution_count": null,
      "metadata": {
        "id": "x6oi7fYT_EYN"
      },
      "outputs": [],
      "source": [
        "vgg_1 = Sequential([\n",
        "    tf.keras.layers.RandomFlip(mode=\"horizontal\", input_shape=(224, 224, 3)),\n",
        "    tf.keras.layers.RandomContrast(factor=0.3),\n",
        "    tf.keras.layers.Lambda(function=tf.image.per_image_standardization),\n",
        "\n",
        "    Conv2D(filters=16,\n",
        "           kernel_size=(3, 3),\n",
        "           strides=(1, 1),\n",
        "           padding=\"same\",\n",
        "           activation=\"relu\",\n",
        "           kernel_initializer=\"glorot_normal\"),\n",
        "\n",
        "    MaxPool2D(pool_size=(2, 2),\n",
        "              strides=None,\n",
        "              padding=\"valid\"),\n",
        "\n",
        "    Conv2D(filters=32,\n",
        "           kernel_size=(3, 3),\n",
        "           strides=(1, 1),\n",
        "           padding=\"same\",\n",
        "           activation=\"relu\",\n",
        "           kernel_initializer=\"glorot_normal\"),\n",
        "\n",
        "    MaxPool2D(pool_size=(2, 2),\n",
        "              strides=None,\n",
        "              padding=\"valid\"),\n",
        "\n",
        "    Conv2D(filters=64,\n",
        "           kernel_size=(3, 3),\n",
        "           strides=(1, 1),\n",
        "           padding=\"same\",\n",
        "           activation=\"relu\",\n",
        "           kernel_initializer=\"glorot_normal\"),\n",
        "\n",
        "        Conv2D(filters=64,\n",
        "           kernel_size=(3, 3),\n",
        "           strides=(1, 1),\n",
        "           padding=\"same\",\n",
        "           activation=\"relu\",\n",
        "           kernel_initializer=\"glorot_normal\"),\n",
        "\n",
        "    MaxPool2D(pool_size=(2, 2),\n",
        "              strides=None,\n",
        "              padding=\"valid\"),\n",
        "\n",
        "    Flatten(),\n",
        "\n",
        "    Dense(units=8,\n",
        "          activation=\"relu\",\n",
        "          kernel_initializer=\"glorot_normal\",\n",
        "          bias_initializer=\"zeros\"),\n",
        "\n",
        "    Dense(units= 1,\n",
        "          activation=\"sigmoid\",\n",
        "          kernel_initializer=\"glorot_normal\",\n",
        "          bias_initializer=\"zeros\")\n",
        "])"
      ]
    },
    {
      "cell_type": "code",
      "execution_count": null,
      "metadata": {
        "colab": {
          "base_uri": "https://localhost:8080/"
        },
        "id": "EgDGvyH6BTnX",
        "outputId": "0f7b77b7-7555-4db4-fddd-cad4e76a7b60"
      },
      "outputs": [
        {
          "name": "stdout",
          "output_type": "stream",
          "text": [
            "Model: \"sequential\"\n",
            "_________________________________________________________________\n",
            " Layer (type)                Output Shape              Param #   \n",
            "=================================================================\n",
            " random_flip (RandomFlip)    (None, 224, 224, 3)       0         \n",
            "                                                                 \n",
            " random_contrast (RandomCon  (None, 224, 224, 3)       0         \n",
            " trast)                                                          \n",
            "                                                                 \n",
            " lambda (Lambda)             (None, 224, 224, 3)       0         \n",
            "                                                                 \n",
            " conv2d (Conv2D)             (None, 224, 224, 16)      448       \n",
            "                                                                 \n",
            " max_pooling2d (MaxPooling2  (None, 112, 112, 16)      0         \n",
            " D)                                                              \n",
            "                                                                 \n",
            " conv2d_1 (Conv2D)           (None, 112, 112, 32)      4640      \n",
            "                                                                 \n",
            " max_pooling2d_1 (MaxPoolin  (None, 56, 56, 32)        0         \n",
            " g2D)                                                            \n",
            "                                                                 \n",
            " conv2d_2 (Conv2D)           (None, 56, 56, 64)        18496     \n",
            "                                                                 \n",
            " conv2d_3 (Conv2D)           (None, 56, 56, 64)        36928     \n",
            "                                                                 \n",
            " max_pooling2d_2 (MaxPoolin  (None, 28, 28, 64)        0         \n",
            " g2D)                                                            \n",
            "                                                                 \n",
            " flatten (Flatten)           (None, 50176)             0         \n",
            "                                                                 \n",
            " dense (Dense)               (None, 8)                 401416    \n",
            "                                                                 \n",
            " dense_1 (Dense)             (None, 1)                 9         \n",
            "                                                                 \n",
            "=================================================================\n",
            "Total params: 461937 (1.76 MB)\n",
            "Trainable params: 461937 (1.76 MB)\n",
            "Non-trainable params: 0 (0.00 Byte)\n",
            "_________________________________________________________________\n"
          ]
        }
      ],
      "source": [
        "vgg_1.summary()"
      ]
    },
    {
      "cell_type": "code",
      "execution_count": null,
      "metadata": {
        "colab": {
          "base_uri": "https://localhost:8080/"
        },
        "id": "qwUMBmNrBfRT",
        "outputId": "511ea796-d390-43f1-a675-72bc357f670b"
      },
      "outputs": [
        {
          "name": "stdout",
          "output_type": "stream",
          "text": [
            "Epoch 1/50\n",
            "112/112 [==============================] - 680s 5s/step - loss: 0.5349 - accuracy: 0.7355 - val_loss: 0.4467 - val_accuracy: 0.7922\n",
            "Epoch 2/50\n",
            "112/112 [==============================] - 22s 189ms/step - loss: 0.3975 - accuracy: 0.8288 - val_loss: 0.3753 - val_accuracy: 0.8269\n",
            "Epoch 3/50\n",
            "112/112 [==============================] - 23s 192ms/step - loss: 0.3162 - accuracy: 0.8710 - val_loss: 0.3128 - val_accuracy: 0.8666\n",
            "Epoch 4/50\n",
            "112/112 [==============================] - 23s 201ms/step - loss: 0.2832 - accuracy: 0.8763 - val_loss: 0.2649 - val_accuracy: 0.8910\n",
            "Epoch 5/50\n",
            "112/112 [==============================] - 22s 189ms/step - loss: 0.2149 - accuracy: 0.9109 - val_loss: 0.2530 - val_accuracy: 0.8953\n",
            "Epoch 6/50\n",
            "112/112 [==============================] - 24s 200ms/step - loss: 0.1867 - accuracy: 0.9252 - val_loss: 0.2787 - val_accuracy: 0.8809\n",
            "Epoch 7/50\n",
            "112/112 [==============================] - 23s 200ms/step - loss: 0.1600 - accuracy: 0.9354 - val_loss: 0.3580 - val_accuracy: 0.8758\n",
            "Epoch 8/50\n",
            "112/112 [==============================] - 23s 201ms/step - loss: 0.1309 - accuracy: 0.9494 - val_loss: 0.3555 - val_accuracy: 0.8691\n",
            "Epoch 9/50\n",
            "112/112 [==============================] - 23s 197ms/step - loss: 0.1012 - accuracy: 0.9629 - val_loss: 0.2742 - val_accuracy: 0.9096\n",
            "Epoch 10/50\n",
            "112/112 [==============================] - 24s 205ms/step - loss: 0.0844 - accuracy: 0.9682 - val_loss: 0.3270 - val_accuracy: 0.8978\n",
            "Epoch 11/50\n",
            "112/112 [==============================] - 22s 188ms/step - loss: 0.0702 - accuracy: 0.9747 - val_loss: 0.3875 - val_accuracy: 0.8910\n",
            "Epoch 12/50\n",
            "112/112 [==============================] - 23s 200ms/step - loss: 0.0554 - accuracy: 0.9809 - val_loss: 0.3253 - val_accuracy: 0.9071\n",
            "Epoch 13/50\n",
            "112/112 [==============================] - 23s 198ms/step - loss: 0.0466 - accuracy: 0.9823 - val_loss: 0.3534 - val_accuracy: 0.9130\n",
            "Epoch 14/50\n",
            "112/112 [==============================] - 23s 190ms/step - loss: 0.0383 - accuracy: 0.9845 - val_loss: 0.4223 - val_accuracy: 0.8986\n",
            "Epoch 15/50\n",
            "112/112 [==============================] - 22s 191ms/step - loss: 0.0334 - accuracy: 0.9890 - val_loss: 0.4099 - val_accuracy: 0.8978\n",
            "Epoch 16/50\n",
            "112/112 [==============================] - 24s 206ms/step - loss: 0.0317 - accuracy: 0.9862 - val_loss: 0.4455 - val_accuracy: 0.8961\n",
            "Epoch 17/50\n",
            "112/112 [==============================] - 22s 191ms/step - loss: 0.0288 - accuracy: 0.9902 - val_loss: 0.5475 - val_accuracy: 0.8758\n",
            "Epoch 18/50\n",
            "112/112 [==============================] - 28s 242ms/step - loss: 0.0272 - accuracy: 0.9890 - val_loss: 0.5756 - val_accuracy: 0.8944\n",
            "Epoch 19/50\n",
            "112/112 [==============================] - 24s 208ms/step - loss: 0.0451 - accuracy: 0.9826 - val_loss: 0.8364 - val_accuracy: 0.8573\n",
            "Epoch 20/50\n",
            "112/112 [==============================] - 23s 201ms/step - loss: 0.0357 - accuracy: 0.9885 - val_loss: 0.4821 - val_accuracy: 0.9012\n",
            "Epoch 21/50\n",
            "112/112 [==============================] - 24s 205ms/step - loss: 0.0330 - accuracy: 0.9879 - val_loss: 0.5845 - val_accuracy: 0.8860\n",
            "Epoch 22/50\n",
            "112/112 [==============================] - 24s 205ms/step - loss: 0.0104 - accuracy: 0.9975 - val_loss: 0.6716 - val_accuracy: 0.8902\n",
            "Epoch 23/50\n",
            "112/112 [==============================] - 23s 201ms/step - loss: 0.0241 - accuracy: 0.9916 - val_loss: 0.5869 - val_accuracy: 0.8699\n",
            "Epoch 24/50\n",
            "112/112 [==============================] - 23s 201ms/step - loss: 0.0211 - accuracy: 0.9927 - val_loss: 0.6195 - val_accuracy: 0.9062\n",
            "Epoch 25/50\n",
            "112/112 [==============================] - 27s 238ms/step - loss: 0.0294 - accuracy: 0.9896 - val_loss: 0.5775 - val_accuracy: 0.8885\n",
            "Epoch 26/50\n",
            "112/112 [==============================] - 27s 236ms/step - loss: 0.0303 - accuracy: 0.9910 - val_loss: 0.6377 - val_accuracy: 0.8860\n",
            "Epoch 27/50\n",
            "112/112 [==============================] - 23s 200ms/step - loss: 0.0238 - accuracy: 0.9896 - val_loss: 0.6572 - val_accuracy: 0.8826\n",
            "Epoch 28/50\n",
            "112/112 [==============================] - 22s 188ms/step - loss: 0.0228 - accuracy: 0.9921 - val_loss: 0.6125 - val_accuracy: 0.8885\n",
            "Epoch 29/50\n",
            "112/112 [==============================] - 22s 191ms/step - loss: 0.0167 - accuracy: 0.9938 - val_loss: 0.6962 - val_accuracy: 0.8936\n",
            "Epoch 30/50\n",
            "112/112 [==============================] - 23s 196ms/step - loss: 0.0223 - accuracy: 0.9916 - val_loss: 0.5932 - val_accuracy: 0.8927\n",
            "112/112 [==============================] - 23s 191ms/step - loss: 0.0076 - accuracy: 0.9972 - val_loss: 0.6295 - val_accuracy: 0.8970\n",
            "Epoch 32/50\n",
            "112/112 [==============================] - 24s 201ms/step - loss: 0.0100 - accuracy: 0.9963 - val_loss: 0.7220 - val_accuracy: 0.8868\n",
            "Epoch 33/50\n",
            "112/112 [==============================] - 23s 200ms/step - loss: 0.0082 - accuracy: 0.9966 - val_loss: 0.7249 - val_accuracy: 0.9054\n",
            "Epoch 34/50\n",
            "112/112 [==============================] - 23s 200ms/step - loss: 0.0139 - accuracy: 0.9949 - val_loss: 0.7703 - val_accuracy: 0.8775\n",
            "Epoch 35/50\n",
            "112/112 [==============================] - 27s 237ms/step - loss: 0.0392 - accuracy: 0.9896 - val_loss: 0.6852 - val_accuracy: 0.8919\n",
            "Epoch 36/50\n",
            "112/112 [==============================] - 24s 203ms/step - loss: 0.0339 - accuracy: 0.9899 - val_loss: 0.5654 - val_accuracy: 0.9003\n",
            "Epoch 37/50\n",
            "112/112 [==============================] - 24s 202ms/step - loss: 0.0076 - accuracy: 0.9980 - val_loss: 0.6292 - val_accuracy: 0.8961\n",
            "Epoch 38/50\n",
            "112/112 [==============================] - 23s 201ms/step - loss: 0.0073 - accuracy: 0.9972 - val_loss: 0.5942 - val_accuracy: 0.9062\n",
            "Epoch 39/50\n",
            "112/112 [==============================] - 22s 190ms/step - loss: 0.0025 - accuracy: 0.9994 - val_loss: 0.6867 - val_accuracy: 0.9046\n",
            "Epoch 40/50\n",
            "112/112 [==============================] - 24s 203ms/step - loss: 0.0047 - accuracy: 0.9986 - val_loss: 0.7537 - val_accuracy: 0.9105\n",
            "Epoch 41/50\n",
            "112/112 [==============================] - 22s 189ms/step - loss: 0.0057 - accuracy: 0.9983 - val_loss: 0.6874 - val_accuracy: 0.8944\n",
            "Epoch 42/50\n",
            "112/112 [==============================] - 27s 236ms/step - loss: 0.0255 - accuracy: 0.9918 - val_loss: 0.7312 - val_accuracy: 0.8910\n",
            "Epoch 43/50\n",
            "112/112 [==============================] - 23s 195ms/step - loss: 0.0275 - accuracy: 0.9893 - val_loss: 0.9011 - val_accuracy: 0.8573\n",
            "Epoch 44/50\n",
            "112/112 [==============================] - 22s 187ms/step - loss: 0.0594 - accuracy: 0.9826 - val_loss: 0.6231 - val_accuracy: 0.8894\n",
            "Epoch 45/50\n",
            "112/112 [==============================] - 22s 188ms/step - loss: 0.0200 - accuracy: 0.9933 - val_loss: 0.7209 - val_accuracy: 0.8936\n",
            "Epoch 46/50\n",
            "112/112 [==============================] - 23s 199ms/step - loss: 0.0207 - accuracy: 0.9924 - val_loss: 0.7188 - val_accuracy: 0.8936\n",
            "Epoch 47/50\n",
            "112/112 [==============================] - 23s 200ms/step - loss: 0.0123 - accuracy: 0.9952 - val_loss: 0.5997 - val_accuracy: 0.8986\n",
            "Epoch 48/50\n",
            "112/112 [==============================] - 22s 190ms/step - loss: 0.0044 - accuracy: 0.9983 - val_loss: 0.6666 - val_accuracy: 0.9037\n",
            "Epoch 49/50\n",
            "112/112 [==============================] - 24s 202ms/step - loss: 0.0034 - accuracy: 0.9992 - val_loss: 0.7129 - val_accuracy: 0.9029\n",
            "Epoch 50/50\n",
            "112/112 [==============================] - 27s 237ms/step - loss: 0.0019 - accuracy: 0.9997 - val_loss: 0.7024 - val_accuracy: 0.9012\n"
          ]
        }
      ],
      "source": [
        "vgg_1.compile(loss=\"binary_crossentropy\",\n",
        "                optimizer=Adam(),\n",
        "                metrics=[\"accuracy\"])\n",
        "\n",
        "\n",
        "history_vgg_1 = vgg_1.fit(train_ds,\n",
        "                        epochs=50,\n",
        "                        steps_per_epoch=len(train_ds),\n",
        "                        validation_data=test_ds,\n",
        "                        validation_steps=len(test_ds))"
      ]
    },
    {
      "cell_type": "markdown",
      "metadata": {
        "id": "VgQn6P4tNgrB"
      },
      "source": [
        "#### VGG 2"
      ]
    },
    {
      "cell_type": "code",
      "execution_count": null,
      "metadata": {
        "colab": {
          "background_save": true
        },
        "id": "_NHMsTPQNiJW"
      },
      "outputs": [],
      "source": [
        "vgg_2 = Sequential([\n",
        "    tf.keras.layers.RandomFlip(mode=\"horizontal\", input_shape=(224, 224, 3)),\n",
        "    tf.keras.layers.RandomContrast(factor=0.3),\n",
        "    tf.keras.layers.Lambda(function=tf.image.per_image_standardization),\n",
        "\n",
        "    Conv2D(filters=16,\n",
        "           kernel_size=(3, 3),\n",
        "           strides=(1, 1),\n",
        "           padding=\"same\",\n",
        "           activation=\"relu\",\n",
        "           kernel_initializer=\"glorot_normal\"),\n",
        "\n",
        "    Conv2D(filters=16,\n",
        "           kernel_size=(3, 3),\n",
        "           strides=(1, 1),\n",
        "           padding=\"same\",\n",
        "           activation=\"relu\",\n",
        "           kernel_initializer=\"glorot_normal\"),\n",
        "\n",
        "    MaxPool2D(pool_size=(2, 2),\n",
        "              strides=None,\n",
        "              padding=\"valid\"),\n",
        "\n",
        "    Conv2D(filters=32,\n",
        "           kernel_size=(3, 3),\n",
        "           strides=(1, 1),\n",
        "           padding=\"same\",\n",
        "           activation=\"relu\",\n",
        "           kernel_initializer=\"glorot_normal\"),\n",
        "\n",
        "    Conv2D(filters=32,\n",
        "           kernel_size=(3, 3),\n",
        "           strides=(1, 1),\n",
        "           padding=\"same\",\n",
        "           activation=\"relu\",\n",
        "           kernel_initializer=\"glorot_normal\"),\n",
        "\n",
        "    MaxPool2D(pool_size=(2, 2),\n",
        "              strides=None,\n",
        "              padding=\"valid\"),\n",
        "\n",
        "    Conv2D(filters=64,\n",
        "           kernel_size=(3, 3),\n",
        "           strides=(1, 1),\n",
        "           padding=\"same\",\n",
        "           activation=\"relu\",\n",
        "           kernel_initializer=\"glorot_normal\"),\n",
        "\n",
        "    Conv2D(filters=64,\n",
        "           kernel_size=(3, 3),\n",
        "           strides=(1, 1),\n",
        "           padding=\"same\",\n",
        "           activation=\"relu\",\n",
        "           kernel_initializer=\"glorot_normal\"),\n",
        "\n",
        "    Conv2D(filters=64,\n",
        "           kernel_size=(3, 3),\n",
        "           strides=(1, 1),\n",
        "           padding=\"same\",\n",
        "           activation=\"relu\",\n",
        "           kernel_initializer=\"glorot_normal\"),\n",
        "\n",
        "    MaxPool2D(pool_size=(2, 2),\n",
        "              strides=None,\n",
        "              padding=\"valid\"),\n",
        "\n",
        "    Conv2D(filters=128,\n",
        "           kernel_size=(3, 3),\n",
        "           strides=(1, 1),\n",
        "           padding=\"same\",\n",
        "           activation=\"relu\",\n",
        "           kernel_initializer=\"glorot_normal\"),\n",
        "\n",
        "    Conv2D(filters=128,\n",
        "           kernel_size=(3, 3),\n",
        "           strides=(1, 1),\n",
        "           padding=\"same\",\n",
        "           activation=\"relu\",\n",
        "           kernel_initializer=\"glorot_normal\"),\n",
        "\n",
        "    Conv2D(filters=128,\n",
        "           kernel_size=(3, 3),\n",
        "           strides=(1, 1),\n",
        "           padding=\"same\",\n",
        "           activation=\"relu\",\n",
        "           kernel_initializer=\"glorot_normal\"),\n",
        "\n",
        "    MaxPool2D(pool_size=(2, 2),\n",
        "              strides=None,\n",
        "              padding=\"valid\"),\n",
        "\n",
        "    Flatten(),\n",
        "\n",
        "    Dense(units=16,\n",
        "          activation=\"relu\",\n",
        "          kernel_initializer=\"glorot_normal\",\n",
        "          bias_initializer=\"zeros\"),\n",
        "\n",
        "    Dense(units=8,\n",
        "          activation=\"relu\",\n",
        "          kernel_initializer=\"glorot_normal\",\n",
        "          bias_initializer=\"zeros\"),\n",
        "\n",
        "    Dense(units= 1,\n",
        "          activation=\"sigmoid\",\n",
        "          kernel_initializer=\"glorot_normal\",\n",
        "          bias_initializer=\"zeros\")\n",
        "])"
      ]
    },
    {
      "cell_type": "code",
      "execution_count": null,
      "metadata": {
        "colab": {
          "base_uri": "https://localhost:8080/"
        },
        "id": "1QWKl4X-OMfa",
        "outputId": "6bd69aa2-e239-4f6e-ab88-64fa78acebd0"
      },
      "outputs": [
        {
          "name": "stdout",
          "output_type": "stream",
          "text": [
            "Model: \"sequential_2\"\n",
            "_________________________________________________________________\n",
            " Layer (type)                Output Shape              Param #   \n",
            "=================================================================\n",
            " random_flip_2 (RandomFlip)  (None, 224, 224, 3)       0         \n",
            "                                                                 \n",
            " random_contrast_2 (RandomC  (None, 224, 224, 3)       0         \n",
            " ontrast)                                                        \n",
            "                                                                 \n",
            " lambda_2 (Lambda)           (None, 224, 224, 3)       0         \n",
            "                                                                 \n",
            " conv2d_14 (Conv2D)          (None, 224, 224, 16)      448       \n",
            "                                                                 \n",
            " conv2d_15 (Conv2D)          (None, 224, 224, 16)      2320      \n",
            "                                                                 \n",
            " max_pooling2d_7 (MaxPoolin  (None, 112, 112, 16)      0         \n",
            " g2D)                                                            \n",
            "                                                                 \n",
            " conv2d_16 (Conv2D)          (None, 112, 112, 32)      4640      \n",
            "                                                                 \n",
            " conv2d_17 (Conv2D)          (None, 112, 112, 32)      9248      \n",
            "                                                                 \n",
            " max_pooling2d_8 (MaxPoolin  (None, 56, 56, 32)        0         \n",
            " g2D)                                                            \n",
            "                                                                 \n",
            " conv2d_18 (Conv2D)          (None, 56, 56, 64)        18496     \n",
            "                                                                 \n",
            " conv2d_19 (Conv2D)          (None, 56, 56, 64)        36928     \n",
            "                                                                 \n",
            " conv2d_20 (Conv2D)          (None, 56, 56, 64)        36928     \n",
            "                                                                 \n",
            " max_pooling2d_9 (MaxPoolin  (None, 28, 28, 64)        0         \n",
            " g2D)                                                            \n",
            "                                                                 \n",
            " conv2d_21 (Conv2D)          (None, 28, 28, 128)       73856     \n",
            "                                                                 \n",
            " conv2d_22 (Conv2D)          (None, 28, 28, 128)       147584    \n",
            "                                                                 \n",
            " conv2d_23 (Conv2D)          (None, 28, 28, 128)       147584    \n",
            "                                                                 \n",
            " max_pooling2d_10 (MaxPooli  (None, 14, 14, 128)       0         \n",
            " ng2D)                                                           \n",
            "                                                                 \n",
            " flatten_2 (Flatten)         (None, 25088)             0         \n",
            "                                                                 \n",
            " dense_5 (Dense)             (None, 16)                401424    \n",
            "                                                                 \n",
            " dense_6 (Dense)             (None, 8)                 136       \n",
            "                                                                 \n",
            " dense_7 (Dense)             (None, 1)                 9         \n",
            "                                                                 \n",
            "=================================================================\n",
            "Total params: 879601 (3.36 MB)\n",
            "Trainable params: 879601 (3.36 MB)\n",
            "Non-trainable params: 0 (0.00 Byte)\n",
            "_________________________________________________________________\n"
          ]
        }
      ],
      "source": [
        "vgg_2.summary()"
      ]
    },
    {
      "cell_type": "code",
      "source": [
        "vgg_2.compile(loss=\"binary_crossentropy\",\n",
        "                optimizer=Adam(),\n",
        "                metrics=[\"accuracy\"])\n",
        "\n",
        "\n",
        "history_vgg_2 = vgg_2.fit(train_ds,\n",
        "                        epochs=50,\n",
        "                        steps_per_epoch=len(train_ds),\n",
        "                        validation_data=test_ds,\n",
        "                        validation_steps=len(test_ds))"
      ],
      "metadata": {
        "colab": {
          "base_uri": "https://localhost:8080/"
        },
        "id": "Y4NneRYoOlKh",
        "outputId": "4014fb84-a71a-4304-bc0f-68bbead76aa6"
      },
      "execution_count": 9,
      "outputs": [
        {
          "output_type": "stream",
          "name": "stdout",
          "text": [
            "Epoch 1/50\n",
            "112/112 [==============================] - 40s 206ms/step - loss: 0.6171 - accuracy: 0.6563 - val_loss: 0.4419 - val_accuracy: 0.8218\n",
            "Epoch 2/50\n",
            "112/112 [==============================] - 25s 214ms/step - loss: 0.4041 - accuracy: 0.8328 - val_loss: 0.3768 - val_accuracy: 0.8632\n",
            "Epoch 3/50\n",
            "112/112 [==============================] - 25s 218ms/step - loss: 0.3543 - accuracy: 0.8612 - val_loss: 0.3714 - val_accuracy: 0.8598\n",
            "Epoch 4/50\n",
            "112/112 [==============================] - 25s 219ms/step - loss: 0.3285 - accuracy: 0.8654 - val_loss: 0.3150 - val_accuracy: 0.8615\n",
            "Epoch 5/50\n",
            "112/112 [==============================] - 25s 215ms/step - loss: 0.3161 - accuracy: 0.8730 - val_loss: 0.2940 - val_accuracy: 0.8860\n",
            "Epoch 6/50\n",
            "112/112 [==============================] - 24s 209ms/step - loss: 0.2907 - accuracy: 0.8828 - val_loss: 0.3127 - val_accuracy: 0.8733\n",
            "Epoch 7/50\n",
            "112/112 [==============================] - 25s 213ms/step - loss: 0.2734 - accuracy: 0.8870 - val_loss: 0.2741 - val_accuracy: 0.8944\n",
            "Epoch 8/50\n",
            "112/112 [==============================] - 25s 212ms/step - loss: 0.2600 - accuracy: 0.8969 - val_loss: 0.3166 - val_accuracy: 0.8733\n",
            "Epoch 9/50\n",
            "112/112 [==============================] - 29s 249ms/step - loss: 0.2463 - accuracy: 0.8974 - val_loss: 0.2886 - val_accuracy: 0.8767\n",
            "Epoch 10/50\n",
            "112/112 [==============================] - 25s 216ms/step - loss: 0.2363 - accuracy: 0.9044 - val_loss: 0.3053 - val_accuracy: 0.8691\n",
            "Epoch 11/50\n",
            "112/112 [==============================] - 24s 201ms/step - loss: 0.2386 - accuracy: 0.9050 - val_loss: 0.2773 - val_accuracy: 0.8885\n",
            "Epoch 12/50\n",
            "112/112 [==============================] - 25s 208ms/step - loss: 0.2072 - accuracy: 0.9151 - val_loss: 0.3146 - val_accuracy: 0.8784\n",
            "Epoch 13/50\n",
            "112/112 [==============================] - 25s 207ms/step - loss: 0.2046 - accuracy: 0.9174 - val_loss: 0.2578 - val_accuracy: 0.8978\n",
            "Epoch 14/50\n",
            "112/112 [==============================] - 25s 215ms/step - loss: 0.1796 - accuracy: 0.9286 - val_loss: 0.2777 - val_accuracy: 0.8970\n",
            "Epoch 15/50\n",
            "112/112 [==============================] - 25s 214ms/step - loss: 0.1893 - accuracy: 0.9230 - val_loss: 0.2658 - val_accuracy: 0.9046\n",
            "Epoch 16/50\n",
            "112/112 [==============================] - 25s 215ms/step - loss: 0.1824 - accuracy: 0.9255 - val_loss: 0.2865 - val_accuracy: 0.8877\n",
            "Epoch 17/50\n",
            "112/112 [==============================] - 25s 215ms/step - loss: 0.1640 - accuracy: 0.9354 - val_loss: 0.3812 - val_accuracy: 0.8505\n",
            "Epoch 18/50\n",
            "112/112 [==============================] - 25s 214ms/step - loss: 0.1538 - accuracy: 0.9438 - val_loss: 0.3088 - val_accuracy: 0.8944\n",
            "Epoch 19/50\n",
            "112/112 [==============================] - 25s 216ms/step - loss: 0.1406 - accuracy: 0.9458 - val_loss: 0.3351 - val_accuracy: 0.8953\n",
            "Epoch 20/50\n",
            "112/112 [==============================] - 24s 206ms/step - loss: 0.1493 - accuracy: 0.9393 - val_loss: 0.3435 - val_accuracy: 0.8868\n",
            "Epoch 21/50\n",
            "112/112 [==============================] - 25s 204ms/step - loss: 0.1037 - accuracy: 0.9604 - val_loss: 0.5246 - val_accuracy: 0.8471\n",
            "Epoch 22/50\n",
            "112/112 [==============================] - 24s 201ms/step - loss: 0.1538 - accuracy: 0.9390 - val_loss: 0.2668 - val_accuracy: 0.9122\n",
            "Epoch 23/50\n",
            "112/112 [==============================] - 25s 213ms/step - loss: 0.1132 - accuracy: 0.9533 - val_loss: 0.3662 - val_accuracy: 0.8927\n",
            "Epoch 24/50\n",
            "112/112 [==============================] - 25s 211ms/step - loss: 0.1027 - accuracy: 0.9609 - val_loss: 0.4686 - val_accuracy: 0.8775\n",
            "Epoch 25/50\n",
            "112/112 [==============================] - 25s 209ms/step - loss: 0.1107 - accuracy: 0.9581 - val_loss: 0.4229 - val_accuracy: 0.8885\n",
            "Epoch 26/50\n",
            "112/112 [==============================] - 24s 210ms/step - loss: 0.1059 - accuracy: 0.9604 - val_loss: 0.3066 - val_accuracy: 0.8944\n",
            "Epoch 27/50\n",
            "112/112 [==============================] - 25s 213ms/step - loss: 0.0966 - accuracy: 0.9654 - val_loss: 0.4107 - val_accuracy: 0.8877\n",
            "Epoch 28/50\n",
            "112/112 [==============================] - 25s 214ms/step - loss: 0.0787 - accuracy: 0.9685 - val_loss: 0.4108 - val_accuracy: 0.8970\n",
            "Epoch 29/50\n",
            "112/112 [==============================] - 25s 216ms/step - loss: 0.0927 - accuracy: 0.9635 - val_loss: 0.3646 - val_accuracy: 0.9020\n",
            "Epoch 30/50\n",
            "112/112 [==============================] - 25s 213ms/step - loss: 0.0979 - accuracy: 0.9632 - val_loss: 0.3626 - val_accuracy: 0.8970\n",
            "Epoch 31/50\n",
            "112/112 [==============================] - 25s 212ms/step - loss: 0.0627 - accuracy: 0.9755 - val_loss: 0.4577 - val_accuracy: 0.8716\n",
            "Epoch 32/50\n",
            "112/112 [==============================] - 25s 216ms/step - loss: 0.0765 - accuracy: 0.9688 - val_loss: 0.4689 - val_accuracy: 0.8944\n",
            "Epoch 33/50\n",
            "112/112 [==============================] - 25s 216ms/step - loss: 0.0706 - accuracy: 0.9705 - val_loss: 0.4257 - val_accuracy: 0.8953\n",
            "Epoch 34/50\n",
            "112/112 [==============================] - 25s 216ms/step - loss: 0.0713 - accuracy: 0.9716 - val_loss: 0.4635 - val_accuracy: 0.9062\n",
            "Epoch 35/50\n",
            "112/112 [==============================] - 24s 210ms/step - loss: 0.0468 - accuracy: 0.9803 - val_loss: 0.7954 - val_accuracy: 0.8615\n",
            "Epoch 36/50\n",
            "112/112 [==============================] - 25s 214ms/step - loss: 0.0895 - accuracy: 0.9651 - val_loss: 0.6394 - val_accuracy: 0.8539\n",
            "Epoch 37/50\n",
            "112/112 [==============================] - 24s 202ms/step - loss: 0.1055 - accuracy: 0.9671 - val_loss: 0.5398 - val_accuracy: 0.8851\n",
            "Epoch 38/50\n",
            "112/112 [==============================] - 25s 211ms/step - loss: 0.0788 - accuracy: 0.9711 - val_loss: 0.4480 - val_accuracy: 0.8885\n",
            "Epoch 39/50\n",
            "112/112 [==============================] - 25s 209ms/step - loss: 0.0618 - accuracy: 0.9770 - val_loss: 0.4217 - val_accuracy: 0.9012\n",
            "Epoch 40/50\n",
            "112/112 [==============================] - 24s 201ms/step - loss: 0.0738 - accuracy: 0.9691 - val_loss: 0.3835 - val_accuracy: 0.8894\n",
            "Epoch 41/50\n",
            "112/112 [==============================] - 29s 248ms/step - loss: 0.0562 - accuracy: 0.9778 - val_loss: 0.4615 - val_accuracy: 0.8995\n",
            "Epoch 42/50\n",
            "112/112 [==============================] - 25s 214ms/step - loss: 0.0446 - accuracy: 0.9820 - val_loss: 0.5236 - val_accuracy: 0.8910\n",
            "Epoch 43/50\n",
            "112/112 [==============================] - 25s 214ms/step - loss: 0.1061 - accuracy: 0.9592 - val_loss: 0.4115 - val_accuracy: 0.8902\n",
            "Epoch 44/50\n",
            "112/112 [==============================] - 24s 204ms/step - loss: 0.0384 - accuracy: 0.9848 - val_loss: 0.4549 - val_accuracy: 0.8927\n",
            "Epoch 45/50\n",
            "112/112 [==============================] - 29s 248ms/step - loss: 0.0402 - accuracy: 0.9831 - val_loss: 0.4536 - val_accuracy: 0.8936\n",
            "Epoch 46/50\n",
            "112/112 [==============================] - 25s 217ms/step - loss: 0.0587 - accuracy: 0.9786 - val_loss: 0.7769 - val_accuracy: 0.8733\n",
            "Epoch 47/50\n",
            "112/112 [==============================] - 23s 201ms/step - loss: 0.1357 - accuracy: 0.9567 - val_loss: 0.3648 - val_accuracy: 0.8978\n",
            "Epoch 48/50\n",
            "112/112 [==============================] - 25s 208ms/step - loss: 0.0655 - accuracy: 0.9755 - val_loss: 0.3953 - val_accuracy: 0.8986\n",
            "Epoch 49/50\n",
            "112/112 [==============================] - 25s 215ms/step - loss: 0.0317 - accuracy: 0.9876 - val_loss: 0.4419 - val_accuracy: 0.9046\n",
            "Epoch 50/50\n",
            "112/112 [==============================] - 25s 214ms/step - loss: 0.0244 - accuracy: 0.9904 - val_loss: 0.4650 - val_accuracy: 0.8995\n"
          ]
        }
      ]
    },
    {
      "cell_type": "code",
      "source": [
        "def plot_metrics(history, figsize=(10, 5)):\n",
        "    \"\"\"\n",
        "    Plots the loss and accuracy curves from a history dictionary.\n",
        "    :param history: Dict. of the history of a tensorflow model\n",
        "    :param figsize: Tuple of the figure size\n",
        "    :return: None\n",
        "    \"\"\"\n",
        "    fig, ax = plt.subplots(figsize=figsize, nrows=1, ncols=2)\n",
        "\n",
        "    loss = history[\"loss\"]\n",
        "    val_loss = history[\"val_loss\"]\n",
        "\n",
        "    accuracy = history[\"accuracy\"]\n",
        "    val_accuracy = history[\"val_accuracy\"]\n",
        "\n",
        "    epochs = range(1, 1 + len(history[\"loss\"]))\n",
        "\n",
        "    # Plot loss\n",
        "    ax[0].plot(epochs, loss, label=\"Training Loss\", linewidth=2, color=\"#0291b5\")\n",
        "    ax[0].plot(epochs, val_loss, label=\"Validation Loss\", linewidth=2, color=\"#eb0076\")\n",
        "    ax[0].set_title(\"Loss\")\n",
        "    ax[0].set_xlabel(\"Epochs\")\n",
        "    ax[0].legend()\n",
        "\n",
        "    # Plot accuracy\n",
        "    ax[1].plot(epochs, accuracy, label=\"Training Accuracy\", linewidth=2, color=\"#0291b5\")\n",
        "    ax[1].plot(epochs, val_accuracy, label=\"Validation Accuracy\", linewidth=2, color=\"#eb0076\")\n",
        "    ax[1].set_title(\"Accuracy\")\n",
        "    ax[1].set_xlabel(\"Epochs\")\n",
        "    ax[1].legend()\n",
        "\n",
        "    plt.show()"
      ],
      "metadata": {
        "id": "abrpc79nWjtE"
      },
      "execution_count": 10,
      "outputs": []
    },
    {
      "cell_type": "code",
      "source": [
        "dict_1 = dict(history_vgg_1.history)"
      ],
      "metadata": {
        "id": "ZWrXtFUUWor0"
      },
      "execution_count": 11,
      "outputs": []
    },
    {
      "cell_type": "code",
      "source": [
        "plot_metrics(dict_1)"
      ],
      "metadata": {
        "id": "x5HN1pjaWuTF",
        "outputId": "e03204bc-1a34-4346-b947-b83d47822cd8",
        "colab": {
          "base_uri": "https://localhost:8080/",
          "height": 487
        }
      },
      "execution_count": 15,
      "outputs": [
        {
          "output_type": "display_data",
          "data": {
            "text/plain": [
              "<Figure size 1000x500 with 2 Axes>"
            ],
            "image/png": "[encoded data removed]"
          },
          "metadata": {}
        }
      ]
    },
    {
      "cell_type": "code",
      "source": [
        "dict_2 = dict(history_vgg_2.history)\n",
        "plot_metrics(dict_2)"
      ],
      "metadata": {
        "id": "foBX31_1W72C",
        "outputId": "32ed7949-e949-4a11-fa34-1a2df24ad448",
        "colab": {
          "base_uri": "https://localhost:8080/",
          "height": 487
        }
      },
      "execution_count": 16,
      "outputs": [
        {
          "output_type": "display_data",
          "data": {
            "text/plain": [
              "<Figure size 1000x500 with 2 Axes>"
            ],
            "image/png": "[encoded data removed]"
          },
          "metadata": {}
        }
      ]
    },
    {
      "cell_type": "markdown",
      "metadata": {
        "id": "sHe7zEf--z9y"
      },
      "source": [
        "## Transfer Learning\n"
      ]
    },
    {
      "cell_type": "markdown",
      "metadata": {
        "id": "4Y-bDT-71Xfy"
      },
      "source": [
        "### Resnet"
      ]
    },
    {
      "cell_type": "code",
      "execution_count": null,
      "metadata": {
        "colab": {
          "base_uri": "https://localhost:8080/"
        },
        "id": "trYsHT3lRh2v",
        "outputId": "e8ae4084-19a6-44ba-fa14-c50c3f4edf2a"
      },
      "outputs": [
        {
          "name": "stdout",
          "output_type": "stream",
          "text": [
            "Downloading data from https://storage.googleapis.com/tensorflow/keras-applications/resnet/resnet50_weights_tf_dim_ordering_tf_kernels_notop.h5\n",
            "94765736/94765736 [==============================] - 3s 0us/step\n"
          ]
        }
      ],
      "source": [
        "resnet_model = Sequential([\n",
        "    tf.keras.layers.Lambda(preprocess_input, input_shape=(64, 64, 3)),\n",
        "    ResNet50(include_top=False, pooling=\"avg\", weights=\"imagenet\", input_shape=(64, 64, 3)),\n",
        "    tf.keras.layers.Dense(1, activation=\"sigmoid\")\n",
        "])\n",
        "\n",
        "resnet_model.layers[1].trainable = False"
      ]
    },
    {
      "cell_type": "code",
      "execution_count": null,
      "metadata": {
        "id": "uspTAVHEghyM"
      },
      "outputs": [],
      "source": [
        "resnet_v2 = tf.keras.Sequential([\n",
        "    tf.keras.layers.Lambda(tf.keras.applications.resnet_v2.preprocess_input, input_shape=(64, 64, 3)),\n",
        "    tf.keras.applications.resnet_v2.ResNet50V2(include_top=False, weights=\"imagenet\", input_shape=(64, 64, 3),  pooling=\"avg\"),\n",
        "    tf.keras.layers.Dense(1, activation=\"sigmoid\")\n",
        "])\n",
        "\n",
        "resnet_v2.layers[1].trainable = False"
      ]
    },
    {
      "cell_type": "code",
      "execution_count": null,
      "metadata": {
        "colab": {
          "base_uri": "https://localhost:8080/"
        },
        "id": "D3Dy--bShDG3",
        "outputId": "82f9d8c2-8fb8-49ec-9539-b09cb0a2128a"
      },
      "outputs": [
        {
          "name": "stdout",
          "output_type": "stream",
          "text": [
            "Model: \"sequential_2\"\n",
            "_________________________________________________________________\n",
            " Layer (type)                Output Shape              Param #   \n",
            "=================================================================\n",
            " lambda_2 (Lambda)           (None, 64, 64, 3)         0         \n",
            "                                                                 \n",
            " resnet50v2 (Functional)     (None, 2048)              23564800  \n",
            "                                                                 \n",
            " dense_2 (Dense)             (None, 1)                 2049      \n",
            "                                                                 \n",
            "=================================================================\n",
            "Total params: 23566849 (89.90 MB)\n",
            "Trainable params: 2049 (8.00 KB)\n",
            "Non-trainable params: 23564800 (89.89 MB)\n",
            "_________________________________________________________________\n"
          ]
        }
      ],
      "source": [
        "resnet_v2.summary()"
      ]
    },
    {
      "cell_type": "code",
      "execution_count": null,
      "metadata": {
        "colab": {
          "base_uri": "https://localhost:8080/"
        },
        "id": "fYNLPM4bpC65",
        "outputId": "be414f18-f9dd-49e2-9f09-2e801121e894"
      },
      "outputs": [
        {
          "name": "stdout",
          "output_type": "stream",
          "text": [
            "Model: \"sequential_9\"\n",
            "_________________________________________________________________\n",
            " Layer (type)                Output Shape              Param #   \n",
            "=================================================================\n",
            " lambda_9 (Lambda)           (None, 64, 64, 3)         0         \n",
            "                                                                 \n",
            " keras_layer_6 (KerasLayer)  (None, 2048)              23564800  \n",
            "                                                                 \n",
            " dense_9 (Dense)             (None, 1)                 2049      \n",
            "                                                                 \n",
            "=================================================================\n",
            "Total params: 23566849 (89.90 MB)\n",
            "Trainable params: 2049 (8.00 KB)\n",
            "Non-trainable params: 23564800 (89.89 MB)\n",
            "_________________________________________________________________\n"
          ]
        }
      ],
      "source": [
        "resnet_model.summary()"
      ]
    },
    {
      "cell_type": "code",
      "execution_count": null,
      "metadata": {
        "id": "52r5M-kxTCth"
      },
      "outputs": [],
      "source": [
        "resnet_v2.compile(optimizer=\"Adam\",\n",
        "                     loss=\"binary_crossentropy\",\n",
        "                     metrics=[\"accuracy\"])"
      ]
    },
    {
      "cell_type": "code",
      "execution_count": null,
      "metadata": {
        "colab": {
          "base_uri": "https://localhost:8080/"
        },
        "id": "re14O4omS5Zr",
        "outputId": "2273a6a5-5378-4fa9-a300-ca0c290fb300"
      },
      "outputs": [
        {
          "name": "stdout",
          "output_type": "stream",
          "text": [
            "Epoch 1/10\n",
            "112/112 [==============================] - 26s 176ms/step - loss: 0.3600 - accuracy: 0.8648 - val_loss: 0.2706 - val_accuracy: 0.8953\n",
            "Epoch 2/10\n",
            "112/112 [==============================] - 20s 168ms/step - loss: 0.2008 - accuracy: 0.9295 - val_loss: 0.2486 - val_accuracy: 0.9062\n",
            "Epoch 3/10\n",
            "112/112 [==============================] - 20s 163ms/step - loss: 0.1614 - accuracy: 0.9382 - val_loss: 0.2360 - val_accuracy: 0.9088\n",
            "Epoch 4/10\n",
            "112/112 [==============================] - 19s 162ms/step - loss: 0.1340 - accuracy: 0.9519 - val_loss: 0.2320 - val_accuracy: 0.9155\n",
            "Epoch 5/10\n",
            "112/112 [==============================] - 21s 177ms/step - loss: 0.1148 - accuracy: 0.9584 - val_loss: 0.2335 - val_accuracy: 0.9164\n",
            "Epoch 6/10\n",
            "112/112 [==============================] - 19s 163ms/step - loss: 0.1028 - accuracy: 0.9666 - val_loss: 0.2322 - val_accuracy: 0.9181\n",
            "Epoch 7/10\n",
            "112/112 [==============================] - 20s 168ms/step - loss: 0.0929 - accuracy: 0.9663 - val_loss: 0.2372 - val_accuracy: 0.9147\n",
            "Epoch 8/10\n",
            "112/112 [==============================] - 20s 175ms/step - loss: 0.0824 - accuracy: 0.9736 - val_loss: 0.2364 - val_accuracy: 0.9172\n",
            "Epoch 9/10\n",
            "112/112 [==============================] - 20s 175ms/step - loss: 0.0754 - accuracy: 0.9767 - val_loss: 0.2397 - val_accuracy: 0.9172\n",
            "Epoch 10/10\n",
            "112/112 [==============================] - 19s 161ms/step - loss: 0.0690 - accuracy: 0.9800 - val_loss: 0.2433 - val_accuracy: 0.9155\n"
          ]
        },
        {
          "data": {
            "text/plain": [
              "<keras.src.callbacks.History at 0x7af1f4dbf970>"
            ]
          },
          "execution_count": 20,
          "metadata": {},
          "output_type": "execute_result"
        }
      ],
      "source": [
        "resnet_v2.fit(train_ds,\n",
        "                 epochs=10,\n",
        "                 steps_per_epoch=len(train_ds),\n",
        "                 validation_data=test_ds,\n",
        "                 validation_steps=len(test_ds))"
      ]
    },
    {
      "cell_type": "code",
      "execution_count": null,
      "metadata": {
        "colab": {
          "base_uri": "https://localhost:8080/"
        },
        "id": "CphJ-lwulz8F",
        "outputId": "050ff440-a4d6-43c3-91d5-d6e133b7e69a"
      },
      "outputs": [
        {
          "name": "stdout",
          "output_type": "stream",
          "text": [
            "37/37 [==============================] - 5s 99ms/step - loss: 0.2433 - accuracy: 0.9155\n"
          ]
        },
        {
          "data": {
            "text/plain": [
              "[0.24325056374073029, 0.9155405163764954]"
            ]
          },
          "execution_count": 24,
          "metadata": {},
          "output_type": "execute_result"
        }
      ],
      "source": [
        "resnet_v2.evaluate(test_ds)"
      ]
    },
    {
      "cell_type": "markdown",
      "metadata": {
        "id": "4i8VpxEHoiv2"
      },
      "source": [
        "### Efficientnet B0"
      ]
    },
    {
      "cell_type": "code",
      "execution_count": null,
      "metadata": {
        "colab": {
          "base_uri": "https://localhost:8080/"
        },
        "id": "cXAJeuzUoiOg",
        "outputId": "cebeaa07-dda4-4793-a532-918208e2207d"
      },
      "outputs": [
        {
          "name": "stdout",
          "output_type": "stream",
          "text": [
            "Downloading data from https://storage.googleapis.com/keras-applications/efficientnetb0_notop.h5\n",
            "16705208/16705208 [==============================] - 0s 0us/step\n"
          ]
        }
      ],
      "source": [
        "efficientnetb0 = tf.keras.Sequential([\n",
        "    tf.keras.layers.Lambda(tf.keras.applications.efficientnet.preprocess_input, input_shape=(64, 64, 3)),\n",
        "    tf.keras.applications.efficientnet.EfficientNetB0(include_top=False, weights=\"imagenet\", input_shape=(64, 64, 3),  pooling=\"avg\"),\n",
        "    tf.keras.layers.Dense(1, activation=\"sigmoid\")\n",
        "])\n",
        "\n",
        "efficientnetb0.layers[1].trainable = False"
      ]
    },
    {
      "cell_type": "code",
      "execution_count": null,
      "metadata": {
        "id": "Gy1Hogkno9U6"
      },
      "outputs": [],
      "source": [
        "efficientnetb0.compile(optimizer=\"Adam\",\n",
        "                     loss=\"binary_crossentropy\",\n",
        "                     metrics=[\"accuracy\"])"
      ]
    },
    {
      "cell_type": "code",
      "execution_count": null,
      "metadata": {
        "colab": {
          "base_uri": "https://localhost:8080/"
        },
        "id": "Kc4UEQTmo_2H",
        "outputId": "5e1bb305-ecfe-41f1-c957-84d8858095ef"
      },
      "outputs": [
        {
          "name": "stdout",
          "output_type": "stream",
          "text": [
            "Epoch 1/10\n",
            "112/112 [==============================] - 29s 189ms/step - loss: 0.3504 - accuracy: 0.8626 - val_loss: 0.2155 - val_accuracy: 0.9181\n",
            "Epoch 2/10\n",
            "112/112 [==============================] - 19s 166ms/step - loss: 0.1883 - accuracy: 0.9365 - val_loss: 0.1708 - val_accuracy: 0.9299\n",
            "Epoch 3/10\n",
            "112/112 [==============================] - 19s 157ms/step - loss: 0.1600 - accuracy: 0.9435 - val_loss: 0.1562 - val_accuracy: 0.9316\n",
            "Epoch 4/10\n",
            "112/112 [==============================] - 19s 158ms/step - loss: 0.1460 - accuracy: 0.9486 - val_loss: 0.1471 - val_accuracy: 0.9333\n",
            "Epoch 5/10\n",
            "112/112 [==============================] - 20s 169ms/step - loss: 0.1310 - accuracy: 0.9542 - val_loss: 0.1418 - val_accuracy: 0.9350\n",
            "Epoch 6/10\n",
            "112/112 [==============================] - 24s 211ms/step - loss: 0.1233 - accuracy: 0.9581 - val_loss: 0.1387 - val_accuracy: 0.9316\n",
            "Epoch 7/10\n",
            "112/112 [==============================] - 19s 160ms/step - loss: 0.1181 - accuracy: 0.9604 - val_loss: 0.1352 - val_accuracy: 0.9367\n",
            "Epoch 8/10\n",
            "112/112 [==============================] - 20s 170ms/step - loss: 0.1133 - accuracy: 0.9612 - val_loss: 0.1337 - val_accuracy: 0.9383\n",
            "Epoch 9/10\n",
            "112/112 [==============================] - 19s 161ms/step - loss: 0.1061 - accuracy: 0.9629 - val_loss: 0.1305 - val_accuracy: 0.9409\n",
            "Epoch 10/10\n",
            "112/112 [==============================] - 25s 212ms/step - loss: 0.1005 - accuracy: 0.9657 - val_loss: 0.1303 - val_accuracy: 0.9392\n"
          ]
        },
        {
          "data": {
            "text/plain": [
              "<keras.src.callbacks.History at 0x7af233f1f2b0>"
            ]
          },
          "execution_count": 9,
          "metadata": {},
          "output_type": "execute_result"
        }
      ],
      "source": [
        "efficientnetb0.fit(train_ds,\n",
        "                 epochs=10,\n",
        "                 steps_per_epoch=len(train_ds),\n",
        "                 validation_data=test_ds,\n",
        "                 validation_steps=len(test_ds))"
      ]
    },
    {
      "cell_type": "code",
      "execution_count": null,
      "metadata": {
        "colab": {
          "base_uri": "https://localhost:8080/"
        },
        "id": "S2N6mVeypDnz",
        "outputId": "29929fdb-3712-4483-f135-5efc7b599f79"
      },
      "outputs": [
        {
          "name": "stdout",
          "output_type": "stream",
          "text": [
            "37/37 [==============================] - 5s 98ms/step - loss: 0.1303 - accuracy: 0.9392\n"
          ]
        },
        {
          "data": {
            "text/plain": [
              "[0.1302599012851715, 0.9391891956329346]"
            ]
          },
          "execution_count": 26,
          "metadata": {},
          "output_type": "execute_result"
        }
      ],
      "source": [
        "efficientnetb0.evaluate(test_ds)"
      ]
    },
    {
      "cell_type": "markdown",
      "source": [
        "## ResNet Manually"
      ],
      "metadata": {
        "id": "qisYEAI51RS_"
      }
    },
    {
      "cell_type": "code",
      "source": [
        "from tensorflow.keras.models import Model, Sequential\n",
        "from tensorflow.keras.layers import *\n",
        "\n",
        "class ResNetBlock(Layer):\n",
        "\n",
        "  def __init__(self, out_channels, first_stride=1):\n",
        "    super().__init__()\n",
        "\n",
        "    first_padding = 'same'\n",
        "    if first_stride != 1:\n",
        "      first_padding = 'valid'\n",
        "\n",
        "    self.conv_sequence = Sequential([\n",
        "                            Conv2D(out_channels, 3,\n",
        "                                   first_stride, padding=first_padding),\n",
        "                            BatchNormalization(),\n",
        "                            ReLU(),\n",
        "\n",
        "                            Conv2D(out_channels, 3,\n",
        "                                   1, padding='same'),\n",
        "                            BatchNormalization(),\n",
        "                            ReLU()\n",
        "    ])\n",
        "\n",
        "  def call(self, inputs):\n",
        "    x = self.conv_sequence(inputs)\n",
        "\n",
        "    if x.shape == inputs.shape:\n",
        "      x = x + inputs\n",
        "    return x\n",
        "\n",
        "layer = ResNetBlock(4)\n",
        "print(layer)"
      ],
      "metadata": {
        "id": "BUDlcoQP1Uxu",
        "outputId": "11d9d956-6936-4efe-ed5a-e021b286e49f",
        "colab": {
          "base_uri": "https://localhost:8080/"
        }
      },
      "execution_count": 1,
      "outputs": [
        {
          "output_type": "stream",
          "name": "stdout",
          "text": [
            "<__main__.ResNetBlock object at 0x7cd9886951e0>\n"
          ]
        }
      ]
    },
    {
      "cell_type": "code",
      "source": [
        "class ResNet(Model):\n",
        "  def __init__(self):\n",
        "    super(ResNet, self).__init__()\n",
        "\n",
        "    self.conv_1 = Sequential([Conv2D(64, 7, 2),\n",
        "                              ReLU(),\n",
        "                              MaxPooling2D(3, 2)\n",
        "                  ])\n",
        "\n",
        "    self.resnet_chains = Sequential([ResNetBlock(32), ResNetBlock(32)] +\n",
        "                                    [ResNetBlock(64, 2), ResNetBlock(64)] +\n",
        "                                    [ResNetBlock(128, 2), ResNetBlock(128)] +\n",
        "                                    [ResNetBlock(256, 2), ResNetBlock(256)])\n",
        "\n",
        "    self.out = Sequential([GlobalAveragePooling2D(),\n",
        "                           Dense(1, activation='sigmoid')\n",
        "    ])\n",
        "\n",
        "  def call(self, x):\n",
        "    x = self.conv_1(x)\n",
        "    x = self.resnet_chains(x)\n",
        "    x = self.out(x)\n",
        "    return x\n",
        "\n",
        "model = ResNet()\n",
        "print(model)"
      ],
      "metadata": {
        "id": "tIH4GyBZ1XM-",
        "outputId": "333497ce-98b0-44b4-e267-4ba0174c12b8",
        "colab": {
          "base_uri": "https://localhost:8080/"
        }
      },
      "execution_count": 12,
      "outputs": [
        {
          "output_type": "stream",
          "name": "stdout",
          "text": [
            "<__main__.ResNet object at 0x7cd8e7fef2b0>\n"
          ]
        }
      ]
    },
    {
      "cell_type": "code",
      "source": [
        "train_ds, val_ds = tf.keras.utils.image_dataset_from_directory(\"/content/drive/MyDrive/MachineLearningProject/data/train\",\n",
        "                                                               label_mode=\"binary\",\n",
        "                                                               color_mode=\"rgb\",\n",
        "                                                               batch_size=32,\n",
        "                                                               image_size=(256, 256),\n",
        "                                                               shuffle=True,\n",
        "                                                               seed=42,\n",
        "                                                               subset=\"both\",\n",
        "                                                               validation_split=0.25)\n",
        "\n",
        "test_ds = tf.keras.utils.image_dataset_from_directory(\"/content/drive/MyDrive/MachineLearningProject/data/test\",\n",
        "                                                      label_mode=\"binary\",\n",
        "                                                      color_mode=\"rgb\",\n",
        "                                                      batch_size=32,\n",
        "                                                      image_size=(256, 256),\n",
        "                                                      shuffle=True,\n",
        "                                                      seed=42)"
      ],
      "metadata": {
        "id": "CgqHy2xJ15zo",
        "outputId": "c3cc54ec-656b-44b6-cf52-e9cde42b4d1e",
        "colab": {
          "base_uri": "https://localhost:8080/"
        }
      },
      "execution_count": 5,
      "outputs": [
        {
          "output_type": "stream",
          "name": "stdout",
          "text": [
            "Found 4743 files belonging to 2 classes.\n",
            "Using 3558 files for training.\n",
            "Using 1185 files for validation.\n",
            "Found 1184 files belonging to 2 classes.\n"
          ]
        }
      ]
    },
    {
      "cell_type": "code",
      "source": [
        "for (img, label) in train_ds:\n",
        "  print(model(img).numpy().shape, label.numpy())\n",
        "  break"
      ],
      "metadata": {
        "id": "8HEuSELt1wCt",
        "outputId": "b0cd7d7e-41ff-49b0-a797-392e7bd13333",
        "colab": {
          "base_uri": "https://localhost:8080/"
        }
      },
      "execution_count": 13,
      "outputs": [
        {
          "output_type": "stream",
          "name": "stdout",
          "text": [
            "(32, 1) [[1.]\n",
            " [0.]\n",
            " [0.]\n",
            " [1.]\n",
            " [1.]\n",
            " [0.]\n",
            " [0.]\n",
            " [1.]\n",
            " [1.]\n",
            " [1.]\n",
            " [1.]\n",
            " [0.]\n",
            " [1.]\n",
            " [0.]\n",
            " [1.]\n",
            " [1.]\n",
            " [0.]\n",
            " [0.]\n",
            " [0.]\n",
            " [0.]\n",
            " [0.]\n",
            " [1.]\n",
            " [1.]\n",
            " [0.]\n",
            " [0.]\n",
            " [0.]\n",
            " [0.]\n",
            " [1.]\n",
            " [1.]\n",
            " [1.]\n",
            " [1.]\n",
            " [1.]]\n"
          ]
        }
      ]
    },
    {
      "cell_type": "code",
      "source": [
        "print(model.summary())"
      ],
      "metadata": {
        "id": "nmT4WTBl2OK0",
        "outputId": "a68f6910-3d69-4a6b-b033-5f478808ee2d",
        "colab": {
          "base_uri": "https://localhost:8080/"
        }
      },
      "execution_count": 14,
      "outputs": [
        {
          "output_type": "stream",
          "name": "stdout",
          "text": [
            "Model: \"res_net_2\"\n",
            "_________________________________________________________________\n",
            " Layer (type)                Output Shape              Param #   \n",
            "=================================================================\n",
            " sequential_23 (Sequential)  (32, 62, 62, 64)          9472      \n",
            "                                                                 \n",
            " sequential_32 (Sequential)  (32, 6, 6, 256)           2765184   \n",
            "                                                                 \n",
            " sequential_33 (Sequential)  (32, 1)                   257       \n",
            "                                                                 \n",
            "=================================================================\n",
            "Total params: 2774913 (10.59 MB)\n",
            "Trainable params: 2771073 (10.57 MB)\n",
            "Non-trainable params: 3840 (15.00 KB)\n",
            "_________________________________________________________________\n",
            "None\n"
          ]
        }
      ]
    },
    {
      "cell_type": "code",
      "source": [
        "from tensorflow.keras.optimizers import SGD\n",
        "from tensorflow.keras.losses import BinaryCrossentropy\n",
        "\n",
        "# Learning rate is also a hyperparameter\n",
        "model.compile(optimizer=SGD(learning_rate=0.001),\n",
        "                     loss=\"binary_crossentropy\",\n",
        "                     metrics=[\"accuracy\"])"
      ],
      "metadata": {
        "id": "ovfVg1s02m9V"
      },
      "execution_count": 16,
      "outputs": []
    },
    {
      "cell_type": "code",
      "source": [
        "model.fit(train_ds,\n",
        "          epochs=50,\n",
        "          steps_per_epoch=len(train_ds),\n",
        "          validation_data=test_ds,\n",
        "          validation_steps=len(test_ds))"
      ],
      "metadata": {
        "id": "mhofe8l52w-C",
        "outputId": "6d50e0ba-5757-41f0-f649-ebb85c757e67",
        "colab": {
          "base_uri": "https://localhost:8080/"
        }
      },
      "execution_count": 17,
      "outputs": [
        {
          "output_type": "stream",
          "name": "stdout",
          "text": [
            "Epoch 1/50\n",
            "112/112 [==============================] - 549s 5s/step - loss: 0.5323 - accuracy: 0.7788 - val_loss: 1.9142 - val_accuracy: 0.4983\n",
            "Epoch 2/50\n",
            "112/112 [==============================] - 24s 199ms/step - loss: 0.3694 - accuracy: 0.8471 - val_loss: 0.7841 - val_accuracy: 0.6976\n",
            "Epoch 3/50\n",
            "112/112 [==============================] - 24s 207ms/step - loss: 0.3181 - accuracy: 0.8746 - val_loss: 3.2907 - val_accuracy: 0.5405\n",
            "Epoch 4/50\n",
            "112/112 [==============================] - 28s 240ms/step - loss: 0.2992 - accuracy: 0.8808 - val_loss: 2.5517 - val_accuracy: 0.5397\n",
            "Epoch 5/50\n",
            "112/112 [==============================] - 24s 208ms/step - loss: 0.3245 - accuracy: 0.8637 - val_loss: 2.0664 - val_accuracy: 0.5405\n",
            "Epoch 6/50\n",
            "112/112 [==============================] - 24s 207ms/step - loss: 0.2710 - accuracy: 0.8994 - val_loss: 1.6414 - val_accuracy: 0.5954\n",
            "Epoch 7/50\n",
            "112/112 [==============================] - 28s 242ms/step - loss: 0.2351 - accuracy: 0.9056 - val_loss: 0.9602 - val_accuracy: 0.6149\n",
            "Epoch 8/50\n",
            "112/112 [==============================] - 24s 209ms/step - loss: 0.2339 - accuracy: 0.9117 - val_loss: 0.9463 - val_accuracy: 0.7196\n",
            "Epoch 9/50\n",
            "112/112 [==============================] - 24s 208ms/step - loss: 0.2265 - accuracy: 0.9089 - val_loss: 0.8508 - val_accuracy: 0.6934\n",
            "Epoch 10/50\n",
            "112/112 [==============================] - 24s 208ms/step - loss: 0.2113 - accuracy: 0.9174 - val_loss: 0.6553 - val_accuracy: 0.7745\n",
            "Epoch 11/50\n",
            "112/112 [==============================] - 28s 240ms/step - loss: 0.2147 - accuracy: 0.9168 - val_loss: 0.5002 - val_accuracy: 0.8480\n",
            "Epoch 12/50\n",
            "112/112 [==============================] - 24s 209ms/step - loss: 0.2236 - accuracy: 0.9078 - val_loss: 0.9130 - val_accuracy: 0.6123\n",
            "Epoch 13/50\n",
            "112/112 [==============================] - 24s 208ms/step - loss: 0.1742 - accuracy: 0.9323 - val_loss: 0.5165 - val_accuracy: 0.7365\n",
            "Epoch 14/50\n",
            "112/112 [==============================] - 23s 197ms/step - loss: 0.1519 - accuracy: 0.9404 - val_loss: 0.2198 - val_accuracy: 0.9071\n",
            "Epoch 15/50\n",
            "112/112 [==============================] - 25s 212ms/step - loss: 0.1366 - accuracy: 0.9508 - val_loss: 0.1914 - val_accuracy: 0.9257\n",
            "Epoch 16/50\n",
            "112/112 [==============================] - 24s 207ms/step - loss: 0.1280 - accuracy: 0.9517 - val_loss: 1.1374 - val_accuracy: 0.6639\n",
            "Epoch 17/50\n",
            "112/112 [==============================] - 28s 246ms/step - loss: 0.1290 - accuracy: 0.9528 - val_loss: 0.4440 - val_accuracy: 0.8285\n",
            "Epoch 18/50\n",
            "112/112 [==============================] - 25s 211ms/step - loss: 0.1294 - accuracy: 0.9519 - val_loss: 0.2910 - val_accuracy: 0.9054\n",
            "Epoch 19/50\n",
            "112/112 [==============================] - 25s 212ms/step - loss: 0.1079 - accuracy: 0.9595 - val_loss: 0.9946 - val_accuracy: 0.7280\n",
            "Epoch 20/50\n",
            "112/112 [==============================] - 24s 204ms/step - loss: 0.1032 - accuracy: 0.9595 - val_loss: 0.8138 - val_accuracy: 0.7416\n",
            "Epoch 21/50\n",
            "112/112 [==============================] - 25s 213ms/step - loss: 0.0794 - accuracy: 0.9730 - val_loss: 0.4223 - val_accuracy: 0.8750\n",
            "Epoch 22/50\n",
            "112/112 [==============================] - 25s 211ms/step - loss: 0.0924 - accuracy: 0.9680 - val_loss: 0.2380 - val_accuracy: 0.9147\n",
            "Epoch 23/50\n",
            "112/112 [==============================] - 29s 248ms/step - loss: 0.0643 - accuracy: 0.9775 - val_loss: 0.2122 - val_accuracy: 0.9358\n",
            "Epoch 24/50\n",
            "112/112 [==============================] - 28s 243ms/step - loss: 0.0459 - accuracy: 0.9834 - val_loss: 0.4111 - val_accuracy: 0.8691\n",
            "Epoch 25/50\n",
            "112/112 [==============================] - 24s 210ms/step - loss: 0.0635 - accuracy: 0.9775 - val_loss: 0.1977 - val_accuracy: 0.9375\n",
            "Epoch 26/50\n",
            "112/112 [==============================] - 23s 200ms/step - loss: 0.0486 - accuracy: 0.9834 - val_loss: 0.4600 - val_accuracy: 0.8682\n",
            "Epoch 27/50\n",
            "112/112 [==============================] - 25s 211ms/step - loss: 0.0600 - accuracy: 0.9770 - val_loss: 2.0479 - val_accuracy: 0.6318\n",
            "Epoch 28/50\n",
            "112/112 [==============================] - 25s 214ms/step - loss: 0.0472 - accuracy: 0.9831 - val_loss: 0.9125 - val_accuracy: 0.7998\n",
            "Epoch 29/50\n",
            "112/112 [==============================] - 25s 215ms/step - loss: 0.0433 - accuracy: 0.9845 - val_loss: 0.4592 - val_accuracy: 0.8877\n",
            "Epoch 30/50\n",
            "112/112 [==============================] - 28s 244ms/step - loss: 0.1326 - accuracy: 0.9491 - val_loss: 0.8809 - val_accuracy: 0.7576\n",
            "Epoch 31/50\n",
            "112/112 [==============================] - 25s 217ms/step - loss: 0.0543 - accuracy: 0.9812 - val_loss: 0.2112 - val_accuracy: 0.9367\n",
            "Epoch 32/50\n",
            "112/112 [==============================] - 23s 200ms/step - loss: 0.0622 - accuracy: 0.9758 - val_loss: 0.6542 - val_accuracy: 0.8505\n",
            "Epoch 33/50\n",
            "112/112 [==============================] - 28s 245ms/step - loss: 0.0202 - accuracy: 0.9938 - val_loss: 0.1792 - val_accuracy: 0.9485\n",
            "Epoch 34/50\n",
            "112/112 [==============================] - 24s 209ms/step - loss: 0.0130 - accuracy: 0.9958 - val_loss: 0.2082 - val_accuracy: 0.9417\n",
            "Epoch 35/50\n",
            "112/112 [==============================] - 26s 221ms/step - loss: 0.0112 - accuracy: 0.9969 - val_loss: 0.2444 - val_accuracy: 0.9367\n",
            "Epoch 36/50\n",
            "112/112 [==============================] - 24s 204ms/step - loss: 0.0253 - accuracy: 0.9904 - val_loss: 0.4290 - val_accuracy: 0.9113\n",
            "Epoch 37/50\n",
            "112/112 [==============================] - 23s 196ms/step - loss: 0.0684 - accuracy: 0.9775 - val_loss: 0.4100 - val_accuracy: 0.9122\n",
            "Epoch 38/50\n",
            "112/112 [==============================] - 24s 209ms/step - loss: 0.0298 - accuracy: 0.9902 - val_loss: 0.2713 - val_accuracy: 0.9088\n",
            "Epoch 39/50\n",
            "112/112 [==============================] - 24s 210ms/step - loss: 0.0244 - accuracy: 0.9933 - val_loss: 0.2595 - val_accuracy: 0.9223\n",
            "Epoch 40/50\n",
            "112/112 [==============================] - 24s 210ms/step - loss: 0.0652 - accuracy: 0.9758 - val_loss: 0.2503 - val_accuracy: 0.9189\n",
            "Epoch 41/50\n",
            "112/112 [==============================] - 28s 244ms/step - loss: 0.0354 - accuracy: 0.9874 - val_loss: 0.2599 - val_accuracy: 0.9265\n",
            "Epoch 42/50\n",
            "112/112 [==============================] - 24s 206ms/step - loss: 0.0167 - accuracy: 0.9941 - val_loss: 0.3619 - val_accuracy: 0.9020\n",
            "Epoch 43/50\n",
            "112/112 [==============================] - 24s 209ms/step - loss: 0.0207 - accuracy: 0.9935 - val_loss: 0.2683 - val_accuracy: 0.9274\n",
            "Epoch 44/50\n",
            "112/112 [==============================] - 23s 197ms/step - loss: 0.0081 - accuracy: 0.9975 - val_loss: 0.6915 - val_accuracy: 0.8454\n",
            "Epoch 45/50\n",
            "112/112 [==============================] - 24s 206ms/step - loss: 0.0108 - accuracy: 0.9958 - val_loss: 3.6966 - val_accuracy: 0.6233\n",
            "Epoch 46/50\n",
            "112/112 [==============================] - 24s 210ms/step - loss: 0.0246 - accuracy: 0.9921 - val_loss: 0.3488 - val_accuracy: 0.8978\n",
            "Epoch 47/50\n",
            "112/112 [==============================] - 28s 242ms/step - loss: 0.0721 - accuracy: 0.9747 - val_loss: 1.1152 - val_accuracy: 0.7779\n",
            "Epoch 48/50\n",
            "112/112 [==============================] - 28s 242ms/step - loss: 0.0268 - accuracy: 0.9918 - val_loss: 1.9979 - val_accuracy: 0.6605\n",
            "Epoch 49/50\n",
            "112/112 [==============================] - 24s 209ms/step - loss: 0.0414 - accuracy: 0.9845 - val_loss: 1.4341 - val_accuracy: 0.6655\n",
            "Epoch 50/50\n",
            "112/112 [==============================] - 24s 210ms/step - loss: 0.0076 - accuracy: 0.9989 - val_loss: 0.2877 - val_accuracy: 0.9257\n"
          ]
        },
        {
          "output_type": "execute_result",
          "data": {
            "text/plain": [
              "<keras.src.callbacks.History at 0x7cd8e21c65f0>"
            ]
          },
          "metadata": {},
          "execution_count": 17
        }
      ]
    }
  ],
  "metadata": {
    "accelerator": "GPU",
    "colab": {
      "collapsed_sections": [
        "Ql8N3Mqp-_sI",
        "sHe7zEf--z9y",
        "4Y-bDT-71Xfy",
        "4i8VpxEHoiv2"
      ],
      "provenance": []
    },
    "kernelspec": {
      "display_name": "Python 3",
      "name": "python3"
    },
    "language_info": {
      "name": "python"
    }
  },
  "nbformat": 4,
  "nbformat_minor": 0
}