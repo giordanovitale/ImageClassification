{
  "nbformat": 4,
  "nbformat_minor": 0,
  "metadata": {
    "colab": {
      "provenance": [],
      "gpuType": "V100",
      "machine_shape": "hm"
    },
    "kernelspec": {
      "name": "python3",
      "display_name": "Python 3"
    },
    "language_info": {
      "name": "python"
    },
    "accelerator": "GPU"
  },
  "cells": [
    {
      "cell_type": "markdown",
      "source": [
        "## Loading dependencies"
      ],
      "metadata": {
        "id": "7-5sEytogjMV"
      }
    },
    {
      "cell_type": "code",
      "source": [
        "import os\n",
        "import tensorflow as tf\n",
        "from tensorflow.keras.optimizers import Adam\n",
        "from tensorflow.keras.callbacks import ModelCheckpoint, CSVLogger\n",
        "from google.colab import drive\n",
        "drive.mount(\"/content/drive\")\n",
        "os.chdir(\"/content/drive/MyDrive/MachineLearningProject\")\n",
        "import sys\n",
        "sys.path.append(\"/content/drive/MyDrive/MachineLearningProject\")"
      ],
      "metadata": {
        "id": "P2P47pn6pk0Q",
        "colab": {
          "base_uri": "https://localhost:8080/"
        },
        "outputId": "7f28ea64-793f-4045-d1de-82625807aefd"
      },
      "execution_count": null,
      "outputs": [
        {
          "output_type": "stream",
          "name": "stdout",
          "text": [
            "Mounted at /content/drive\n"
          ]
        }
      ]
    },
    {
      "cell_type": "markdown",
      "source": [
        "## Creating the models"
      ],
      "metadata": {
        "id": "6sv49G7igmuG"
      }
    },
    {
      "cell_type": "code",
      "source": [
        "%run vgg.py"
      ],
      "metadata": {
        "id": "1iuooL4pp8CU"
      },
      "execution_count": null,
      "outputs": []
    },
    {
      "cell_type": "markdown",
      "source": [
        "## Loading the data"
      ],
      "metadata": {
        "id": "yu6ImoTbgoas"
      }
    },
    {
      "cell_type": "code",
      "source": [
        "train_ds = tf.keras.utils.image_dataset_from_directory(\"/content/drive/MyDrive/MachineLearningProject/data/train\",\n",
        "                                                       label_mode=\"binary\",\n",
        "                                                       color_mode=\"rgb\",\n",
        "                                                       batch_size=32,\n",
        "                                                       image_size=(224, 224),\n",
        "                                                       shuffle=True,\n",
        "                                                       seed=42)\n",
        "\n",
        "val_ds = tf.keras.utils.image_dataset_from_directory(\"/content/drive/MyDrive/MachineLearningProject/data/test\",\n",
        "                                                     label_mode=\"binary\",\n",
        "                                                     color_mode=\"rgb\",\n",
        "                                                     batch_size=32,\n",
        "                                                     image_size=(224, 224),\n",
        "                                                     shuffle=True,\n",
        "                                                     seed=42)"
      ],
      "metadata": {
        "id": "3Pt1trSkqFZm",
        "colab": {
          "base_uri": "https://localhost:8080/"
        },
        "outputId": "fcbc9d27-a630-468b-dcb3-59e63d19c1e4"
      },
      "execution_count": null,
      "outputs": [
        {
          "output_type": "stream",
          "name": "stdout",
          "text": [
            "Found 4743 files belonging to 2 classes.\n",
            "Found 1184 files belonging to 2 classes.\n"
          ]
        }
      ]
    },
    {
      "cell_type": "markdown",
      "source": [
        "## VGG 1"
      ],
      "metadata": {
        "id": "tYfOqLSUqRC9"
      }
    },
    {
      "cell_type": "markdown",
      "source": [
        "### Loading the model"
      ],
      "metadata": {
        "id": "dkCkuUYtgvWU"
      }
    },
    {
      "cell_type": "code",
      "source": [
        "vgg_1 = tf.keras.models.load_model(\n",
        "    \"/content/drive/MyDrive/MachineLearningProject/models/vgg/vgg_1.keras\",\n",
        "    safe_mode=False)\n",
        "\n",
        "vgg_1.summary()"
      ],
      "metadata": {
        "id": "B-sO0nzgqH0r",
        "colab": {
          "base_uri": "https://localhost:8080/"
        },
        "outputId": "ba7177fb-29d8-46a2-ef09-94a6b09630ee"
      },
      "execution_count": null,
      "outputs": [
        {
          "output_type": "stream",
          "name": "stdout",
          "text": [
            "Model: \"VGG_1\"\n",
            "_________________________________________________________________\n",
            " Layer (type)                Output Shape              Param #   \n",
            "=================================================================\n",
            " Random_horizontal_flip (Ra  (None, 224, 224, 3)       0         \n",
            " ndomFlip)                                                       \n",
            "                                                                 \n",
            " Random_contrast (RandomCon  (None, 224, 224, 3)       0         \n",
            " trast)                                                          \n",
            "                                                                 \n",
            " Per_image_standardisation   (None, 224, 224, 3)       0         \n",
            " (Lambda)                                                        \n",
            "                                                                 \n",
            " Conv_1 (Conv2D)             (None, 224, 224, 16)      448       \n",
            "                                                                 \n",
            " MaxPool_1 (MaxPooling2D)    (None, 112, 112, 16)      0         \n",
            "                                                                 \n",
            " Conv_2 (Conv2D)             (None, 112, 112, 32)      4640      \n",
            "                                                                 \n",
            " MaxPool_2 (MaxPooling2D)    (None, 56, 56, 32)        0         \n",
            "                                                                 \n",
            " Conv_3 (Conv2D)             (None, 56, 56, 64)        18496     \n",
            "                                                                 \n",
            " Conv_4 (Conv2D)             (None, 56, 56, 64)        36928     \n",
            "                                                                 \n",
            " MaxPool_3 (MaxPooling2D)    (None, 28, 28, 64)        0         \n",
            "                                                                 \n",
            " Flatten (Flatten)           (None, 50176)             0         \n",
            "                                                                 \n",
            " Dense (Dense)               (None, 8)                 401416    \n",
            "                                                                 \n",
            " Output (Dense)              (None, 1)                 9         \n",
            "                                                                 \n",
            "=================================================================\n",
            "Total params: 461937 (1.76 MB)\n",
            "Trainable params: 461937 (1.76 MB)\n",
            "Non-trainable params: 0 (0.00 Byte)\n",
            "_________________________________________________________________\n"
          ]
        }
      ]
    },
    {
      "cell_type": "markdown",
      "source": [
        "### Compiling the model"
      ],
      "metadata": {
        "id": "s0AbcGy0gyQr"
      }
    },
    {
      "cell_type": "code",
      "source": [
        "vgg_1.compile(loss=\"binary_crossentropy\",\n",
        "              optimizer=Adam(),\n",
        "              metrics=[\"accuracy\"])"
      ],
      "metadata": {
        "id": "_s6eS8L7qrIk"
      },
      "execution_count": null,
      "outputs": []
    },
    {
      "cell_type": "markdown",
      "source": [
        "### Creating Callbacks"
      ],
      "metadata": {
        "id": "S-ZD2HbEgzqd"
      }
    },
    {
      "cell_type": "code",
      "source": [
        "vgg_1_checkpoint = ModelCheckpoint(\n",
        "    filepath=\"/content/drive/MyDrive/MachineLearningProject/model_weights/vgg/vgg_1.keras\",\n",
        "    save_weights_only=True,\n",
        "    save_best_only=False)\n",
        "\n",
        "vgg_1_csv_logger = CSVLogger(\"/content/drive/MyDrive/MachineLearningProject/histories/vgg/vgg_1.log\")"
      ],
      "metadata": {
        "id": "oMU0cA4gg2_z"
      },
      "execution_count": null,
      "outputs": []
    },
    {
      "cell_type": "markdown",
      "source": [
        "### Fitting the model"
      ],
      "metadata": {
        "id": "nIiwy9-6g8uM"
      }
    },
    {
      "cell_type": "code",
      "source": [
        "vgg_1_history = vgg_1.fit(train_ds,\n",
        "                          epochs=50,\n",
        "                          steps_per_epoch=len(train_ds),\n",
        "                          validation_data=val_ds,\n",
        "                          validation_steps=len(val_ds),\n",
        "                          callbacks=[vgg_1_checkpoint, vgg_1_csv_logger])"
      ],
      "metadata": {
        "id": "j0-OaMz9qtXs",
        "colab": {
          "base_uri": "https://localhost:8080/"
        },
        "outputId": "ed56e026-fffe-4d15-ead5-ada5dbd91edc"
      },
      "execution_count": null,
      "outputs": [
        {
          "output_type": "stream",
          "name": "stdout",
          "text": [
            "Epoch 1/50\n",
            "149/149 [==============================] - 500s 3s/step - loss: 0.6137 - accuracy: 0.6599 - val_loss: 0.5970 - val_accuracy: 0.6562\n",
            "Epoch 2/50\n",
            "149/149 [==============================] - 16s 105ms/step - loss: 0.4980 - accuracy: 0.7757 - val_loss: 0.4770 - val_accuracy: 0.8015\n",
            "Epoch 3/50\n",
            "149/149 [==============================] - 16s 104ms/step - loss: 0.3381 - accuracy: 0.8541 - val_loss: 0.3729 - val_accuracy: 0.8438\n",
            "Epoch 4/50\n",
            "149/149 [==============================] - 16s 104ms/step - loss: 0.2648 - accuracy: 0.8845 - val_loss: 0.2677 - val_accuracy: 0.8953\n",
            "Epoch 5/50\n",
            "149/149 [==============================] - 16s 105ms/step - loss: 0.2215 - accuracy: 0.9072 - val_loss: 0.2905 - val_accuracy: 0.8919\n",
            "Epoch 6/50\n",
            "149/149 [==============================] - 16s 102ms/step - loss: 0.1965 - accuracy: 0.9184 - val_loss: 0.2613 - val_accuracy: 0.9071\n",
            "Epoch 7/50\n",
            "149/149 [==============================] - 16s 103ms/step - loss: 0.1602 - accuracy: 0.9349 - val_loss: 0.2921 - val_accuracy: 0.9046\n",
            "Epoch 8/50\n",
            "149/149 [==============================] - 16s 105ms/step - loss: 0.1321 - accuracy: 0.9418 - val_loss: 0.2734 - val_accuracy: 0.9096\n",
            "Epoch 9/50\n",
            "149/149 [==============================] - 17s 108ms/step - loss: 0.1093 - accuracy: 0.9511 - val_loss: 0.3299 - val_accuracy: 0.9096\n",
            "Epoch 10/50\n",
            "149/149 [==============================] - 16s 104ms/step - loss: 0.0909 - accuracy: 0.9652 - val_loss: 0.3060 - val_accuracy: 0.9130\n",
            "Epoch 11/50\n",
            "149/149 [==============================] - 16s 101ms/step - loss: 0.0786 - accuracy: 0.9673 - val_loss: 0.3171 - val_accuracy: 0.9096\n",
            "Epoch 12/50\n",
            "149/149 [==============================] - 16s 103ms/step - loss: 0.0689 - accuracy: 0.9726 - val_loss: 0.3787 - val_accuracy: 0.9105\n",
            "Epoch 13/50\n",
            "149/149 [==============================] - 16s 103ms/step - loss: 0.0584 - accuracy: 0.9760 - val_loss: 0.3895 - val_accuracy: 0.9122\n",
            "Epoch 14/50\n",
            "149/149 [==============================] - 16s 101ms/step - loss: 0.0537 - accuracy: 0.9770 - val_loss: 0.5941 - val_accuracy: 0.8843\n",
            "Epoch 15/50\n",
            "149/149 [==============================] - 16s 101ms/step - loss: 0.0595 - accuracy: 0.9791 - val_loss: 0.4029 - val_accuracy: 0.9088\n",
            "Epoch 16/50\n",
            "149/149 [==============================] - 16s 101ms/step - loss: 0.0678 - accuracy: 0.9743 - val_loss: 0.3561 - val_accuracy: 0.9088\n",
            "Epoch 17/50\n",
            "149/149 [==============================] - 16s 100ms/step - loss: 0.0309 - accuracy: 0.9869 - val_loss: 0.4993 - val_accuracy: 0.8995\n",
            "Epoch 18/50\n",
            "149/149 [==============================] - 15s 99ms/step - loss: 0.0386 - accuracy: 0.9848 - val_loss: 0.5120 - val_accuracy: 0.9020\n",
            "Epoch 19/50\n",
            "149/149 [==============================] - 16s 101ms/step - loss: 0.0348 - accuracy: 0.9861 - val_loss: 0.4343 - val_accuracy: 0.8995\n",
            "Epoch 20/50\n",
            "149/149 [==============================] - 16s 104ms/step - loss: 0.0354 - accuracy: 0.9865 - val_loss: 0.4276 - val_accuracy: 0.9105\n",
            "Epoch 21/50\n",
            "149/149 [==============================] - 16s 101ms/step - loss: 0.0228 - accuracy: 0.9920 - val_loss: 0.5830 - val_accuracy: 0.8944\n",
            "Epoch 22/50\n",
            "149/149 [==============================] - 16s 101ms/step - loss: 0.0330 - accuracy: 0.9886 - val_loss: 0.4145 - val_accuracy: 0.9096\n",
            "Epoch 23/50\n",
            "149/149 [==============================] - 16s 102ms/step - loss: 0.0220 - accuracy: 0.9939 - val_loss: 0.4559 - val_accuracy: 0.9062\n",
            "Epoch 24/50\n",
            "149/149 [==============================] - 16s 102ms/step - loss: 0.0255 - accuracy: 0.9907 - val_loss: 0.4939 - val_accuracy: 0.9020\n",
            "Epoch 25/50\n",
            "149/149 [==============================] - 16s 103ms/step - loss: 0.0345 - accuracy: 0.9880 - val_loss: 0.4687 - val_accuracy: 0.9037\n",
            "Epoch 26/50\n",
            "149/149 [==============================] - 16s 100ms/step - loss: 0.0595 - accuracy: 0.9806 - val_loss: 0.5976 - val_accuracy: 0.8649\n",
            "Epoch 27/50\n",
            "149/149 [==============================] - 15s 99ms/step - loss: 0.0530 - accuracy: 0.9804 - val_loss: 0.5268 - val_accuracy: 0.9012\n",
            "Epoch 28/50\n",
            "149/149 [==============================] - 15s 99ms/step - loss: 0.0254 - accuracy: 0.9911 - val_loss: 0.4668 - val_accuracy: 0.9181\n",
            "Epoch 29/50\n",
            "149/149 [==============================] - 16s 100ms/step - loss: 0.0153 - accuracy: 0.9935 - val_loss: 0.6584 - val_accuracy: 0.9020\n",
            "Epoch 30/50\n",
            "149/149 [==============================] - 15s 100ms/step - loss: 0.0259 - accuracy: 0.9909 - val_loss: 0.8879 - val_accuracy: 0.8725\n",
            "Epoch 31/50\n",
            "149/149 [==============================] - 16s 101ms/step - loss: 0.0301 - accuracy: 0.9895 - val_loss: 0.5226 - val_accuracy: 0.9172\n",
            "Epoch 32/50\n",
            "149/149 [==============================] - 16s 102ms/step - loss: 0.0105 - accuracy: 0.9962 - val_loss: 0.5433 - val_accuracy: 0.9231\n",
            "Epoch 33/50\n",
            "149/149 [==============================] - 16s 101ms/step - loss: 0.0177 - accuracy: 0.9943 - val_loss: 0.6239 - val_accuracy: 0.9054\n",
            "Epoch 34/50\n",
            "149/149 [==============================] - 16s 101ms/step - loss: 0.0215 - accuracy: 0.9920 - val_loss: 0.5593 - val_accuracy: 0.9079\n",
            "Epoch 35/50\n",
            "149/149 [==============================] - 16s 102ms/step - loss: 0.0161 - accuracy: 0.9939 - val_loss: 0.6320 - val_accuracy: 0.9079\n",
            "Epoch 36/50\n",
            "149/149 [==============================] - 16s 100ms/step - loss: 0.0149 - accuracy: 0.9952 - val_loss: 0.6814 - val_accuracy: 0.9054\n",
            "Epoch 37/50\n",
            "149/149 [==============================] - 16s 100ms/step - loss: 0.0280 - accuracy: 0.9907 - val_loss: 0.5836 - val_accuracy: 0.9164\n",
            "Epoch 38/50\n",
            "149/149 [==============================] - 15s 99ms/step - loss: 0.0192 - accuracy: 0.9935 - val_loss: 0.5528 - val_accuracy: 0.9139\n",
            "Epoch 39/50\n",
            "149/149 [==============================] - 15s 99ms/step - loss: 0.0338 - accuracy: 0.9892 - val_loss: 0.5601 - val_accuracy: 0.9079\n",
            "Epoch 40/50\n",
            "149/149 [==============================] - 15s 99ms/step - loss: 0.0295 - accuracy: 0.9888 - val_loss: 0.5955 - val_accuracy: 0.8970\n",
            "Epoch 41/50\n",
            "149/149 [==============================] - 16s 101ms/step - loss: 0.0231 - accuracy: 0.9920 - val_loss: 0.5645 - val_accuracy: 0.8986\n",
            "Epoch 42/50\n",
            "149/149 [==============================] - 15s 99ms/step - loss: 0.0287 - accuracy: 0.9888 - val_loss: 0.5851 - val_accuracy: 0.9122\n",
            "Epoch 43/50\n",
            "149/149 [==============================] - 15s 98ms/step - loss: 0.0198 - accuracy: 0.9916 - val_loss: 0.9081 - val_accuracy: 0.8784\n",
            "Epoch 44/50\n",
            "149/149 [==============================] - 15s 99ms/step - loss: 0.0266 - accuracy: 0.9905 - val_loss: 0.5497 - val_accuracy: 0.9079\n",
            "Epoch 45/50\n",
            "149/149 [==============================] - 15s 98ms/step - loss: 0.0103 - accuracy: 0.9962 - val_loss: 0.5415 - val_accuracy: 0.9088\n",
            "Epoch 46/50\n",
            "149/149 [==============================] - 15s 98ms/step - loss: 0.0095 - accuracy: 0.9964 - val_loss: 0.6103 - val_accuracy: 0.9122\n",
            "Epoch 47/50\n",
            "149/149 [==============================] - 15s 98ms/step - loss: 0.0127 - accuracy: 0.9949 - val_loss: 0.6750 - val_accuracy: 0.9096\n",
            "Epoch 48/50\n",
            "149/149 [==============================] - 16s 104ms/step - loss: 0.0061 - accuracy: 0.9979 - val_loss: 0.7011 - val_accuracy: 0.9079\n",
            "Epoch 49/50\n",
            "149/149 [==============================] - 16s 102ms/step - loss: 0.0093 - accuracy: 0.9973 - val_loss: 0.7108 - val_accuracy: 0.9071\n",
            "Epoch 50/50\n",
            "149/149 [==============================] - 16s 102ms/step - loss: 0.0557 - accuracy: 0.9798 - val_loss: 0.6053 - val_accuracy: 0.8927\n"
          ]
        }
      ]
    },
    {
      "cell_type": "markdown",
      "source": [
        "## VGG 2"
      ],
      "metadata": {
        "id": "NNk1ExyVqTEv"
      }
    },
    {
      "cell_type": "markdown",
      "source": [
        "### Loading the models"
      ],
      "metadata": {
        "id": "D4gk2snohSzW"
      }
    },
    {
      "cell_type": "code",
      "source": [
        "vgg_2 = tf.keras.models.load_model(\n",
        "    \"/content/drive/MyDrive/MachineLearningProject/models/vgg/vgg_2.keras\",\n",
        "    safe_mode=False)\n",
        "\n",
        "vgg_2.summary()"
      ],
      "metadata": {
        "id": "pqSdVS9pqU77",
        "colab": {
          "base_uri": "https://localhost:8080/"
        },
        "outputId": "7edf4c9b-dffc-435f-d0b3-29a82b366d44"
      },
      "execution_count": null,
      "outputs": [
        {
          "output_type": "stream",
          "name": "stdout",
          "text": [
            "Model: \"VGG_2\"\n",
            "_________________________________________________________________\n",
            " Layer (type)                Output Shape              Param #   \n",
            "=================================================================\n",
            " Random_horizontal_flip (Ra  (None, 224, 224, 3)       0         \n",
            " ndomFlip)                                                       \n",
            "                                                                 \n",
            " Random_contrast (RandomCon  (None, 224, 224, 3)       0         \n",
            " trast)                                                          \n",
            "                                                                 \n",
            " Per_image_standardisation   (None, 224, 224, 3)       0         \n",
            " (Lambda)                                                        \n",
            "                                                                 \n",
            " Conv_1 (Conv2D)             (None, 224, 224, 16)      448       \n",
            "                                                                 \n",
            " Conv_2 (Conv2D)             (None, 224, 224, 16)      2320      \n",
            "                                                                 \n",
            " MaxPool_1 (MaxPooling2D)    (None, 112, 112, 16)      0         \n",
            "                                                                 \n",
            " Conv_3 (Conv2D)             (None, 112, 112, 32)      4640      \n",
            "                                                                 \n",
            " Conv_4 (Conv2D)             (None, 112, 112, 32)      9248      \n",
            "                                                                 \n",
            " MaxPool_2 (MaxPooling2D)    (None, 56, 56, 32)        0         \n",
            "                                                                 \n",
            " Conv_5 (Conv2D)             (None, 56, 56, 64)        18496     \n",
            "                                                                 \n",
            " Conv_6 (Conv2D)             (None, 56, 56, 64)        36928     \n",
            "                                                                 \n",
            " Conv_7 (Conv2D)             (None, 56, 56, 64)        4160      \n",
            "                                                                 \n",
            " MaxPool_3 (MaxPooling2D)    (None, 28, 28, 64)        0         \n",
            "                                                                 \n",
            " Conv_8 (Conv2D)             (None, 28, 28, 128)       73856     \n",
            "                                                                 \n",
            " Conv_9 (Conv2D)             (None, 28, 28, 128)       147584    \n",
            "                                                                 \n",
            " Conv_10 (Conv2D)            (None, 28, 28, 128)       16512     \n",
            "                                                                 \n",
            " MaxPool_4 (MaxPooling2D)    (None, 14, 14, 128)       0         \n",
            "                                                                 \n",
            " Flatten (Flatten)           (None, 25088)             0         \n",
            "                                                                 \n",
            " Dense_1 (Dense)             (None, 16)                401424    \n",
            "                                                                 \n",
            " Dense_2 (Dense)             (None, 8)                 136       \n",
            "                                                                 \n",
            " Output (Dense)              (None, 1)                 9         \n",
            "                                                                 \n",
            "=================================================================\n",
            "Total params: 715761 (2.73 MB)\n",
            "Trainable params: 715761 (2.73 MB)\n",
            "Non-trainable params: 0 (0.00 Byte)\n",
            "_________________________________________________________________\n"
          ]
        }
      ]
    },
    {
      "cell_type": "markdown",
      "source": [
        "### Compiling the model"
      ],
      "metadata": {
        "id": "ERkXRVjmhV0e"
      }
    },
    {
      "cell_type": "code",
      "source": [
        "vgg_2.compile(loss=\"binary_crossentropy\",\n",
        "              optimizer=Adam(),\n",
        "              metrics=[\"accuracy\"])"
      ],
      "metadata": {
        "id": "m3mOunqUrB9_"
      },
      "execution_count": null,
      "outputs": []
    },
    {
      "cell_type": "markdown",
      "source": [
        "### Creating Callbacks"
      ],
      "metadata": {
        "id": "qDQKaQM0hYAe"
      }
    },
    {
      "cell_type": "code",
      "source": [
        "vgg_2_checkpoint = tf.keras.callbacks.ModelCheckpoint(\n",
        "    filepath=\"/content/drive/MyDrive/MachineLearningProject/model_weights/vgg/vgg_2.keras\",\n",
        "    save_weights_only=True,\n",
        "    save_best_only=False)\n",
        "\n",
        "vgg_2_csv_logger = CSVLogger(\"/content/drive/MyDrive/MachineLearningProject/histories/vgg/vgg_2.log\")"
      ],
      "metadata": {
        "id": "i_hqNGkfhcbN"
      },
      "execution_count": null,
      "outputs": []
    },
    {
      "cell_type": "markdown",
      "source": [
        "### Fitting the model"
      ],
      "metadata": {
        "id": "ARc-RRm8hbKg"
      }
    },
    {
      "cell_type": "code",
      "source": [
        "vgg_2_history = vgg_2.fit(train_ds,\n",
        "                          epochs=50,\n",
        "                          steps_per_epoch=len(train_ds),\n",
        "                          validation_data=val_ds,\n",
        "                          validation_steps=len(val_ds),\n",
        "                          callbacks=[vgg_2_checkpoint, vgg_2_csv_logger])"
      ],
      "metadata": {
        "id": "G7iSnW3YrEJ6",
        "colab": {
          "base_uri": "https://localhost:8080/"
        },
        "outputId": "8995382c-1988-4990-adc6-f16eb432f42d"
      },
      "execution_count": null,
      "outputs": [
        {
          "output_type": "stream",
          "name": "stdout",
          "text": [
            "Epoch 1/50\n",
            "149/149 [==============================] - 21s 104ms/step - loss: 0.5772 - accuracy: 0.6863 - val_loss: 0.5140 - val_accuracy: 0.7449\n",
            "Epoch 2/50\n",
            "149/149 [==============================] - 16s 105ms/step - loss: 0.4200 - accuracy: 0.8206 - val_loss: 0.3864 - val_accuracy: 0.8218\n",
            "Epoch 3/50\n",
            "149/149 [==============================] - 16s 105ms/step - loss: 0.3578 - accuracy: 0.8480 - val_loss: 0.3298 - val_accuracy: 0.8606\n",
            "Epoch 4/50\n",
            "149/149 [==============================] - 16s 103ms/step - loss: 0.3124 - accuracy: 0.8718 - val_loss: 0.2881 - val_accuracy: 0.8767\n",
            "Epoch 5/50\n",
            "149/149 [==============================] - 16s 105ms/step - loss: 0.2885 - accuracy: 0.8800 - val_loss: 0.2668 - val_accuracy: 0.8910\n",
            "Epoch 6/50\n",
            "149/149 [==============================] - 16s 104ms/step - loss: 0.2791 - accuracy: 0.8880 - val_loss: 0.2599 - val_accuracy: 0.8910\n",
            "Epoch 7/50\n",
            "149/149 [==============================] - 16s 101ms/step - loss: 0.2332 - accuracy: 0.9077 - val_loss: 0.2439 - val_accuracy: 0.9062\n",
            "Epoch 8/50\n",
            "149/149 [==============================] - 16s 102ms/step - loss: 0.2179 - accuracy: 0.9178 - val_loss: 0.2822 - val_accuracy: 0.8834\n",
            "Epoch 9/50\n",
            "149/149 [==============================] - 16s 101ms/step - loss: 0.2109 - accuracy: 0.9178 - val_loss: 0.2165 - val_accuracy: 0.9198\n",
            "Epoch 10/50\n",
            "149/149 [==============================] - 16s 103ms/step - loss: 0.1884 - accuracy: 0.9311 - val_loss: 0.2248 - val_accuracy: 0.9105\n",
            "Epoch 11/50\n",
            "149/149 [==============================] - 16s 104ms/step - loss: 0.2035 - accuracy: 0.9207 - val_loss: 0.2390 - val_accuracy: 0.9088\n",
            "Epoch 12/50\n",
            "149/149 [==============================] - 16s 103ms/step - loss: 0.1690 - accuracy: 0.9327 - val_loss: 0.2115 - val_accuracy: 0.9189\n",
            "Epoch 13/50\n",
            "149/149 [==============================] - 16s 102ms/step - loss: 0.1563 - accuracy: 0.9410 - val_loss: 0.1991 - val_accuracy: 0.9341\n",
            "Epoch 14/50\n",
            "149/149 [==============================] - 16s 101ms/step - loss: 0.1552 - accuracy: 0.9384 - val_loss: 0.3208 - val_accuracy: 0.9029\n",
            "Epoch 15/50\n",
            "149/149 [==============================] - 16s 101ms/step - loss: 0.1487 - accuracy: 0.9433 - val_loss: 0.2164 - val_accuracy: 0.9240\n",
            "Epoch 16/50\n",
            "149/149 [==============================] - 16s 104ms/step - loss: 0.1520 - accuracy: 0.9399 - val_loss: 0.1896 - val_accuracy: 0.9307\n",
            "Epoch 17/50\n",
            "149/149 [==============================] - 16s 102ms/step - loss: 0.1155 - accuracy: 0.9583 - val_loss: 0.2236 - val_accuracy: 0.9324\n",
            "Epoch 18/50\n",
            "149/149 [==============================] - 16s 100ms/step - loss: 0.1119 - accuracy: 0.9564 - val_loss: 0.2206 - val_accuracy: 0.9223\n",
            "Epoch 19/50\n",
            "149/149 [==============================] - 16s 101ms/step - loss: 0.1282 - accuracy: 0.9507 - val_loss: 0.1998 - val_accuracy: 0.9282\n",
            "Epoch 20/50\n",
            "149/149 [==============================] - 16s 102ms/step - loss: 0.1269 - accuracy: 0.9521 - val_loss: 0.2286 - val_accuracy: 0.9282\n",
            "Epoch 21/50\n",
            "149/149 [==============================] - 16s 101ms/step - loss: 0.1017 - accuracy: 0.9618 - val_loss: 0.2193 - val_accuracy: 0.9316\n",
            "Epoch 22/50\n",
            "149/149 [==============================] - 16s 103ms/step - loss: 0.0784 - accuracy: 0.9673 - val_loss: 0.2289 - val_accuracy: 0.9350\n",
            "Epoch 23/50\n",
            "149/149 [==============================] - 16s 102ms/step - loss: 0.0784 - accuracy: 0.9720 - val_loss: 0.2889 - val_accuracy: 0.9164\n",
            "Epoch 24/50\n",
            "149/149 [==============================] - 16s 102ms/step - loss: 0.0970 - accuracy: 0.9604 - val_loss: 0.2424 - val_accuracy: 0.9367\n",
            "Epoch 25/50\n",
            "149/149 [==============================] - 16s 101ms/step - loss: 0.0690 - accuracy: 0.9734 - val_loss: 0.2380 - val_accuracy: 0.9282\n",
            "Epoch 26/50\n",
            "149/149 [==============================] - 16s 102ms/step - loss: 0.0845 - accuracy: 0.9669 - val_loss: 0.2443 - val_accuracy: 0.9367\n",
            "Epoch 27/50\n",
            "149/149 [==============================] - 16s 101ms/step - loss: 0.0678 - accuracy: 0.9753 - val_loss: 0.2791 - val_accuracy: 0.9147\n",
            "Epoch 28/50\n",
            "149/149 [==============================] - 16s 100ms/step - loss: 0.0606 - accuracy: 0.9764 - val_loss: 0.2264 - val_accuracy: 0.9392\n",
            "Epoch 29/50\n",
            "149/149 [==============================] - 16s 101ms/step - loss: 0.0600 - accuracy: 0.9751 - val_loss: 0.2808 - val_accuracy: 0.9341\n",
            "Epoch 30/50\n",
            "149/149 [==============================] - 16s 102ms/step - loss: 0.0775 - accuracy: 0.9703 - val_loss: 0.2943 - val_accuracy: 0.9274\n",
            "Epoch 31/50\n",
            "149/149 [==============================] - 16s 102ms/step - loss: 0.0583 - accuracy: 0.9753 - val_loss: 0.2835 - val_accuracy: 0.9265\n",
            "Epoch 32/50\n",
            "149/149 [==============================] - 16s 101ms/step - loss: 0.0464 - accuracy: 0.9827 - val_loss: 0.2794 - val_accuracy: 0.9341\n",
            "Epoch 33/50\n",
            "149/149 [==============================] - 16s 100ms/step - loss: 0.0531 - accuracy: 0.9791 - val_loss: 0.2635 - val_accuracy: 0.9113\n",
            "Epoch 34/50\n",
            "149/149 [==============================] - 16s 101ms/step - loss: 0.0480 - accuracy: 0.9800 - val_loss: 0.2837 - val_accuracy: 0.9333\n",
            "Epoch 35/50\n",
            "149/149 [==============================] - 16s 102ms/step - loss: 0.0505 - accuracy: 0.9793 - val_loss: 0.2770 - val_accuracy: 0.9172\n",
            "Epoch 36/50\n",
            "149/149 [==============================] - 16s 102ms/step - loss: 0.0490 - accuracy: 0.9819 - val_loss: 0.4030 - val_accuracy: 0.9113\n",
            "Epoch 37/50\n",
            "149/149 [==============================] - 16s 101ms/step - loss: 0.0520 - accuracy: 0.9802 - val_loss: 0.3334 - val_accuracy: 0.9257\n",
            "Epoch 38/50\n",
            "149/149 [==============================] - 16s 101ms/step - loss: 0.0396 - accuracy: 0.9825 - val_loss: 0.5021 - val_accuracy: 0.9155\n",
            "Epoch 39/50\n",
            "149/149 [==============================] - 16s 102ms/step - loss: 0.0440 - accuracy: 0.9823 - val_loss: 0.2698 - val_accuracy: 0.9113\n",
            "Epoch 40/50\n",
            "149/149 [==============================] - 16s 101ms/step - loss: 0.0484 - accuracy: 0.9814 - val_loss: 0.3057 - val_accuracy: 0.9147\n",
            "Epoch 41/50\n",
            "149/149 [==============================] - 16s 102ms/step - loss: 0.0311 - accuracy: 0.9878 - val_loss: 0.3114 - val_accuracy: 0.9400\n",
            "Epoch 42/50\n",
            "149/149 [==============================] - 16s 102ms/step - loss: 0.0604 - accuracy: 0.9787 - val_loss: 0.3206 - val_accuracy: 0.9307\n",
            "Epoch 43/50\n",
            "149/149 [==============================] - 16s 103ms/step - loss: 0.0293 - accuracy: 0.9882 - val_loss: 0.3205 - val_accuracy: 0.9409\n",
            "Epoch 44/50\n",
            "149/149 [==============================] - 16s 104ms/step - loss: 0.0319 - accuracy: 0.9882 - val_loss: 0.3003 - val_accuracy: 0.9392\n",
            "Epoch 45/50\n",
            "149/149 [==============================] - 16s 103ms/step - loss: 0.0192 - accuracy: 0.9933 - val_loss: 0.4242 - val_accuracy: 0.9291\n",
            "Epoch 46/50\n",
            "149/149 [==============================] - 16s 103ms/step - loss: 0.0559 - accuracy: 0.9802 - val_loss: 0.2941 - val_accuracy: 0.9316\n",
            "Epoch 47/50\n",
            "149/149 [==============================] - 16s 101ms/step - loss: 0.0294 - accuracy: 0.9878 - val_loss: 0.3776 - val_accuracy: 0.9316\n",
            "Epoch 48/50\n",
            "149/149 [==============================] - 16s 101ms/step - loss: 0.0248 - accuracy: 0.9905 - val_loss: 0.4026 - val_accuracy: 0.9307\n",
            "Epoch 49/50\n",
            "149/149 [==============================] - 16s 101ms/step - loss: 0.0168 - accuracy: 0.9939 - val_loss: 0.4582 - val_accuracy: 0.9198\n",
            "Epoch 50/50\n",
            "149/149 [==============================] - 16s 103ms/step - loss: 0.0712 - accuracy: 0.9785 - val_loss: 0.2819 - val_accuracy: 0.9299\n"
          ]
        }
      ]
    }
  ]
}