{
  "cells": [
    {
      "cell_type": "markdown",
      "source": [
        "## Loading dependencies"
      ],
      "metadata": {
        "id": "kNWEq2-mD1kZ"
      }
    },
    {
      "cell_type": "code",
      "source": [
        "!pip install -q -U keras-tuner"
      ],
      "metadata": {
        "colab": {
          "base_uri": "https://localhost:8080/"
        },
        "id": "y31yxbsnx3Fg",
        "outputId": "0bd11beb-09e1-4f65-bbb6-dda3f7660537"
      },
      "execution_count": null,
      "outputs": [
        {
          "output_type": "stream",
          "name": "stdout",
          "text": [
            "\u001b[?25l     \u001b[90m━━━━━━━━━━━━━━━━━━━━━━━━━━━━━━━━━━━━━━━━\u001b[0m \u001b[32m0.0/128.9 kB\u001b[0m \u001b[31m?\u001b[0m eta \u001b[36m-:--:--\u001b[0m\r\u001b[2K     \u001b[91m━━━━━━━━━━━━━━━━━━━━━━━━━━━━━━━━━━━━━━\u001b[0m\u001b[90m╺\u001b[0m\u001b[90m━\u001b[0m \u001b[32m122.9/128.9 kB\u001b[0m \u001b[31m4.0 MB/s\u001b[0m eta \u001b[36m0:00:01\u001b[0m\r\u001b[2K     \u001b[90m━━━━━━━━━━━━━━━━━━━━━━━━━━━━━━━━━━━━━━━━\u001b[0m \u001b[32m128.9/128.9 kB\u001b[0m \u001b[31m3.0 MB/s\u001b[0m eta \u001b[36m0:00:00\u001b[0m\n",
            "\u001b[?25h"
          ]
        }
      ]
    },
    {
      "cell_type": "code",
      "execution_count": null,
      "metadata": {
        "colab": {
          "base_uri": "https://localhost:8080/"
        },
        "id": "fZcFsZ0SRuL3",
        "outputId": "ab13cd6f-c958-42b9-dcec-d4a1c823fcfa"
      },
      "outputs": [
        {
          "output_type": "stream",
          "name": "stdout",
          "text": [
            "Drive already mounted at /content/drive; to attempt to forcibly remount, call drive.mount(\"/content/drive\", force_remount=True).\n"
          ]
        }
      ],
      "source": [
        "import os\n",
        "import tensorflow as tf\n",
        "from tensorflow.keras.optimizers import Adam\n",
        "from tensorflow.keras.callbacks import CSVLogger, ModelCheckpoint\n",
        "import keras_tuner as kt\n",
        "from google.colab import drive\n",
        "drive.mount(\"/content/drive\")\n",
        "os.chdir(\"/content/drive/MyDrive/MachineLearningProject\")\n",
        "import sys\n",
        "sys.path.append(\"/content/drive/MyDrive/MachineLearningProject\")"
      ]
    },
    {
      "cell_type": "markdown",
      "source": [
        "## Creating the models"
      ],
      "metadata": {
        "id": "W4Mz38dlD5ov"
      }
    },
    {
      "cell_type": "code",
      "source": [
        "%run sequential.py"
      ],
      "metadata": {
        "id": "aPDmkKLS-Q0T"
      },
      "execution_count": null,
      "outputs": []
    },
    {
      "cell_type": "markdown",
      "source": [
        "## Loading the data"
      ],
      "metadata": {
        "id": "UR4SeGV8EC9w"
      }
    },
    {
      "cell_type": "code",
      "execution_count": null,
      "metadata": {
        "colab": {
          "base_uri": "https://localhost:8080/"
        },
        "id": "-i1Ey5TrX8NO",
        "outputId": "2ca8f134-f934-4569-d578-cff7270289a3"
      },
      "outputs": [
        {
          "output_type": "stream",
          "name": "stdout",
          "text": [
            "Found 4743 files belonging to 2 classes.\n",
            "Found 1184 files belonging to 2 classes.\n"
          ]
        }
      ],
      "source": [
        "train_ds = tf.keras.utils.image_dataset_from_directory(\"/content/drive/MyDrive/MachineLearningProject/data/train\",\n",
        "                                                       label_mode=\"binary\",\n",
        "                                                       color_mode=\"rgb\",\n",
        "                                                       batch_size=32,\n",
        "                                                       image_size=(224, 224),\n",
        "                                                       shuffle=True,\n",
        "                                                       seed=42)\n",
        "\n",
        "val_ds = tf.keras.utils.image_dataset_from_directory(\"/content/drive/MyDrive/MachineLearningProject/data/test\",\n",
        "                                                     label_mode=\"binary\",\n",
        "                                                     color_mode=\"rgb\",\n",
        "                                                     batch_size=32,\n",
        "                                                     image_size=(224, 224),\n",
        "                                                     shuffle=True,\n",
        "                                                     seed=42)"
      ]
    },
    {
      "cell_type": "markdown",
      "source": [
        "## Sequential 1"
      ],
      "metadata": {
        "id": "gkPFljqwWpKq"
      }
    },
    {
      "cell_type": "markdown",
      "source": [
        "### Loading the model"
      ],
      "metadata": {
        "id": "9N-nOfKvEYuA"
      }
    },
    {
      "cell_type": "code",
      "source": [
        "seq_1 = tf.keras.models.load_model(\n",
        "    \"/content/drive/MyDrive/MachineLearningProject/models/sequential/seq_1.keras\",\n",
        "    safe_mode=False)\n",
        "\n",
        "seq_1.summary()"
      ],
      "metadata": {
        "colab": {
          "base_uri": "https://localhost:8080/"
        },
        "id": "lalPbojgVOD6",
        "outputId": "e1a1a58d-307e-4ad0-b4bb-4433da5453ef"
      },
      "execution_count": null,
      "outputs": [
        {
          "output_type": "stream",
          "name": "stdout",
          "text": [
            "Model: \"Sequential_1\"\n",
            "_________________________________________________________________\n",
            " Layer (type)                Output Shape              Param #   \n",
            "=================================================================\n",
            " Random_horizontal_flip (Ra  (None, 224, 224, 3)       0         \n",
            " ndomFlip)                                                       \n",
            "                                                                 \n",
            " Random_contrast (RandomCon  (None, 224, 224, 3)       0         \n",
            " trast)                                                          \n",
            "                                                                 \n",
            " Per_image_standardisation   (None, 224, 224, 3)       0         \n",
            " (Lambda)                                                        \n",
            "                                                                 \n",
            " Conv_1 (Conv2D)             (None, 224, 224, 32)      896       \n",
            "                                                                 \n",
            " MaxPool_1 (MaxPooling2D)    (None, 112, 112, 32)      0         \n",
            "                                                                 \n",
            " Conv_2 (Conv2D)             (None, 112, 112, 32)      9248      \n",
            "                                                                 \n",
            " MaxPool_2 (MaxPooling2D)    (None, 56, 56, 32)        0         \n",
            "                                                                 \n",
            " Conv_3 (Conv2D)             (None, 56, 56, 32)        9248      \n",
            "                                                                 \n",
            " MaxPool_3 (MaxPooling2D)    (None, 28, 28, 32)        0         \n",
            "                                                                 \n",
            " Flatten (Flatten)           (None, 25088)             0         \n",
            "                                                                 \n",
            " Output (Dense)              (None, 1)                 25089     \n",
            "                                                                 \n",
            "=================================================================\n",
            "Total params: 44481 (173.75 KB)\n",
            "Trainable params: 44481 (173.75 KB)\n",
            "Non-trainable params: 0 (0.00 Byte)\n",
            "_________________________________________________________________\n"
          ]
        }
      ]
    },
    {
      "cell_type": "markdown",
      "source": [
        "### Compiling the model"
      ],
      "metadata": {
        "id": "a4Kr5SXLEa_C"
      }
    },
    {
      "cell_type": "code",
      "source": [
        "seq_1.compile(loss=\"binary_crossentropy\",\n",
        "              optimizer=Adam(),\n",
        "              metrics=[\"accuracy\"])"
      ],
      "metadata": {
        "id": "AwkejRx1VU62"
      },
      "execution_count": null,
      "outputs": []
    },
    {
      "cell_type": "markdown",
      "source": [
        "### Creating callbacks"
      ],
      "metadata": {
        "id": "VMrRujrdEcve"
      }
    },
    {
      "cell_type": "code",
      "source": [
        "seq_1_checkpoint = ModelCheckpoint(\n",
        "    filepath=\"/content/drive/MyDrive/MachineLearningProject/model_weights/sequential/seq_1.keras\",\n",
        "    save_weights_only=True,\n",
        "    save_best_only=False)\n",
        "\n",
        "seq_1_csv_logger = CSVLogger('/content/drive/MyDrive/MachineLearningProject/histories/sequential/seq_1.log')"
      ],
      "metadata": {
        "id": "91H9NIYkEgFy"
      },
      "execution_count": null,
      "outputs": []
    },
    {
      "cell_type": "markdown",
      "source": [
        "### Fitting the model"
      ],
      "metadata": {
        "id": "ITPq5Oa-OLGz"
      }
    },
    {
      "cell_type": "code",
      "source": [
        "seq_1_history = seq_1.fit(train_ds,\n",
        "                          epochs=50,\n",
        "                          steps_per_epoch=len(train_ds),\n",
        "                          validation_data=val_ds,\n",
        "                          validation_steps=len(val_ds),\n",
        "                          callbacks=[seq_1_checkpoint, seq_1_csv_logger])"
      ],
      "metadata": {
        "colab": {
          "base_uri": "https://localhost:8080/"
        },
        "id": "VPRnuS29Vhkc",
        "outputId": "e8388d6c-6bc4-45af-8af7-a4ccdccfea17"
      },
      "execution_count": null,
      "outputs": [
        {
          "output_type": "stream",
          "name": "stdout",
          "text": [
            "Epoch 1/50\n",
            "149/149 [==============================] - 381s 2s/step - loss: 0.4915 - accuracy: 0.7592 - val_loss: 0.3643 - val_accuracy: 0.8505\n",
            "Epoch 2/50\n",
            "149/149 [==============================] - 13s 81ms/step - loss: 0.3552 - accuracy: 0.8503 - val_loss: 0.4209 - val_accuracy: 0.8319\n",
            "Epoch 3/50\n",
            "149/149 [==============================] - 12s 80ms/step - loss: 0.2995 - accuracy: 0.8741 - val_loss: 0.3079 - val_accuracy: 0.8691\n",
            "Epoch 4/50\n",
            "149/149 [==============================] - 12s 79ms/step - loss: 0.2438 - accuracy: 0.9005 - val_loss: 0.2731 - val_accuracy: 0.8834\n",
            "Epoch 5/50\n",
            "149/149 [==============================] - 12s 80ms/step - loss: 0.1953 - accuracy: 0.9201 - val_loss: 0.2813 - val_accuracy: 0.8902\n",
            "Epoch 6/50\n",
            "149/149 [==============================] - 12s 80ms/step - loss: 0.1756 - accuracy: 0.9283 - val_loss: 0.2680 - val_accuracy: 0.8953\n",
            "Epoch 7/50\n",
            "149/149 [==============================] - 12s 80ms/step - loss: 0.1467 - accuracy: 0.9467 - val_loss: 0.3199 - val_accuracy: 0.8877\n",
            "Epoch 8/50\n",
            "149/149 [==============================] - 12s 80ms/step - loss: 0.1409 - accuracy: 0.9462 - val_loss: 0.2902 - val_accuracy: 0.8919\n",
            "Epoch 9/50\n",
            "149/149 [==============================] - 12s 79ms/step - loss: 0.0932 - accuracy: 0.9644 - val_loss: 0.2833 - val_accuracy: 0.9003\n",
            "Epoch 10/50\n",
            "149/149 [==============================] - 12s 80ms/step - loss: 0.0763 - accuracy: 0.9717 - val_loss: 0.3156 - val_accuracy: 0.8970\n",
            "Epoch 11/50\n",
            "149/149 [==============================] - 12s 80ms/step - loss: 0.0674 - accuracy: 0.9751 - val_loss: 0.3587 - val_accuracy: 0.9046\n",
            "Epoch 12/50\n",
            "149/149 [==============================] - 13s 80ms/step - loss: 0.0570 - accuracy: 0.9779 - val_loss: 0.3606 - val_accuracy: 0.9029\n",
            "Epoch 13/50\n",
            "149/149 [==============================] - 12s 80ms/step - loss: 0.0618 - accuracy: 0.9762 - val_loss: 0.4325 - val_accuracy: 0.8809\n",
            "Epoch 14/50\n",
            "149/149 [==============================] - 12s 80ms/step - loss: 0.0459 - accuracy: 0.9833 - val_loss: 0.3841 - val_accuracy: 0.9020\n",
            "Epoch 15/50\n",
            "149/149 [==============================] - 12s 79ms/step - loss: 0.0247 - accuracy: 0.9930 - val_loss: 0.4512 - val_accuracy: 0.9029\n",
            "Epoch 16/50\n",
            "149/149 [==============================] - 13s 80ms/step - loss: 0.0328 - accuracy: 0.9886 - val_loss: 0.6338 - val_accuracy: 0.8640\n",
            "Epoch 17/50\n",
            "149/149 [==============================] - 12s 80ms/step - loss: 0.0254 - accuracy: 0.9890 - val_loss: 0.5019 - val_accuracy: 0.8927\n",
            "Epoch 18/50\n",
            "149/149 [==============================] - 12s 79ms/step - loss: 0.0367 - accuracy: 0.9861 - val_loss: 0.5538 - val_accuracy: 0.8834\n",
            "Epoch 19/50\n",
            "149/149 [==============================] - 13s 80ms/step - loss: 0.0301 - accuracy: 0.9882 - val_loss: 0.4623 - val_accuracy: 0.8953\n",
            "Epoch 20/50\n",
            "149/149 [==============================] - 13s 81ms/step - loss: 0.0328 - accuracy: 0.9888 - val_loss: 0.5024 - val_accuracy: 0.9003\n",
            "Epoch 21/50\n",
            "149/149 [==============================] - 12s 80ms/step - loss: 0.0164 - accuracy: 0.9937 - val_loss: 0.5965 - val_accuracy: 0.8877\n",
            "Epoch 22/50\n",
            "149/149 [==============================] - 12s 79ms/step - loss: 0.0182 - accuracy: 0.9939 - val_loss: 0.5198 - val_accuracy: 0.9062\n",
            "Epoch 23/50\n",
            "149/149 [==============================] - 12s 79ms/step - loss: 0.0101 - accuracy: 0.9966 - val_loss: 0.5824 - val_accuracy: 0.9062\n",
            "Epoch 24/50\n",
            "149/149 [==============================] - 12s 80ms/step - loss: 0.0223 - accuracy: 0.9914 - val_loss: 0.5602 - val_accuracy: 0.9062\n",
            "Epoch 25/50\n",
            "149/149 [==============================] - 12s 80ms/step - loss: 0.0477 - accuracy: 0.9867 - val_loss: 0.5288 - val_accuracy: 0.8877\n",
            "Epoch 26/50\n",
            "149/149 [==============================] - 12s 80ms/step - loss: 0.0512 - accuracy: 0.9802 - val_loss: 0.4416 - val_accuracy: 0.8953\n",
            "Epoch 27/50\n",
            "149/149 [==============================] - 12s 80ms/step - loss: 0.0200 - accuracy: 0.9916 - val_loss: 0.5415 - val_accuracy: 0.9020\n",
            "Epoch 28/50\n",
            "149/149 [==============================] - 12s 80ms/step - loss: 0.0227 - accuracy: 0.9916 - val_loss: 0.5554 - val_accuracy: 0.8944\n",
            "Epoch 29/50\n",
            "149/149 [==============================] - 12s 79ms/step - loss: 0.0173 - accuracy: 0.9926 - val_loss: 0.5941 - val_accuracy: 0.8978\n",
            "Epoch 30/50\n",
            "149/149 [==============================] - 12s 79ms/step - loss: 0.0132 - accuracy: 0.9941 - val_loss: 0.5658 - val_accuracy: 0.9062\n",
            "Epoch 31/50\n",
            "149/149 [==============================] - 12s 78ms/step - loss: 0.0272 - accuracy: 0.9901 - val_loss: 0.5707 - val_accuracy: 0.8995\n",
            "Epoch 32/50\n",
            "149/149 [==============================] - 12s 79ms/step - loss: 0.0192 - accuracy: 0.9945 - val_loss: 0.5787 - val_accuracy: 0.9020\n",
            "Epoch 33/50\n",
            "149/149 [==============================] - 12s 79ms/step - loss: 0.0056 - accuracy: 0.9981 - val_loss: 0.6580 - val_accuracy: 0.8970\n",
            "Epoch 34/50\n",
            "149/149 [==============================] - 12s 80ms/step - loss: 0.0081 - accuracy: 0.9983 - val_loss: 0.7080 - val_accuracy: 0.8978\n",
            "Epoch 35/50\n",
            "149/149 [==============================] - 12s 80ms/step - loss: 0.0080 - accuracy: 0.9979 - val_loss: 0.5908 - val_accuracy: 0.9037\n",
            "Epoch 36/50\n",
            "149/149 [==============================] - 12s 79ms/step - loss: 0.0280 - accuracy: 0.9911 - val_loss: 0.6378 - val_accuracy: 0.8936\n",
            "Epoch 37/50\n",
            "149/149 [==============================] - 12s 80ms/step - loss: 0.0315 - accuracy: 0.9892 - val_loss: 0.6453 - val_accuracy: 0.8868\n",
            "Epoch 38/50\n",
            "149/149 [==============================] - 12s 79ms/step - loss: 0.0246 - accuracy: 0.9899 - val_loss: 0.7537 - val_accuracy: 0.8868\n",
            "Epoch 39/50\n",
            "149/149 [==============================] - 12s 80ms/step - loss: 0.0135 - accuracy: 0.9962 - val_loss: 0.6312 - val_accuracy: 0.8986\n",
            "Epoch 40/50\n",
            "149/149 [==============================] - 12s 80ms/step - loss: 0.0055 - accuracy: 0.9981 - val_loss: 0.6455 - val_accuracy: 0.9003\n",
            "Epoch 41/50\n",
            "149/149 [==============================] - 12s 79ms/step - loss: 0.0157 - accuracy: 0.9947 - val_loss: 1.1505 - val_accuracy: 0.8564\n",
            "Epoch 42/50\n",
            "149/149 [==============================] - 12s 80ms/step - loss: 0.0267 - accuracy: 0.9916 - val_loss: 0.7134 - val_accuracy: 0.8944\n",
            "Epoch 43/50\n",
            "149/149 [==============================] - 12s 78ms/step - loss: 0.0278 - accuracy: 0.9914 - val_loss: 0.7870 - val_accuracy: 0.8919\n",
            "Epoch 44/50\n",
            "149/149 [==============================] - 12s 79ms/step - loss: 0.0179 - accuracy: 0.9947 - val_loss: 0.7691 - val_accuracy: 0.8936\n",
            "Epoch 45/50\n",
            "149/149 [==============================] - 12s 79ms/step - loss: 0.0039 - accuracy: 0.9989 - val_loss: 0.7652 - val_accuracy: 0.9012\n",
            "Epoch 46/50\n",
            "149/149 [==============================] - 12s 78ms/step - loss: 0.0025 - accuracy: 0.9992 - val_loss: 0.8569 - val_accuracy: 0.8834\n",
            "Epoch 47/50\n",
            "149/149 [==============================] - 12s 79ms/step - loss: 0.0012 - accuracy: 0.9998 - val_loss: 0.8265 - val_accuracy: 0.8986\n",
            "Epoch 48/50\n",
            "149/149 [==============================] - 12s 79ms/step - loss: 0.0014 - accuracy: 0.9996 - val_loss: 0.8408 - val_accuracy: 0.8986\n",
            "Epoch 49/50\n",
            "149/149 [==============================] - 12s 79ms/step - loss: 0.0016 - accuracy: 0.9996 - val_loss: 0.8513 - val_accuracy: 0.8978\n",
            "Epoch 50/50\n",
            "149/149 [==============================] - 12s 79ms/step - loss: 0.0013 - accuracy: 0.9994 - val_loss: 0.9531 - val_accuracy: 0.8919\n"
          ]
        }
      ]
    },
    {
      "cell_type": "markdown",
      "source": [
        "## Sequential 2"
      ],
      "metadata": {
        "id": "MyTVjPwqWlWS"
      }
    },
    {
      "cell_type": "markdown",
      "source": [
        "### Loading the model"
      ],
      "metadata": {
        "id": "8DACkvvROGGz"
      }
    },
    {
      "cell_type": "code",
      "execution_count": null,
      "metadata": {
        "id": "5h2-UJNmS24l",
        "colab": {
          "base_uri": "https://localhost:8080/"
        },
        "outputId": "bdc606f8-beb2-4411-cdfe-1ee20cb4c9ae"
      },
      "outputs": [
        {
          "output_type": "stream",
          "name": "stdout",
          "text": [
            "Model: \"Sequential_2\"\n",
            "_________________________________________________________________\n",
            " Layer (type)                Output Shape              Param #   \n",
            "=================================================================\n",
            " Random_horizontal_flip (Ra  (None, 224, 224, 3)       0         \n",
            " ndomFlip)                                                       \n",
            "                                                                 \n",
            " Random_contrast (RandomCon  (None, 224, 224, 3)       0         \n",
            " trast)                                                          \n",
            "                                                                 \n",
            " Per_image_standardisation   (None, 224, 224, 3)       0         \n",
            " (Lambda)                                                        \n",
            "                                                                 \n",
            " Conv_1 (Conv2D)             (None, 224, 224, 128)     3584      \n",
            "                                                                 \n",
            " ReLU_1 (ReLU)               (None, 224, 224, 128)     0         \n",
            "                                                                 \n",
            " BatchNorm_1 (BatchNormaliz  (None, 224, 224, 128)     512       \n",
            " ation)                                                          \n",
            "                                                                 \n",
            " AvgPool_1 (AveragePooling2  (None, 112, 112, 128)     0         \n",
            " D)                                                              \n",
            "                                                                 \n",
            " Conv_2 (Conv2D)             (None, 112, 112, 128)     147584    \n",
            "                                                                 \n",
            " ReLU_2 (ReLU)               (None, 112, 112, 128)     0         \n",
            "                                                                 \n",
            " BatchNorm_2 (BatchNormaliz  (None, 112, 112, 128)     512       \n",
            " ation)                                                          \n",
            "                                                                 \n",
            " AvgPool_2 (AveragePooling2  (None, 56, 56, 128)       0         \n",
            " D)                                                              \n",
            "                                                                 \n",
            " Conv_3 (Conv2D)             (None, 56, 56, 64)        73792     \n",
            "                                                                 \n",
            " ReLU_3 (ReLU)               (None, 56, 56, 64)        0         \n",
            "                                                                 \n",
            " BatchNorm_3 (BatchNormaliz  (None, 56, 56, 64)        256       \n",
            " ation)                                                          \n",
            "                                                                 \n",
            " AvgPool_3 (AveragePooling2  (None, 28, 28, 64)        0         \n",
            " D)                                                              \n",
            "                                                                 \n",
            " Conv_4 (Conv2D)             (None, 28, 28, 64)        36928     \n",
            "                                                                 \n",
            " PReLU_1 (PReLU)             (None, 28, 28, 64)        50176     \n",
            "                                                                 \n",
            " BatchNorm_4 (BatchNormaliz  (None, 28, 28, 64)        256       \n",
            " ation)                                                          \n",
            "                                                                 \n",
            " AvgPool_4 (AveragePooling2  (None, 14, 14, 64)        0         \n",
            " D)                                                              \n",
            "                                                                 \n",
            " Conv_5 (Conv2D)             (None, 14, 14, 32)        18464     \n",
            "                                                                 \n",
            " PReLU_2 (PReLU)             (None, 14, 14, 32)        6272      \n",
            "                                                                 \n",
            " BatchNorm_5 (BatchNormaliz  (None, 14, 14, 32)        128       \n",
            " ation)                                                          \n",
            "                                                                 \n",
            " AvgPool_5 (AveragePooling2  (None, 7, 7, 32)          0         \n",
            " D)                                                              \n",
            "                                                                 \n",
            " Flatten (Flatten)           (None, 1568)              0         \n",
            "                                                                 \n",
            " Output (Dense)              (None, 1)                 1569      \n",
            "                                                                 \n",
            "=================================================================\n",
            "Total params: 340033 (1.30 MB)\n",
            "Trainable params: 339201 (1.29 MB)\n",
            "Non-trainable params: 832 (3.25 KB)\n",
            "_________________________________________________________________\n"
          ]
        }
      ],
      "source": [
        "seq_2 = tf.keras.models.load_model(\n",
        "    \"/content/drive/MyDrive/MachineLearningProject/models/sequential/seq_2.keras\",\n",
        "    safe_mode=False)\n",
        "\n",
        "seq_2.summary()"
      ]
    },
    {
      "cell_type": "markdown",
      "source": [
        "### Hyperparameter tuning"
      ],
      "metadata": {
        "id": "Av8nvk_H88R4"
      }
    },
    {
      "cell_type": "code",
      "source": [
        "hp_model = tf.keras.models.load_model(\n",
        "        \"/content/drive/MyDrive/MachineLearningProject/models/sequential/seq_2.keras\",\n",
        "        safe_mode=False)\n",
        "\n",
        "def model_builder(hp, model=hp_model):\n",
        "\n",
        "  # Learning Rate\n",
        "  hp_learning_rate = hp.Choice(name=\"learning_rate\",\n",
        "                               values = [0.01, 0.0075, 0.005, 0.0025, 0.001, 0.0005])\n",
        "\n",
        "  # Compiling the model\n",
        "  model.compile(loss=\"binary_crossentropy\",\n",
        "                optimizer=Adam(learning_rate=hp_learning_rate),\n",
        "                metrics=[\"accuracy\"])\n",
        "\n",
        "  return model"
      ],
      "metadata": {
        "id": "QmYo0j7g1zMy"
      },
      "execution_count": null,
      "outputs": []
    },
    {
      "cell_type": "code",
      "source": [
        "tuner = kt.BayesianOptimization(model_builder,\n",
        "                                objective=\"val_accuracy\",\n",
        "                                max_trials=10,\n",
        "                                directory=\"content/drive/MyDrive/MachineLearningProject/tuner\",\n",
        "                                project_name=\"lr_tuner\")\n",
        "\n",
        "tuner.search_space_summary(train_ds)"
      ],
      "metadata": {
        "id": "zE87NEwa2YPG",
        "colab": {
          "base_uri": "https://localhost:8080/"
        },
        "outputId": "4b71dd36-92ec-4c2b-f66d-e5f39849f40b"
      },
      "execution_count": null,
      "outputs": [
        {
          "output_type": "stream",
          "name": "stdout",
          "text": [
            "Search space summary\n",
            "Default search space size: 1\n",
            "learning_rate (Choice)\n",
            "{'default': 0.01, 'conditions': [], 'values': [0.01, 0.0075, 0.005, 0.0025, 0.001, 0.0005], 'ordered': True}\n"
          ]
        }
      ]
    },
    {
      "cell_type": "code",
      "source": [
        "tuner.search(train_ds,\n",
        "             epochs=10,\n",
        "             validation_data=val_ds)\n",
        "\n",
        "best_hyperparameters = tuner.get_best_hyperparameters()[0]\n",
        "best_hyperparameters.values"
      ],
      "metadata": {
        "colab": {
          "base_uri": "https://localhost:8080/"
        },
        "id": "PFz9Z4nb3nKC",
        "outputId": "9e63a70e-f830-4fcb-e852-863d3dae7d5f"
      },
      "execution_count": null,
      "outputs": [
        {
          "output_type": "stream",
          "name": "stdout",
          "text": [
            "Trial 10 Complete [00h 02m 07s]\n",
            "val_accuracy: 0.9476351141929626\n",
            "\n",
            "Best val_accuracy So Far: 0.9476351141929626\n",
            "Total elapsed time: 00h 21m 17s\n"
          ]
        },
        {
          "output_type": "execute_result",
          "data": {
            "text/plain": [
              "{'learning_rate': 0.001}"
            ]
          },
          "metadata": {},
          "execution_count": 14
        }
      ]
    },
    {
      "cell_type": "code",
      "source": [
        "best_lr = best_hyperparameters.values[\"learning_rate\"]"
      ],
      "metadata": {
        "id": "8MZ7-9P5AXlx"
      },
      "execution_count": null,
      "outputs": []
    },
    {
      "cell_type": "markdown",
      "source": [
        "### Compiling the model"
      ],
      "metadata": {
        "id": "WRujJ-uBOHqp"
      }
    },
    {
      "cell_type": "code",
      "execution_count": null,
      "metadata": {
        "id": "G18RNB0JXyQQ"
      },
      "outputs": [],
      "source": [
        "seq_2.compile(loss=\"binary_crossentropy\",\n",
        "              optimizer=Adam(learning_rate=best_lr),\n",
        "              metrics=[\"accuracy\"])"
      ]
    },
    {
      "cell_type": "markdown",
      "source": [
        "### Creating callbacks"
      ],
      "metadata": {
        "id": "ms9b2shEOPCg"
      }
    },
    {
      "cell_type": "code",
      "source": [
        "seq_2_checkpoint = tf.keras.callbacks.ModelCheckpoint(\n",
        "    filepath=\"/content/drive/MyDrive/MachineLearningProject/model_weights/sequential/seq_2.keras\",\n",
        "    save_weights_only=True,\n",
        "    save_best_only=False)\n",
        "\n",
        "seq_2_csv_logger = CSVLogger('/content/drive/MyDrive/MachineLearningProject/histories/sequential/seq_2.log')"
      ],
      "metadata": {
        "id": "WdJNIYQ2OOmk"
      },
      "execution_count": null,
      "outputs": []
    },
    {
      "cell_type": "markdown",
      "source": [
        "### Fitting the model"
      ],
      "metadata": {
        "id": "kwVfxbQfONXZ"
      }
    },
    {
      "cell_type": "code",
      "execution_count": null,
      "metadata": {
        "id": "uT0lowJzR59x",
        "colab": {
          "base_uri": "https://localhost:8080/"
        },
        "outputId": "4ecffa27-6216-4f64-8bc5-1faf3df77c7f"
      },
      "outputs": [
        {
          "output_type": "stream",
          "name": "stdout",
          "text": [
            "Epoch 1/50\n",
            "149/149 [==============================] - 17s 80ms/step - loss: 0.4303 - accuracy: 0.8100 - val_loss: 0.4492 - val_accuracy: 0.8100\n",
            "Epoch 2/50\n",
            "149/149 [==============================] - 13s 83ms/step - loss: 0.3307 - accuracy: 0.8670 - val_loss: 0.3813 - val_accuracy: 0.8674\n",
            "Epoch 3/50\n",
            "149/149 [==============================] - 13s 82ms/step - loss: 0.2835 - accuracy: 0.8836 - val_loss: 0.3019 - val_accuracy: 0.8860\n",
            "Epoch 4/50\n",
            "149/149 [==============================] - 13s 82ms/step - loss: 0.2446 - accuracy: 0.8975 - val_loss: 0.2673 - val_accuracy: 0.8834\n",
            "Epoch 5/50\n",
            "149/149 [==============================] - 13s 81ms/step - loss: 0.2149 - accuracy: 0.9117 - val_loss: 0.2496 - val_accuracy: 0.9054\n",
            "Epoch 6/50\n",
            "149/149 [==============================] - 13s 82ms/step - loss: 0.1980 - accuracy: 0.9165 - val_loss: 0.2614 - val_accuracy: 0.9046\n",
            "Epoch 7/50\n",
            "149/149 [==============================] - 13s 81ms/step - loss: 0.1828 - accuracy: 0.9260 - val_loss: 0.2589 - val_accuracy: 0.8944\n",
            "Epoch 8/50\n",
            "149/149 [==============================] - 13s 82ms/step - loss: 0.1646 - accuracy: 0.9359 - val_loss: 0.2305 - val_accuracy: 0.9096\n",
            "Epoch 9/50\n",
            "149/149 [==============================] - 13s 82ms/step - loss: 0.1516 - accuracy: 0.9395 - val_loss: 0.2330 - val_accuracy: 0.9155\n",
            "Epoch 10/50\n",
            "149/149 [==============================] - 13s 82ms/step - loss: 0.1355 - accuracy: 0.9473 - val_loss: 0.2355 - val_accuracy: 0.9122\n",
            "Epoch 11/50\n",
            "149/149 [==============================] - 13s 82ms/step - loss: 0.1299 - accuracy: 0.9488 - val_loss: 0.1906 - val_accuracy: 0.9248\n",
            "Epoch 12/50\n",
            "149/149 [==============================] - 13s 81ms/step - loss: 0.1120 - accuracy: 0.9585 - val_loss: 0.2285 - val_accuracy: 0.9096\n",
            "Epoch 13/50\n",
            "149/149 [==============================] - 13s 82ms/step - loss: 0.1160 - accuracy: 0.9549 - val_loss: 0.2258 - val_accuracy: 0.9198\n",
            "Epoch 14/50\n",
            "149/149 [==============================] - 13s 83ms/step - loss: 0.1113 - accuracy: 0.9555 - val_loss: 0.2036 - val_accuracy: 0.9189\n",
            "Epoch 15/50\n",
            "149/149 [==============================] - 13s 82ms/step - loss: 0.0998 - accuracy: 0.9614 - val_loss: 0.2187 - val_accuracy: 0.9198\n",
            "Epoch 16/50\n",
            "149/149 [==============================] - 13s 82ms/step - loss: 0.0856 - accuracy: 0.9696 - val_loss: 0.1825 - val_accuracy: 0.9333\n",
            "Epoch 17/50\n",
            "149/149 [==============================] - 13s 81ms/step - loss: 0.0660 - accuracy: 0.9764 - val_loss: 0.2114 - val_accuracy: 0.9189\n",
            "Epoch 18/50\n",
            "149/149 [==============================] - 13s 82ms/step - loss: 0.0758 - accuracy: 0.9694 - val_loss: 0.2168 - val_accuracy: 0.9139\n",
            "Epoch 19/50\n",
            "149/149 [==============================] - 13s 83ms/step - loss: 0.0885 - accuracy: 0.9648 - val_loss: 0.2543 - val_accuracy: 0.9088\n",
            "Epoch 20/50\n",
            "149/149 [==============================] - 13s 82ms/step - loss: 0.0856 - accuracy: 0.9665 - val_loss: 0.2250 - val_accuracy: 0.9189\n",
            "Epoch 21/50\n",
            "149/149 [==============================] - 13s 81ms/step - loss: 0.0671 - accuracy: 0.9732 - val_loss: 0.1831 - val_accuracy: 0.9400\n",
            "Epoch 22/50\n",
            "149/149 [==============================] - 13s 81ms/step - loss: 0.0549 - accuracy: 0.9793 - val_loss: 0.2246 - val_accuracy: 0.9215\n",
            "Epoch 23/50\n",
            "149/149 [==============================] - 13s 82ms/step - loss: 0.0656 - accuracy: 0.9764 - val_loss: 0.1844 - val_accuracy: 0.9383\n",
            "Epoch 24/50\n",
            "149/149 [==============================] - 13s 81ms/step - loss: 0.0576 - accuracy: 0.9791 - val_loss: 0.2316 - val_accuracy: 0.9215\n",
            "Epoch 25/50\n",
            "149/149 [==============================] - 13s 81ms/step - loss: 0.0605 - accuracy: 0.9772 - val_loss: 0.2435 - val_accuracy: 0.9215\n",
            "Epoch 26/50\n",
            "149/149 [==============================] - 13s 81ms/step - loss: 0.0529 - accuracy: 0.9825 - val_loss: 0.2421 - val_accuracy: 0.9231\n",
            "Epoch 27/50\n",
            "149/149 [==============================] - 13s 81ms/step - loss: 0.0556 - accuracy: 0.9793 - val_loss: 0.2368 - val_accuracy: 0.9198\n",
            "Epoch 28/50\n",
            "149/149 [==============================] - 13s 81ms/step - loss: 0.0404 - accuracy: 0.9852 - val_loss: 0.2007 - val_accuracy: 0.9375\n",
            "Epoch 29/50\n",
            "149/149 [==============================] - 13s 81ms/step - loss: 0.0358 - accuracy: 0.9876 - val_loss: 0.2427 - val_accuracy: 0.9240\n",
            "Epoch 30/50\n",
            "149/149 [==============================] - 13s 82ms/step - loss: 0.0288 - accuracy: 0.9909 - val_loss: 0.2653 - val_accuracy: 0.9248\n",
            "Epoch 31/50\n",
            "149/149 [==============================] - 13s 82ms/step - loss: 0.0237 - accuracy: 0.9920 - val_loss: 0.2243 - val_accuracy: 0.9400\n",
            "Epoch 32/50\n",
            "149/149 [==============================] - 13s 81ms/step - loss: 0.0268 - accuracy: 0.9911 - val_loss: 0.2971 - val_accuracy: 0.9215\n",
            "Epoch 33/50\n",
            "149/149 [==============================] - 13s 82ms/step - loss: 0.0239 - accuracy: 0.9903 - val_loss: 0.2084 - val_accuracy: 0.9459\n",
            "Epoch 34/50\n",
            "149/149 [==============================] - 13s 81ms/step - loss: 0.0204 - accuracy: 0.9926 - val_loss: 0.2409 - val_accuracy: 0.9341\n",
            "Epoch 35/50\n",
            "149/149 [==============================] - 13s 82ms/step - loss: 0.0272 - accuracy: 0.9905 - val_loss: 0.2153 - val_accuracy: 0.9375\n",
            "Epoch 36/50\n",
            "149/149 [==============================] - 13s 82ms/step - loss: 0.0273 - accuracy: 0.9901 - val_loss: 0.2647 - val_accuracy: 0.9215\n",
            "Epoch 37/50\n",
            "149/149 [==============================] - 13s 82ms/step - loss: 0.0272 - accuracy: 0.9892 - val_loss: 0.2523 - val_accuracy: 0.9358\n",
            "Epoch 38/50\n",
            "149/149 [==============================] - 13s 83ms/step - loss: 0.0282 - accuracy: 0.9897 - val_loss: 0.2822 - val_accuracy: 0.9307\n",
            "Epoch 39/50\n",
            "149/149 [==============================] - 13s 82ms/step - loss: 0.0228 - accuracy: 0.9909 - val_loss: 0.2346 - val_accuracy: 0.9417\n",
            "Epoch 40/50\n",
            "149/149 [==============================] - 13s 82ms/step - loss: 0.0165 - accuracy: 0.9947 - val_loss: 0.2141 - val_accuracy: 0.9485\n",
            "Epoch 41/50\n",
            "149/149 [==============================] - 12s 80ms/step - loss: 0.0172 - accuracy: 0.9952 - val_loss: 0.2287 - val_accuracy: 0.9367\n",
            "Epoch 42/50\n",
            "149/149 [==============================] - 13s 81ms/step - loss: 0.0174 - accuracy: 0.9949 - val_loss: 0.2709 - val_accuracy: 0.9324\n",
            "Epoch 43/50\n",
            "149/149 [==============================] - 12s 80ms/step - loss: 0.0239 - accuracy: 0.9916 - val_loss: 0.2683 - val_accuracy: 0.9291\n",
            "Epoch 44/50\n",
            "149/149 [==============================] - 13s 82ms/step - loss: 0.0248 - accuracy: 0.9909 - val_loss: 0.2874 - val_accuracy: 0.9307\n",
            "Epoch 45/50\n",
            "149/149 [==============================] - 13s 81ms/step - loss: 0.0197 - accuracy: 0.9926 - val_loss: 0.2835 - val_accuracy: 0.9383\n",
            "Epoch 46/50\n",
            "149/149 [==============================] - 13s 81ms/step - loss: 0.0251 - accuracy: 0.9892 - val_loss: 0.2697 - val_accuracy: 0.9392\n",
            "Epoch 47/50\n",
            "149/149 [==============================] - 13s 81ms/step - loss: 0.0381 - accuracy: 0.9863 - val_loss: 0.4514 - val_accuracy: 0.9020\n",
            "Epoch 48/50\n",
            "149/149 [==============================] - 13s 82ms/step - loss: 0.0444 - accuracy: 0.9850 - val_loss: 0.3108 - val_accuracy: 0.9307\n",
            "Epoch 49/50\n",
            "149/149 [==============================] - 13s 82ms/step - loss: 0.0347 - accuracy: 0.9876 - val_loss: 0.2921 - val_accuracy: 0.9282\n",
            "Epoch 50/50\n",
            "149/149 [==============================] - 13s 81ms/step - loss: 0.0179 - accuracy: 0.9945 - val_loss: 0.2362 - val_accuracy: 0.9443\n"
          ]
        }
      ],
      "source": [
        "seq_2_history = seq_2.fit(train_ds,\n",
        "                          epochs=50,\n",
        "                          steps_per_epoch=len(train_ds),\n",
        "                          validation_data=val_ds,\n",
        "                          validation_steps=len(val_ds),\n",
        "                          callbacks=[seq_2_checkpoint, seq_2_csv_logger])"
      ]
    }
  ],
  "metadata": {
    "colab": {
      "provenance": [],
      "gpuType": "A100",
      "machine_shape": "hm"
    },
    "kernelspec": {
      "display_name": "Python 3",
      "name": "python3"
    },
    "language_info": {
      "name": "python"
    },
    "accelerator": "GPU"
  },
  "nbformat": 4,
  "nbformat_minor": 0
}